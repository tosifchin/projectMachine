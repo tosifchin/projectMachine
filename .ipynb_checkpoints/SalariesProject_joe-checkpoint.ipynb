{
 "cells": [
  {
   "cell_type": "code",
   "execution_count": 1,
   "metadata": {
    "collapsed": true
   },
   "outputs": [],
   "source": [
    "import pandas as pd\n",
    "import numpy as np\n",
    "from sklearn import linear_model\n",
    "from sklearn import ensemble  #for random forest\n",
    "from sklearn.cross_validation import train_test_split"
   ]
  },
  {
   "cell_type": "code",
   "execution_count": 2,
   "metadata": {
    "collapsed": false
   },
   "outputs": [
    {
     "name": "stdout",
     "output_type": "stream",
     "text": [
      "(144158, 20) (2461, 7) (2662, 49)\n"
     ]
    }
   ],
   "source": [
    "#import the three data tables - employees.csv, headers.csv, public_schools.csv\n",
    "#and merge them by county,district and school codes\n",
    "employees_df = pd.read_csv(\"employees.csv\")\n",
    "headers_df = pd.read_csv(\"headers.csv\")\n",
    "schools_df = pd.read_csv(\"public_schools.csv\")\n",
    "print employees_df.shape, headers_df.shape, schools_df.shape"
   ]
  },
  {
   "cell_type": "code",
   "execution_count": 3,
   "metadata": {
    "collapsed": false
   },
   "outputs": [
    {
     "name": "stdout",
     "output_type": "stream",
     "text": [
      "(2568, 53)\n",
      "0\n",
      "[]\n"
     ]
    },
    {
     "name": "stderr",
     "output_type": "stream",
     "text": [
      "/usr/local/lib/python2.7/site-packages/pandas/core/indexing.py:115: SettingWithCopyWarning: \n",
      "A value is trying to be set on a copy of a slice from a DataFrame\n",
      "\n",
      "See the caveats in the documentation: http://pandas.pydata.org/pandas-docs/stable/indexing.html#indexing-view-versus-copy\n",
      "  self._setitem_with_indexer(indexer, value)\n"
     ]
    }
   ],
   "source": [
    "#clean up some of the values so that they can be joined with the school headers data:\n",
    "#employee text values do not have commas or apostrophes so remove them from the school data values\n",
    "headers_df.school = headers_df.school.str.replace(\"'\",'')\n",
    "headers_df.district = headers_df.district.str.replace(\"'\",'')\n",
    "schools_df.school_name = schools_df.school_name.str.replace(\"'\",'')\n",
    "schools_df.district_name = schools_df.district_name.str.replace(\"'\",'')\n",
    "\n",
    "headers_df.school = headers_df.school.str.replace(\",\",'')\n",
    "headers_df.district = headers_df.district.str.replace(\",\",'')\n",
    "schools_df.school_name = schools_df.school_name.str.replace(\",\",'')\n",
    "schools_df.district_name = schools_df.district_name.str.replace(\",\",'')\n",
    "\n",
    "#correct the fact that 7s appeared as CE in the employee file\n",
    "employees_df.school = employees_df.school.str.replace('RAHWAY CETH','RAHWAY 7TH')\n",
    "employees_df.school = employees_df.school.str.replace('ROOSEVELT SCHOOL #CE','ROOSEVELT SCHOOL #7')\n",
    "employees_df.school = employees_df.school.str.replace('ANTONIA PANTOJA SCHOOL NO. 2CE','ANTONIA PANTOJA SCHOOL NO. 27')\n",
    "employees_df.school = employees_df.school.str.replace('#1CE','#17')\n",
    "employees_df.school = employees_df.school.str.replace('SCHOOL 2CE','SCHOOL 27')\n",
    "employees_df.school = employees_df.school.str.replace('ULYSSES S. GRANT SCHOOL # CE','ULYSSES S. GRANT SCHOOL # 7')\n",
    "employees_df.school = employees_df.school.str.replace('SCHOOL CE','SCHOOL 7')\n",
    "employees_df.school = employees_df.school.str.replace('TERENCE C. REILLY SCHOOL # CE','TERENCE C. REILLY SCHOOL # 7')\n",
    "employees_df.school = employees_df.school.str.replace('SCHOOL # 1CE','SCHOOL # 17')\n",
    "employees_df.school = employees_df.school.str.replace('BELLEVILLE PSCE','BELLEVILLE PS7')\n",
    "\n",
    "#correct various mismatches in the data:\n",
    "employees_df.district = employees_df.district.str.replace(' VC',' VOCATIONAL')\n",
    "\n",
    "headers_df.school.loc[(headers_df.school == 'LINCOLN ELEMENTARY SCHOOL') & (headers_df.district == 'KEARNY TOWN')] \\\n",
    "                      = 'LINCOLN MIDDLE SCHOOL'\n",
    "headers_df.school.loc[(headers_df.school == 'SCHOOL OF SCIENCE TECHNOLOGY ENGG & MATHEMATICS') & \\\n",
    "                     (headers_df['district'] == 'PATERSON CITY')] \\\n",
    "                    = 'SCHOOL OF SCIENCE TECHNOLOGY ENGINEERING AND MATHEMATICS'\n",
    "\n",
    "schools_df.district_code.loc[(schools_df['school_name'] == 'LAMBERTVILLE PUBLIC SCHOOL')] = 2530\n",
    "schools_df.school_code.loc[(schools_df['school_name'] == 'LAMBERTVILLE PUBLIC SCHOOL')]= 50\n",
    "schools_df.school_code.loc[(schools_df['school_name'] == 'HENRY L. BONSALL FAMILY SCHOOL')] = 100\n",
    "schools_df.school_code.loc[(schools_df['school_name'] == 'FRANCIS X. MCGRAW ELEMENTARY')] = 230\n",
    "schools_df.school_code.loc[(schools_df['school_name'] == 'RAFAEL CORDERO MOLINA ELEMENTARY SCHOOL')] = 250\n",
    "schools_df.school_code.loc[(schools_df['school_name'] == 'JOHN GREENLEAF WHITTIER FAMILY SCHOOL')] = 340\n",
    "schools_df.district_code.loc[(schools_df['school_name'] == 'SOUTH HUNTERDON HIGH SCHOOL')] = 4890\n",
    "schools_df.district_code.loc[(schools_df['school_name'] == 'STOCKTON BOROUGH SCHOOL')] = 5050\n",
    "schools_df.school_code.loc[(schools_df['school_name'] == 'STOCKTON BOROUGH SCHOOL')]  = 50\n",
    "\n",
    "    \n",
    "headers_df = pd.merge(headers_df, schools_df, how='left', on=['county_code','district_code', 'school_code'])\n",
    "\n",
    "remaining = pd.DataFrame([\n",
    "    ['GRETTA R. OSTROVSKY MIDDLE SCHOOL',    -74.08466,     40.84146],\n",
    "    ['JR/SR HIGH SCHOOL',    -74.81260,     40.04495],\n",
    "    ['EAST CAMDEN MIDDLE SCHOOL',    -75.12285,     39.95576],\n",
    "    ['PYNE POYNT MIDDLE SCHOOL',    -75.12696,    39.93595],\n",
    "    ['STOCKTON BOROUGH SCHOOL DISTRICT',    -74.49987,     40.16706],\n",
    "    ['WEST AMWELL TOWNSHIP',   -74.11532,     40.91506],\n",
    "    ['MONUMENT ELEMENTARY SCHOOL',   -74.71268,     40.26977],\n",
    "    ['AUDREY W. CLARK ELEMENTARY SCHOOL',    -73.98236,     40.30576],\n",
    "    ['BOUND BROOK ELEMENTARY SCHOOL',    -74.47620,     40.58596],\n",
    "    ['VISIONS ACADEMY CHARTER HIGH SCHOOL',    -74.49987,     40.16706],\n",
    "    ['CENTRAL JERSEY ARTS CHARTER SCHOOL',   -75.50865,     39.66265],\n",
    "    ['GALLOWAY COMMUNITY CHARTER SCHOOL',    -74.49987,     40.16706]])\n",
    "remaining.columns = ['school','latitude','longitude']\n",
    "#print remaining\n",
    "for i in range(remaining.shape[0]):\n",
    "    headers_df.latitude.loc[headers_df['school'] == remaining.school.iloc[i]] = remaining.latitude.iloc[i]\n",
    "    headers_df.longitude.loc[headers_df['school'] == remaining.school.iloc[i]] = remaining.longitude.iloc[i]\n",
    "    \n",
    "print headers_df.shape\n",
    "probs = pd.isnull(headers_df.latitude).nonzero()[0]\n",
    "print len(probs)\n",
    "print probs\n",
    "headers_df.iloc[probs]\n",
    "\n",
    "headers_df.school.loc[headers_df.school == 'WEST MILFORD TOWNSHIP HIGH SCHOOL'] = 'WEST MILFORD HIGH SCHOOL'\n",
    "headers_df.school.loc[headers_df.school == 'HIGH POINT REGIONAL HS'] ='HIGH POINT REGIONAL HIGH SCHOOL'\n",
    "headers_df.school.loc[headers_df.school == 'SUMMIT SENIOR HIGH SCHOOL'] = 'SUMMIT HIGH SCHOOL'\n",
    "headers_df.school.loc[headers_df.school == 'HAMBURG BORO'] ='HAMBURG SCHOOL'\n",
    "headers_df.school.loc[headers_df.school == 'MAHWAH HIGH'] ='MAHWAH HIGH SCHOOL'\n",
    "headers_df.school.loc[headers_df.school == 'JOYCE KILMER'] = 'JOYCE KILMER SCHOOL'\n",
    "headers_df.school.loc[headers_df.school == 'BETSY ROSS'] = 'BETSY ROSS ELEMENTARY'\n",
    "headers_df.school.loc[headers_df.school == 'GEORGE WASHINGTON'] = 'GEORGE WASHINGTON SCHOOL'\n",
    "employees_df.school.loc[employees_df.school == 'BULINGTON CITY HIGH SCHOOL'] = 'BURLINGTON CITY HIGH SCHOOL'\n",
    "headers_df.school.loc[headers_df.school == 'CLEMENTON ELEMENTARY SCHOOL'] = 'CLEMENTON ELEMENTARY SCHOOL DISTRICT'\n",
    "headers_df.school.loc[headers_df.school == 'ALEXANDER DENBO SCHOOL'] = 'ALEXANDER DENBO/ALETTA CRICHTON SCHOOL'\n",
    "headers_df.school.loc[headers_df.school == 'SOMERDALE PARK SCHOOL'] = 'SOMERDALE SCHOOL DISTRICT'\n",
    "headers_df.school.loc[headers_df.school == 'MAURICE RIVER TOWNSHIP ELEMENTARY SCHOOL'] = 'MAURICE RIVER TOWNSHIP SCHOOL DISTRICT'\n",
    "headers_df.school.loc[headers_df.school == 'FREEDOM ACADEMY CHARTER SCHOOL'] = 'FREEDOM PREP CHARTER SCHOOL'\n",
    "headers_df.school.loc[headers_df.school == 'LINCOLN/ROOSEVELT SCHOOL'] = 'LINCOLN/ROOSEVELT SCHOOL DISTRICT'\n",
    "headers_df.school.loc[headers_df.school == 'NIXON ELEMENTARY SCHOOL'] = 'NIXON ELEMENTARY SCHOOL DISTRICT'\n",
    "headers_df.school.loc[headers_df.school == 'ROXBURY HIGH SCHOOL'] = 'ROXBURY HIGH SCHOOL DISTRICT'\n",
    "headers_df.school.loc[headers_df.school == 'KITTATINNY REGIONAL SCHOOL'] = 'KITTATINNY HIGH SCHOOL DISTRICT'\n",
    "\n",
    "#merge the salary data with the combined school datafiles\n",
    "salaries = pd.merge(employees_df, headers_df, how='left', on=['county','district', 'school'])\n",
    "\n"
   ]
  },
  {
   "cell_type": "code",
   "execution_count": 4,
   "metadata": {
    "collapsed": false
   },
   "outputs": [
    {
     "name": "stdout",
     "output_type": "stream",
     "text": [
      "(149196, 70)\n",
      "9026\n"
     ]
    },
    {
     "data": {
      "text/plain": [
       "array([    40,     41,     42, ..., 149097, 149103, 149126])"
      ]
     },
     "execution_count": 4,
     "metadata": {},
     "output_type": "execute_result"
    }
   ],
   "source": [
    "#check how many problem records (i.e. null latitudes) remain\n",
    "print salaries.shape\n",
    "probs = pd.isnull(salaries.latitude).nonzero()[0]\n",
    "print len(probs)\n",
    "salaries.iloc[probs]\n",
    "probs\n"
   ]
  },
  {
   "cell_type": "code",
   "execution_count": 5,
   "metadata": {
    "collapsed": false
   },
   "outputs": [
    {
     "name": "stdout",
     "output_type": "stream",
     "text": [
      "6474\n"
     ]
    }
   ],
   "source": [
    "#what to do with those DISTRICT OFFICE values in school?  \n",
    "#will impute the mean lat and long for the district and county.\n",
    "dist_office = salaries['school'].map(lambda x: x =='DISTRICT OFFICE')\n",
    "print sum(dist_office)"
   ]
  },
  {
   "cell_type": "code",
   "execution_count": 6,
   "metadata": {
    "collapsed": false
   },
   "outputs": [
    {
     "name": "stdout",
     "output_type": "stream",
     "text": [
      "6474\n",
      "[ 40  41  42  44  45  46  47  48  49  92  93  94  95 107 108 119 120 121\n",
      " 128 129]\n",
      "before set:  nan nan\n",
      "after set:  40.3288218554 -74.7970826145\n"
     ]
    }
   ],
   "source": [
    "avg_lat_per_county_dist = salaries[-dist_office].groupby(['county','district']).mean()\n",
    "\n",
    "salaries['county_district'] = zip(salaries.county, salaries.district)\n",
    "\n",
    "#get the indices of the district office records\n",
    "dist_office_idxs = dist_office.nonzero()[0]\n",
    "print len(dist_office_idxs)\n",
    "print dist_office_idxs[range(20)]\n",
    "print \"before set: \", salaries.latitude[41], salaries.longitude[41]\n",
    "#for each district office record, get the avg latitude for that county, district combination and put into a series\n",
    "#then do the same for longitude\n",
    "avg_lat_for_dist_office_recs = salaries.county_district.iloc[dist_office_idxs].map(lambda x: \\\n",
    "                                                               avg_lat_per_county_dist.latitude.loc[x])\n",
    "avg_long_for_dist_office_recs = salaries.county_district.iloc[dist_office_idxs].map(lambda x: \\\n",
    "                                                               avg_lat_per_county_dist.longitude.loc[x])\n",
    "\n",
    "salaries.latitude.iloc[dist_office_idxs] = avg_lat_for_dist_office_recs\n",
    "salaries.longitude.iloc[dist_office_idxs] = avg_long_for_dist_office_recs\n",
    "\n",
    "print \"after set: \", salaries.latitude[41], salaries.longitude[41]"
   ]
  },
  {
   "cell_type": "code",
   "execution_count": 7,
   "metadata": {
    "collapsed": false
   },
   "outputs": [
    {
     "name": "stdout",
     "output_type": "stream",
     "text": [
      "(149196, 71)\n",
      "2564\n"
     ]
    }
   ],
   "source": [
    "#check how many problem records (i.e. null latitudes) remain\n",
    "print salaries.shape\n",
    "probs_after = pd.isnull(salaries.latitude).nonzero()[0]\n",
    "print len(probs_after)\n",
    "#probs_after\n"
   ]
  },
  {
   "cell_type": "code",
   "execution_count": 8,
   "metadata": {
    "collapsed": false
   },
   "outputs": [
    {
     "name": "stdout",
     "output_type": "stream",
     "text": [
      "here:\n",
      "2564 [   169   2225   3780 ..., 149097 149103 149126]\n",
      "ex:  ('PASSAIC CO ED SERV COMM', 'HOPE ACADEMY')\n",
      "before setd:  nan nan\n",
      "before setd 2225:  nan nan\n",
      "2564\n",
      "2564\n",
      "after setd:  1122    40.869868\n",
      "Name: latitude, dtype: float64 1122   -74.125379\n",
      "Name: longitude, dtype: float64\n",
      "after setd 2225:  Series([], Name: latitude, dtype: float64) Series([], Name: longitude, dtype: float64)\n",
      "0 []\n"
     ]
    }
   ],
   "source": [
    "#this doesn't work so ignoring for now.  The point was to\n",
    "#see if any of the school names in employee can be found in public_schools.csv if they were not found in header.csv\n",
    "schools_df['district_school'] = zip(schools_df.district_name,schools_df.school_name)\n",
    "#print schools_df.loc[(schools_df.district_name == 'PASSAIC CITY SCHOOL DISTRICT') & (schools_df.school_name == 'MARIO DRAGO SCHOOL # 3')]\n",
    "print \"here:\"\n",
    "#print schools_df.loc[(schools_df.district_name == 'PASSAIC CO ED SERV COMM') & (schools_df.school_name == 'HOPE ACADEMY')]\n",
    "\n",
    "salaries['district_school'] = zip(salaries.district, salaries.school)\n",
    "\n",
    "#get the indices of the null latitude records\n",
    "null_lat_idxs = pd.isnull(salaries.latitude).nonzero()[0]\n",
    "print len(null_lat_idxs), null_lat_idxs\n",
    "print \"ex: \", salaries.district_school.iloc[169]\n",
    "print \"before setd: \", salaries.latitude.iloc[169], salaries.longitude.iloc[169]\n",
    "print \"before setd 2225: \", salaries.latitude.iloc[2225], salaries.longitude.iloc[2225]\n",
    "#for each null latitude record, get the latitude for that district and school combination in schools_df\n",
    "#and put into a series\n",
    "#then do the same for longitude\n",
    "new_lats_for_null_lat_recs = salaries.district_school.iloc[null_lat_idxs].map(lambda x: \\\n",
    "                                                    schools_df.latitude.loc[schools_df.school_name == x[1]])\n",
    "print len(new_lats_for_null_lat_recs)\n",
    "new_longs_for_null_long_recs = salaries.district_school.iloc[null_lat_idxs].map(lambda x: \\\n",
    "                                                    schools_df.longitude.loc[schools_df.school_name == x[1]])\n",
    "\n",
    "print len(new_longs_for_null_long_recs)\n",
    "salaries.latitude.iloc[null_lat_idxs] = new_lats_for_null_lat_recs\n",
    "salaries.longitude.iloc[null_lat_idxs] = new_longs_for_null_long_recs\n",
    "\n",
    "print \"after setd: \", salaries.latitude.iloc[169], salaries.longitude.iloc[169]\n",
    "print \"after setd 2225: \", salaries.latitude.iloc[2225], salaries.longitude.iloc[2225]\n",
    "null_lat_idxs = pd.isnull(salaries.latitude).nonzero()[0]\n",
    "print len(null_lat_idxs), null_lat_idxs"
   ]
  },
  {
   "cell_type": "code",
   "execution_count": 9,
   "metadata": {
    "collapsed": false
   },
   "outputs": [],
   "source": [
    "#salaries.max()"
   ]
  },
  {
   "cell_type": "code",
   "execution_count": 10,
   "metadata": {
    "collapsed": false
   },
   "outputs": [],
   "source": [
    "#salaries.min()"
   ]
  },
  {
   "cell_type": "code",
   "execution_count": 11,
   "metadata": {
    "collapsed": false
   },
   "outputs": [],
   "source": [
    "#print salaries.job_name.unique()"
   ]
  },
  {
   "cell_type": "code",
   "execution_count": 12,
   "metadata": {
    "collapsed": false
   },
   "outputs": [],
   "source": [
    "#clean up the X values in classes_taught\n",
    "#so that I can convert the column to int:\n",
    "salaries.classes_taught.loc[salaries.classes_taught > 'A'] = '99'\n"
   ]
  },
  {
   "cell_type": "code",
   "execution_count": 13,
   "metadata": {
    "collapsed": false
   },
   "outputs": [
    {
     "name": "stdout",
     "output_type": "stream",
     "text": [
      "[nan '1' '20' '31' '15' '12' '7' '5' '6' '2' '3' '11' '4' '8' '21' '10'\n",
      " '17' '9' '23' '14' '24' '16' '32' '25' '13' '18' '19' '27' '34' '28' '26'\n",
      " '22' '36' '29' '40' '30' '33' '35' '99' '39' '38' '37']\n",
      "42\n"
     ]
    }
   ],
   "source": [
    "print salaries.classes_taught.unique()\n",
    "print salaries.classes_taught.unique().size"
   ]
  },
  {
   "cell_type": "code",
   "execution_count": 14,
   "metadata": {
    "collapsed": false
   },
   "outputs": [],
   "source": [
    "#not sure what to do with nan classes_taught, can set them to 0 if we want:\n",
    "nan_idxs = pd.isnull(salaries.classes_taught).nonzero()[0]\n",
    "nan_idxs\n",
    "salaries.classes_taught.iloc[nan_idxs] = 0\n",
    "salaries.classes_taught = salaries.classes_taught.astype(int)"
   ]
  },
  {
   "cell_type": "code",
   "execution_count": 15,
   "metadata": {
    "collapsed": false
   },
   "outputs": [
    {
     "name": "stdout",
     "output_type": "stream",
     "text": [
      "[ 0  1 20 31 15 12  7  5  6  2  3 11  4  8 21 10 17  9 23 14 24 16 32 25 13\n",
      " 18 19 27 34 28 26 22 36 29 40 30 33 35 99 39 38 37]\n",
      "42\n"
     ]
    }
   ],
   "source": [
    "print salaries.classes_taught.unique()\n",
    "print salaries.classes_taught.unique().size"
   ]
  },
  {
   "cell_type": "code",
   "execution_count": 16,
   "metadata": {
    "collapsed": false
   },
   "outputs": [
    {
     "name": "stdout",
     "output_type": "stream",
     "text": [
      "425\n",
      "[23610 23687 23689 23690 23701 23705 23706 23708 23945 23946 23947 23948\n",
      " 23949 23950 23951 24027 24028 24029 24030 24074]\n",
      "before set:  99 0\n",
      "after set:  2 0\n"
     ]
    }
   ],
   "source": [
    "#will impute the X(now 99) values with mean classes_taught for the job name.\n",
    "criterion = salaries.classes_taught.map(lambda x: x == 99) \n",
    "print sum(criterion)\n",
    "avg_num_classes_per_job = salaries[-criterion].groupby(['job_name']).mean()\n",
    "#print type(avg_num_classes_per_job)\n",
    "#print avg_num_classes_per_job.head(5)\n",
    "#get the indices of the X records\n",
    "X_idxs = criterion.nonzero()[0]\n",
    "print X_idxs[range(20)]\n",
    "print \"before set: \", salaries.classes_taught[24028], salaries.classes_taught[1]\n",
    "#for each X record, get the avg classes for that job name and put into a series\n",
    "avg_num_classes_for_X_recs = salaries.job_name.iloc[X_idxs].map(lambda x: \\\n",
    "                                                                round(avg_num_classes_per_job.classes_taught.loc[x]))\n",
    "#print avg_num_classes_for_X_recs.shape\n",
    "salaries.classes_taught.iloc[X_idxs] = avg_num_classes_for_X_recs\n",
    "print \"after set: \", salaries.classes_taught[24028], salaries.classes_taught[1]"
   ]
  },
  {
   "cell_type": "code",
   "execution_count": 17,
   "metadata": {
    "collapsed": false
   },
   "outputs": [
    {
     "name": "stdout",
     "output_type": "stream",
     "text": [
      "[ 0  1 20 31 15 12  7  5  6  2  3 11  4  8 21 10 17  9 23 14 24 16 32 25 13\n",
      " 18 19 27 34 28 26 22 36 29 40 30 33 35 39 38 37]\n",
      "41\n"
     ]
    }
   ],
   "source": [
    "print salaries.classes_taught.unique()\n",
    "print salaries.classes_taught.unique().size"
   ]
  },
  {
   "cell_type": "code",
   "execution_count": 18,
   "metadata": {
    "collapsed": false
   },
   "outputs": [],
   "source": [
    "#print salaries.fte.unique()\n",
    "#print salaries.fte.unique().size"
   ]
  },
  {
   "cell_type": "code",
   "execution_count": 19,
   "metadata": {
    "collapsed": false
   },
   "outputs": [],
   "source": [
    "#salaries.duplicated().sum()"
   ]
  },
  {
   "cell_type": "code",
   "execution_count": 20,
   "metadata": {
    "collapsed": false
   },
   "outputs": [
    {
     "name": "stdout",
     "output_type": "stream",
     "text": [
      "(119356, 72)\n",
      "(29840, 72)\n"
     ]
    }
   ],
   "source": [
    "#divide salary data into train and test:\n",
    "sals_train, sals_test = train_test_split(salaries, test_size=0.20, random_state=21)\n",
    "print sals_train.shape\n",
    "print sals_test.shape"
   ]
  },
  {
   "cell_type": "code",
   "execution_count": 21,
   "metadata": {
    "collapsed": false
   },
   "outputs": [
    {
     "data": {
      "text/html": [
       "<div>\n",
       "<table border=\"1\" class=\"dataframe\">\n",
       "  <thead>\n",
       "    <tr style=\"text-align: right;\">\n",
       "      <th></th>\n",
       "      <th>id_num</th>\n",
       "      <th>county</th>\n",
       "      <th>district</th>\n",
       "      <th>school</th>\n",
       "      <th>yrs_experience</th>\n",
       "      <th>salary</th>\n",
       "      <th>job_name</th>\n",
       "      <th>classes_taught</th>\n",
       "      <th>exp_district</th>\n",
       "      <th>exp_nj</th>\n",
       "      <th>...</th>\n",
       "      <th>grade_9</th>\n",
       "      <th>grade_10</th>\n",
       "      <th>grade_11</th>\n",
       "      <th>grade_12</th>\n",
       "      <th>post_grad_</th>\n",
       "      <th>adult_ed_</th>\n",
       "      <th>latitude</th>\n",
       "      <th>longitude</th>\n",
       "      <th>county_district</th>\n",
       "      <th>district_school</th>\n",
       "    </tr>\n",
       "  </thead>\n",
       "  <tbody>\n",
       "    <tr>\n",
       "      <th>0</th>\n",
       "      <td>2158</td>\n",
       "      <td>PASSAIC</td>\n",
       "      <td>PASSAIC CITY</td>\n",
       "      <td>LINCOLN MIDDLE SCHOOL # 4</td>\n",
       "      <td>20</td>\n",
       "      <td>108097</td>\n",
       "      <td>School Social Worker</td>\n",
       "      <td>0</td>\n",
       "      <td>18</td>\n",
       "      <td>20</td>\n",
       "      <td>...</td>\n",
       "      <td>NA</td>\n",
       "      <td>NA</td>\n",
       "      <td>NA</td>\n",
       "      <td>NA</td>\n",
       "      <td>NA</td>\n",
       "      <td>NA</td>\n",
       "      <td>40.8571</td>\n",
       "      <td>-74.1323</td>\n",
       "      <td>(PASSAIC, PASSAIC CITY)</td>\n",
       "      <td>(PASSAIC CITY, LINCOLN MIDDLE SCHOOL # 4)</td>\n",
       "    </tr>\n",
       "    <tr>\n",
       "      <th>1</th>\n",
       "      <td>2159</td>\n",
       "      <td>PASSAIC</td>\n",
       "      <td>PASSAIC CITY</td>\n",
       "      <td>LINCOLN MIDDLE SCHOOL # 4</td>\n",
       "      <td>19</td>\n",
       "      <td>116747</td>\n",
       "      <td>School Social Worker</td>\n",
       "      <td>0</td>\n",
       "      <td>19</td>\n",
       "      <td>19</td>\n",
       "      <td>...</td>\n",
       "      <td>NA</td>\n",
       "      <td>NA</td>\n",
       "      <td>NA</td>\n",
       "      <td>NA</td>\n",
       "      <td>NA</td>\n",
       "      <td>NA</td>\n",
       "      <td>40.8571</td>\n",
       "      <td>-74.1323</td>\n",
       "      <td>(PASSAIC, PASSAIC CITY)</td>\n",
       "      <td>(PASSAIC CITY, LINCOLN MIDDLE SCHOOL # 4)</td>\n",
       "    </tr>\n",
       "    <tr>\n",
       "      <th>2</th>\n",
       "      <td>2160</td>\n",
       "      <td>PASSAIC</td>\n",
       "      <td>PASSAIC CITY</td>\n",
       "      <td>SCHOOL # 5</td>\n",
       "      <td>3</td>\n",
       "      <td>61043</td>\n",
       "      <td>School Social Worker</td>\n",
       "      <td>0</td>\n",
       "      <td>3</td>\n",
       "      <td>3</td>\n",
       "      <td>...</td>\n",
       "      <td>NA</td>\n",
       "      <td>NA</td>\n",
       "      <td>NA</td>\n",
       "      <td>NA</td>\n",
       "      <td>NA</td>\n",
       "      <td>NA</td>\n",
       "      <td>40.8672</td>\n",
       "      <td>-74.1207</td>\n",
       "      <td>(PASSAIC, PASSAIC CITY)</td>\n",
       "      <td>(PASSAIC CITY, SCHOOL # 5)</td>\n",
       "    </tr>\n",
       "    <tr>\n",
       "      <th>3</th>\n",
       "      <td>2059</td>\n",
       "      <td>MERCER</td>\n",
       "      <td>MERCER CO SPECIAL SERVICE</td>\n",
       "      <td>JOSEPH F. CAPPELLO SCHOOL</td>\n",
       "      <td>14</td>\n",
       "      <td>80240</td>\n",
       "      <td>Preschool</td>\n",
       "      <td>1</td>\n",
       "      <td>14</td>\n",
       "      <td>14</td>\n",
       "      <td>...</td>\n",
       "      <td>NA</td>\n",
       "      <td>NA</td>\n",
       "      <td>NA</td>\n",
       "      <td>NA</td>\n",
       "      <td>NA</td>\n",
       "      <td>NA</td>\n",
       "      <td>40.2512</td>\n",
       "      <td>-74.6537</td>\n",
       "      <td>(MERCER, MERCER CO SPECIAL SERVICE)</td>\n",
       "      <td>(MERCER CO SPECIAL SERVICE, JOSEPH F. CAPPELLO...</td>\n",
       "    </tr>\n",
       "    <tr>\n",
       "      <th>4</th>\n",
       "      <td>2060</td>\n",
       "      <td>MERCER</td>\n",
       "      <td>MERCER CO SPECIAL SERVICE</td>\n",
       "      <td>JOSEPH F. CAPPELLO SCHOOL</td>\n",
       "      <td>31</td>\n",
       "      <td>86845</td>\n",
       "      <td>Preschool</td>\n",
       "      <td>1</td>\n",
       "      <td>29</td>\n",
       "      <td>29</td>\n",
       "      <td>...</td>\n",
       "      <td>NA</td>\n",
       "      <td>NA</td>\n",
       "      <td>NA</td>\n",
       "      <td>NA</td>\n",
       "      <td>NA</td>\n",
       "      <td>NA</td>\n",
       "      <td>40.2512</td>\n",
       "      <td>-74.6537</td>\n",
       "      <td>(MERCER, MERCER CO SPECIAL SERVICE)</td>\n",
       "      <td>(MERCER CO SPECIAL SERVICE, JOSEPH F. CAPPELLO...</td>\n",
       "    </tr>\n",
       "  </tbody>\n",
       "</table>\n",
       "<p>5 rows × 72 columns</p>\n",
       "</div>"
      ],
      "text/plain": [
       "   id_num   county                   district                     school  \\\n",
       "0    2158  PASSAIC               PASSAIC CITY  LINCOLN MIDDLE SCHOOL # 4   \n",
       "1    2159  PASSAIC               PASSAIC CITY  LINCOLN MIDDLE SCHOOL # 4   \n",
       "2    2160  PASSAIC               PASSAIC CITY                 SCHOOL # 5   \n",
       "3    2059   MERCER  MERCER CO SPECIAL SERVICE  JOSEPH F. CAPPELLO SCHOOL   \n",
       "4    2060   MERCER  MERCER CO SPECIAL SERVICE  JOSEPH F. CAPPELLO SCHOOL   \n",
       "\n",
       "   yrs_experience  salary              job_name  classes_taught  exp_district  \\\n",
       "0              20  108097  School Social Worker               0            18   \n",
       "1              19  116747  School Social Worker               0            19   \n",
       "2               3   61043  School Social Worker               0             3   \n",
       "3              14   80240             Preschool               1            14   \n",
       "4              31   86845             Preschool               1            29   \n",
       "\n",
       "   exp_nj                        ...                          grade_9  \\\n",
       "0      20                        ...                            NA      \n",
       "1      19                        ...                            NA      \n",
       "2       3                        ...                            NA      \n",
       "3      14                        ...                            NA      \n",
       "4      29                        ...                            NA      \n",
       "\n",
       "   grade_10  grade_11 grade_12  post_grad_  adult_ed_  latitude longitude  \\\n",
       "0     NA        NA       NA          NA         NA      40.8571  -74.1323   \n",
       "1     NA        NA       NA          NA         NA      40.8571  -74.1323   \n",
       "2     NA        NA       NA          NA         NA      40.8672  -74.1207   \n",
       "3     NA        NA       NA          NA         NA      40.2512  -74.6537   \n",
       "4     NA        NA       NA          NA         NA      40.2512  -74.6537   \n",
       "\n",
       "                       county_district  \\\n",
       "0              (PASSAIC, PASSAIC CITY)   \n",
       "1              (PASSAIC, PASSAIC CITY)   \n",
       "2              (PASSAIC, PASSAIC CITY)   \n",
       "3  (MERCER, MERCER CO SPECIAL SERVICE)   \n",
       "4  (MERCER, MERCER CO SPECIAL SERVICE)   \n",
       "\n",
       "                                     district_school  \n",
       "0          (PASSAIC CITY, LINCOLN MIDDLE SCHOOL # 4)  \n",
       "1          (PASSAIC CITY, LINCOLN MIDDLE SCHOOL # 4)  \n",
       "2                         (PASSAIC CITY, SCHOOL # 5)  \n",
       "3  (MERCER CO SPECIAL SERVICE, JOSEPH F. CAPPELLO...  \n",
       "4  (MERCER CO SPECIAL SERVICE, JOSEPH F. CAPPELLO...  \n",
       "\n",
       "[5 rows x 72 columns]"
      ]
     },
     "execution_count": 21,
     "metadata": {},
     "output_type": "execute_result"
    }
   ],
   "source": [
    "salaries.head()"
   ]
  },
  {
   "cell_type": "code",
   "execution_count": 22,
   "metadata": {
    "collapsed": false
   },
   "outputs": [
    {
     "data": {
      "text/plain": [
       "array(['id_num', 'county', 'district', 'school', 'yrs_experience',\n",
       "       'salary', 'job_name', 'classes_taught', 'exp_district', 'exp_nj',\n",
       "       'exp_total', 'job_code', 'fte', 'subcategory', 'county2',\n",
       "       'district2', 'school2', 'certificate', 'highly_qual', 'route',\n",
       "       'county_code', 'district_code', 'school_code', 'gradespan',\n",
       "       'school_id_num', 'address1', 'city', 'state', 'zip', 'county_name',\n",
       "       'district_name', 'school_name', 'princ_title', 'princ_first_name',\n",
       "       'princ_last_name', 'princ_title_2', 'princ_email', 'address2',\n",
       "       'mailing_address1', 'mailing_address2', 'mailing_city',\n",
       "       'mailing_state', 'mailing_zip', 'hib_title1', 'hib_first_nname',\n",
       "       'hib_last_name', 'hib_title2', 'homeless_liaison_title1',\n",
       "       'homeless_liaison_first_name', 'homeless_liaison_last_name',\n",
       "       'homeless_liaison_title2', 'phone', 'pre_k', 'kindergarten',\n",
       "       'grade_1', 'grade_2', 'grade_3', 'grade_4', 'grade_5', 'grade_6',\n",
       "       'grade_7', 'grade_8', 'grade_9', 'grade_10', 'grade_11', 'grade_12',\n",
       "       'post_grad_', 'adult_ed_', 'latitude', 'longitude',\n",
       "       'county_district', 'district_school'], dtype=object)"
      ]
     },
     "execution_count": 22,
     "metadata": {},
     "output_type": "execute_result"
    }
   ],
   "source": [
    "salaries.columns.values"
   ]
  },
  {
   "cell_type": "code",
   "execution_count": 23,
   "metadata": {
    "collapsed": true
   },
   "outputs": [],
   "source": [
    "salaries.to_csv('salaries_new.csv')"
   ]
  },
  {
   "cell_type": "code",
   "execution_count": 24,
   "metadata": {
    "collapsed": false
   },
   "outputs": [
    {
     "data": {
      "text/plain": [
       "array([  1.00000000e+00,   5.00000000e-01,   7.80000000e-01,\n",
       "         6.00000000e-01,   2.50000000e-01,   8.00000000e-01,\n",
       "         4.00000000e-01,   4.90000000e-01,   1.00000000e-01,\n",
       "         3.40000000e-01,   7.50000000e-01,   9.00000000e-01,\n",
       "         2.00000000e-01,   3.30000000e-01,   7.00000000e-01,\n",
       "         5.10000000e-01,   7.10000000e-01,   3.00000000e-01,\n",
       "         4.70000000e-01,   2.20000000e-01,   4.60000000e-01,\n",
       "         6.70000000e-01,   2.00000000e-02,   9.99900000e+01,\n",
       "         1.60000000e-01,   6.30000000e-01,   3.60000000e-01,\n",
       "         5.90000000e-01,   2.90000000e-01,   8.50000000e-01,\n",
       "         1.70000000e-01,   6.40000000e-01,   8.30000000e-01,\n",
       "         3.00000000e-02,   8.00000000e-02,   7.00000000e-02,\n",
       "         5.00000000e-02,   6.60000000e-01,   4.00000000e-02,\n",
       "         6.00000000e-02,   6.50000000e-01,   7.40000000e-01,\n",
       "         2.60000000e-01,   3.50000000e-01,   2.80000000e-01,\n",
       "         2.40000000e-01,   4.30000000e-01,   5.70000000e-01,\n",
       "         1.40000000e-01,   3.20000000e-01,   7.90000000e-01,\n",
       "         5.40000000e-01,   8.10000000e-01,   7.30000000e-01,\n",
       "         8.80000000e-01,   6.80000000e-01,   1.50000000e-01,\n",
       "         1.80000000e-01,   7.60000000e-01,   2.30000000e-01,\n",
       "         9.80000000e-01,   5.60000000e-01,   4.80000000e-01,\n",
       "         5.50000000e-01,   7.20000000e-01,   5.80000000e-01,\n",
       "         2.70000000e-01,   4.40000000e-01,   5.30000000e-01,\n",
       "         2.10000000e-01,   1.10000000e-01,   3.90000000e-01,\n",
       "         4.20000000e-01,   4.50000000e-01,   1.20000000e-01,\n",
       "         3.80000000e-01,   8.40000000e-01,   6.20000000e-01,\n",
       "         4.10000000e-01,   9.50000000e-01,   3.10000000e-01,\n",
       "         9.00000000e-02,   8.70000000e-01,   9.40000000e-01,\n",
       "         8.20000000e-01,   8.90000000e-01,   7.70000000e-01,\n",
       "         3.70000000e-01,   1.30000000e-01,   6.90000000e-01,\n",
       "         9.20000000e-01,   5.20000000e-01,   9.60000000e-01,\n",
       "         6.10000000e-01,   9.90000000e-01,   9.30000000e-01,\n",
       "         8.60000000e-01,   1.90000000e-01])"
      ]
     },
     "execution_count": 24,
     "metadata": {},
     "output_type": "execute_result"
    }
   ],
   "source": [
    "salaries.fte.unique()"
   ]
  },
  {
   "cell_type": "code",
   "execution_count": 25,
   "metadata": {
    "collapsed": false
   },
   "outputs": [
    {
     "data": {
      "text/plain": [
       "array(['Standard', 'Provisional',\n",
       "       'Certificate of Eligibility with Advanced Standing', 'Emergency',\n",
       "       'Non-citizen', 'Certificate of Eligilility', nan], dtype=object)"
      ]
     },
     "execution_count": 25,
     "metadata": {},
     "output_type": "execute_result"
    }
   ],
   "source": [
    "salaries.certificate.unique()"
   ]
  },
  {
   "cell_type": "code",
   "execution_count": 26,
   "metadata": {
    "collapsed": false
   },
   "outputs": [
    {
     "data": {
      "text/plain": [
       "array(['8-Jul', '5-Mar', 'PK-03', '12-Sep', '8-Mar', 'KG-05', 'PK-06',\n",
       "       '8-Jun', 'PK-02', 'KG-03', '6-Apr', 'KG-06', '6-Jan', nan, 'PK-05',\n",
       "       'PK-KG', 'PK-07', 'PK-08', 'KG-02', 'KG-01', '6-May', '12-Aug',\n",
       "       '8-May', 'KG-04', 'PK-04', '8-Apr', '4-Mar', '2-Jan', 'KG-08', 'PK',\n",
       "       '5-Apr', '12-Jul', '7-Feb', '12-Jun', 'PK-12', '7-Jun', '5-Jan',\n",
       "       'PK-01', '3-Feb', '4-Feb', '3-Jan', '6-Mar', '6-Feb', '12-Feb',\n",
       "       'KG-11', '12-Mar', '9-Jun', '10-Sep', '11-Jun', 'KG-12', '11-Sep',\n",
       "       'KG-07', '12-Oct', '9-Aug', '5-Feb', '4-Jan', '12-Jan', 'PK-09',\n",
       "       '7-May', '6', '8-Feb', '2', '5', '8-Jan', '9', '12-Nov', '9-Jul',\n",
       "       'KG', '8', '10-Jun', '12-Apr', 'UG'], dtype=object)"
      ]
     },
     "execution_count": 26,
     "metadata": {},
     "output_type": "execute_result"
    }
   ],
   "source": [
    "salaries.gradespan.unique()"
   ]
  },
  {
   "cell_type": "code",
   "execution_count": null,
   "metadata": {
    "collapsed": false
   },
   "outputs": [],
   "source": []
  },
  {
   "cell_type": "code",
   "execution_count": 27,
   "metadata": {
    "collapsed": false
   },
   "outputs": [
    {
     "data": {
      "text/plain": [
       "array(['General ed', 'Special ed', 'Admin or supervisor', 'Bilingual',\n",
       "       'Hearing', 'Visual', nan, 'Non_certified staff'], dtype=object)"
      ]
     },
     "execution_count": 27,
     "metadata": {},
     "output_type": "execute_result"
    }
   ],
   "source": [
    "salaries.subcategory.unique()"
   ]
  },
  {
   "cell_type": "code",
   "execution_count": 49,
   "metadata": {
    "collapsed": true
   },
   "outputs": [],
   "source": [
    "salary = salaries.copy()"
   ]
  },
  {
   "cell_type": "code",
   "execution_count": 50,
   "metadata": {
    "collapsed": false
   },
   "outputs": [
    {
     "data": {
      "text/plain": [
       "array(['id_num', 'county', 'district', 'school', 'yrs_experience',\n",
       "       'salary', 'job_name', 'classes_taught', 'exp_district', 'exp_nj',\n",
       "       'exp_total', 'job_code', 'fte', 'subcategory', 'county2',\n",
       "       'district2', 'school2', 'certificate', 'highly_qual', 'route',\n",
       "       'county_code', 'district_code', 'school_code', 'gradespan',\n",
       "       'school_id_num', 'address1', 'city', 'state', 'zip', 'county_name',\n",
       "       'district_name', 'school_name', 'princ_title', 'princ_first_name',\n",
       "       'princ_last_name', 'princ_title_2', 'princ_email', 'address2',\n",
       "       'mailing_address1', 'mailing_address2', 'mailing_city',\n",
       "       'mailing_state', 'mailing_zip', 'hib_title1', 'hib_first_nname',\n",
       "       'hib_last_name', 'hib_title2', 'homeless_liaison_title1',\n",
       "       'homeless_liaison_first_name', 'homeless_liaison_last_name',\n",
       "       'homeless_liaison_title2', 'phone', 'pre_k', 'kindergarten',\n",
       "       'grade_1', 'grade_2', 'grade_3', 'grade_4', 'grade_5', 'grade_6',\n",
       "       'grade_7', 'grade_8', 'grade_9', 'grade_10', 'grade_11', 'grade_12',\n",
       "       'post_grad_', 'adult_ed_', 'latitude', 'longitude',\n",
       "       'county_district', 'district_school'], dtype=object)"
      ]
     },
     "execution_count": 50,
     "metadata": {},
     "output_type": "execute_result"
    }
   ],
   "source": [
    "salary.columns.values"
   ]
  },
  {
   "cell_type": "code",
   "execution_count": 51,
   "metadata": {
    "collapsed": false
   },
   "outputs": [
    {
     "data": {
      "text/plain": [
       "array(['id_num', 'county', 'district', 'school', 'yrs_experience',\n",
       "       'salary', 'classes_taught', 'exp_district', 'exp_nj', 'fte',\n",
       "       'subcategory', 'certificate', 'highly_qual', 'route', 'county_code',\n",
       "       'district_code', 'school_code', 'school_id_num', 'address1', 'city',\n",
       "       'state', 'zip', 'pre_k', 'kindergarten', 'grade_1', 'grade_2',\n",
       "       'grade_3', 'grade_4', 'grade_5', 'grade_6', 'grade_7', 'grade_8',\n",
       "       'grade_9', 'grade_10', 'grade_11', 'grade_12', 'latitude',\n",
       "       'longitude'], dtype=object)"
      ]
     },
     "execution_count": 51,
     "metadata": {},
     "output_type": "execute_result"
    }
   ],
   "source": [
    "salary.drop('job_name', axis=1, inplace=True)\n",
    "salary.drop('exp_total', axis=1, inplace=True)\n",
    "salary.drop('job_code', axis=1, inplace=True)\n",
    "salary.drop('county2', axis=1, inplace=True)\n",
    "salary.drop('district2', axis=1, inplace=True)\n",
    "salary.drop('school2', axis=1, inplace=True)\n",
    "salary.drop('gradespan', axis=1, inplace=True)\n",
    "salary.drop('county_name', axis=1, inplace=True)\n",
    "salary.drop('district_name', axis=1, inplace=True)\n",
    "salary.drop('school_name', axis=1, inplace=True)\n",
    "salary.drop('princ_title', axis=1, inplace=True)\n",
    "salary.drop('princ_first_name', axis=1, inplace=True)\n",
    "salary.drop('princ_last_name', axis=1, inplace=True)\n",
    "salary.drop('princ_title_2', axis=1, inplace=True)\n",
    "salary.drop('princ_email', axis=1, inplace=True)\n",
    "salary.drop('address2', axis=1, inplace=True)\n",
    "salary.drop('mailing_address1', axis=1, inplace=True)\n",
    "salary.drop('mailing_address2', axis=1, inplace=True)\n",
    "salary.drop('mailing_city', axis=1, inplace=True)\n",
    "salary.drop('mailing_state', axis=1, inplace=True)\n",
    "salary.drop('mailing_zip', axis=1, inplace=True)\n",
    "salary.drop('hib_title1', axis=1, inplace=True)\n",
    "salary.drop('hib_first_nname', axis=1, inplace=True)\n",
    "salary.drop('hib_last_name', axis=1, inplace=True)\n",
    "salary.drop('hib_title2', axis=1, inplace=True)\n",
    "salary.drop('homeless_liaison_title1', axis=1, inplace=True)\n",
    "salary.drop('homeless_liaison_first_name', axis=1, inplace=True)\n",
    "salary.drop('homeless_liaison_last_name', axis=1, inplace=True)\n",
    "salary.drop('homeless_liaison_title2', axis=1, inplace=True)\n",
    "salary.drop('phone', axis=1, inplace=True)\n",
    "salary.drop('county_district', axis=1, inplace=True)\n",
    "salary.drop('district_school', axis=1, inplace=True)\n",
    "salary.drop('post_grad_', axis=1, inplace=True)\n",
    "salary.drop('adult_ed_', axis=1, inplace=True)\n",
    "\n",
    "salary.columns.values"
   ]
  },
  {
   "cell_type": "code",
   "execution_count": 52,
   "metadata": {
    "collapsed": false
   },
   "outputs": [
    {
     "data": {
      "text/plain": [
       "array(['zip', 'pre_k', 'kindergarten', 'grade_1', 'grade_2', 'grade_3',\n",
       "       'grade_4', 'grade_5', 'grade_6', 'grade_7', 'grade_8', 'grade_9',\n",
       "       'grade_10', 'grade_11'], dtype=object)"
      ]
     },
     "execution_count": 52,
     "metadata": {},
     "output_type": "execute_result"
    }
   ],
   "source": [
    "salary.columns.values[21:35]"
   ]
  },
  {
   "cell_type": "code",
   "execution_count": 53,
   "metadata": {
    "collapsed": false
   },
   "outputs": [
    {
     "name": "stderr",
     "output_type": "stream",
     "text": [
      "/usr/local/lib/python2.7/site-packages/ipykernel/__main__.py:1: FutureWarning: convert_objects is deprecated.  Use the data-type specific converters pd.to_datetime, pd.to_timedelta and pd.to_numeric.\n",
      "  if __name__ == '__main__':\n"
     ]
    }
   ],
   "source": [
    "salary.loc[:, \"pre_k\":\"grade_12\"] = salary.loc[:, \"pre_k\":\"grade_12\"].convert_objects(convert_numeric=True)"
   ]
  },
  {
   "cell_type": "code",
   "execution_count": 54,
   "metadata": {
    "collapsed": false
   },
   "outputs": [],
   "source": [
    "salary[\"ELEM\"] = salary.loc[:,\"pre_k\":\"grade_8\"].sum(axis=1)"
   ]
  },
  {
   "cell_type": "code",
   "execution_count": 55,
   "metadata": {
    "collapsed": false
   },
   "outputs": [],
   "source": [
    "salary.drop('pre_k', axis=1, inplace=True)\n",
    "salary.drop('kindergarten', axis=1, inplace=True)\n",
    "salary.drop('grade_1', axis=1, inplace=True)\n",
    "salary.drop('grade_2', axis=1, inplace=True)\n",
    "salary.drop('grade_3', axis=1, inplace=True)\n",
    "salary.drop('grade_4', axis=1, inplace=True)\n",
    "salary.drop('grade_5', axis=1, inplace=True)\n",
    "salary.drop('grade_6', axis=1, inplace=True)\n",
    "salary.drop('grade_7', axis=1, inplace=True)\n",
    "salary.drop('grade_8', axis=1, inplace=True)\n",
    "salary.drop('grade_9', axis=1, inplace=True)\n",
    "salary.drop('grade_10', axis=1, inplace=True)\n",
    "salary.drop('grade_11', axis=1, inplace=True)\n",
    "salary.drop('grade_12', axis=1, inplace=True)"
   ]
  },
  {
   "cell_type": "code",
   "execution_count": 56,
   "metadata": {
    "collapsed": false
   },
   "outputs": [
    {
     "data": {
      "text/html": [
       "<div>\n",
       "<table border=\"1\" class=\"dataframe\">\n",
       "  <thead>\n",
       "    <tr style=\"text-align: right;\">\n",
       "      <th></th>\n",
       "      <th>id_num</th>\n",
       "      <th>county</th>\n",
       "      <th>district</th>\n",
       "      <th>school</th>\n",
       "      <th>yrs_experience</th>\n",
       "      <th>salary</th>\n",
       "      <th>classes_taught</th>\n",
       "      <th>exp_district</th>\n",
       "      <th>exp_nj</th>\n",
       "      <th>fte</th>\n",
       "      <th>...</th>\n",
       "      <th>district_code</th>\n",
       "      <th>school_code</th>\n",
       "      <th>school_id_num</th>\n",
       "      <th>address1</th>\n",
       "      <th>city</th>\n",
       "      <th>state</th>\n",
       "      <th>zip</th>\n",
       "      <th>latitude</th>\n",
       "      <th>longitude</th>\n",
       "      <th>ELEM</th>\n",
       "    </tr>\n",
       "  </thead>\n",
       "  <tbody>\n",
       "    <tr>\n",
       "      <th>0</th>\n",
       "      <td>2158</td>\n",
       "      <td>PASSAIC</td>\n",
       "      <td>PASSAIC CITY</td>\n",
       "      <td>LINCOLN MIDDLE SCHOOL # 4</td>\n",
       "      <td>20</td>\n",
       "      <td>108097</td>\n",
       "      <td>0</td>\n",
       "      <td>18</td>\n",
       "      <td>20</td>\n",
       "      <td>1</td>\n",
       "      <td>...</td>\n",
       "      <td>3970</td>\n",
       "      <td>95</td>\n",
       "      <td>1256</td>\n",
       "      <td>291 Lafayette Ave.</td>\n",
       "      <td>Passaic</td>\n",
       "      <td>NJ</td>\n",
       "      <td>7055</td>\n",
       "      <td>40.8571</td>\n",
       "      <td>-74.1323</td>\n",
       "      <td>2</td>\n",
       "    </tr>\n",
       "    <tr>\n",
       "      <th>1</th>\n",
       "      <td>2159</td>\n",
       "      <td>PASSAIC</td>\n",
       "      <td>PASSAIC CITY</td>\n",
       "      <td>LINCOLN MIDDLE SCHOOL # 4</td>\n",
       "      <td>19</td>\n",
       "      <td>116747</td>\n",
       "      <td>0</td>\n",
       "      <td>19</td>\n",
       "      <td>19</td>\n",
       "      <td>1</td>\n",
       "      <td>...</td>\n",
       "      <td>3970</td>\n",
       "      <td>95</td>\n",
       "      <td>1256</td>\n",
       "      <td>291 Lafayette Ave.</td>\n",
       "      <td>Passaic</td>\n",
       "      <td>NJ</td>\n",
       "      <td>7055</td>\n",
       "      <td>40.8571</td>\n",
       "      <td>-74.1323</td>\n",
       "      <td>2</td>\n",
       "    </tr>\n",
       "    <tr>\n",
       "      <th>2</th>\n",
       "      <td>2160</td>\n",
       "      <td>PASSAIC</td>\n",
       "      <td>PASSAIC CITY</td>\n",
       "      <td>SCHOOL # 5</td>\n",
       "      <td>3</td>\n",
       "      <td>61043</td>\n",
       "      <td>0</td>\n",
       "      <td>3</td>\n",
       "      <td>3</td>\n",
       "      <td>1</td>\n",
       "      <td>...</td>\n",
       "      <td>3970</td>\n",
       "      <td>97</td>\n",
       "      <td>680</td>\n",
       "      <td>168 Monroe St.</td>\n",
       "      <td>Passaic</td>\n",
       "      <td>NJ</td>\n",
       "      <td>7055</td>\n",
       "      <td>40.8672</td>\n",
       "      <td>-74.1207</td>\n",
       "      <td>7</td>\n",
       "    </tr>\n",
       "    <tr>\n",
       "      <th>3</th>\n",
       "      <td>2059</td>\n",
       "      <td>MERCER</td>\n",
       "      <td>MERCER CO SPECIAL SERVICE</td>\n",
       "      <td>JOSEPH F. CAPPELLO SCHOOL</td>\n",
       "      <td>14</td>\n",
       "      <td>80240</td>\n",
       "      <td>1</td>\n",
       "      <td>14</td>\n",
       "      <td>14</td>\n",
       "      <td>1</td>\n",
       "      <td>...</td>\n",
       "      <td>3103</td>\n",
       "      <td>50</td>\n",
       "      <td>197</td>\n",
       "      <td>1072 Old Trenton Road</td>\n",
       "      <td>Hamilton</td>\n",
       "      <td>NJ</td>\n",
       "      <td>8690</td>\n",
       "      <td>40.2512</td>\n",
       "      <td>-74.6537</td>\n",
       "      <td>4</td>\n",
       "    </tr>\n",
       "    <tr>\n",
       "      <th>4</th>\n",
       "      <td>2060</td>\n",
       "      <td>MERCER</td>\n",
       "      <td>MERCER CO SPECIAL SERVICE</td>\n",
       "      <td>JOSEPH F. CAPPELLO SCHOOL</td>\n",
       "      <td>31</td>\n",
       "      <td>86845</td>\n",
       "      <td>1</td>\n",
       "      <td>29</td>\n",
       "      <td>29</td>\n",
       "      <td>1</td>\n",
       "      <td>...</td>\n",
       "      <td>3103</td>\n",
       "      <td>50</td>\n",
       "      <td>197</td>\n",
       "      <td>1072 Old Trenton Road</td>\n",
       "      <td>Hamilton</td>\n",
       "      <td>NJ</td>\n",
       "      <td>8690</td>\n",
       "      <td>40.2512</td>\n",
       "      <td>-74.6537</td>\n",
       "      <td>4</td>\n",
       "    </tr>\n",
       "  </tbody>\n",
       "</table>\n",
       "<p>5 rows × 25 columns</p>\n",
       "</div>"
      ],
      "text/plain": [
       "   id_num   county                   district                     school  \\\n",
       "0    2158  PASSAIC               PASSAIC CITY  LINCOLN MIDDLE SCHOOL # 4   \n",
       "1    2159  PASSAIC               PASSAIC CITY  LINCOLN MIDDLE SCHOOL # 4   \n",
       "2    2160  PASSAIC               PASSAIC CITY                 SCHOOL # 5   \n",
       "3    2059   MERCER  MERCER CO SPECIAL SERVICE  JOSEPH F. CAPPELLO SCHOOL   \n",
       "4    2060   MERCER  MERCER CO SPECIAL SERVICE  JOSEPH F. CAPPELLO SCHOOL   \n",
       "\n",
       "   yrs_experience  salary  classes_taught  exp_district  exp_nj  fte ...   \\\n",
       "0              20  108097               0            18      20    1 ...    \n",
       "1              19  116747               0            19      19    1 ...    \n",
       "2               3   61043               0             3       3    1 ...    \n",
       "3              14   80240               1            14      14    1 ...    \n",
       "4              31   86845               1            29      29    1 ...    \n",
       "\n",
       "  district_code school_code school_id_num               address1      city  \\\n",
       "0          3970          95          1256     291 Lafayette Ave.   Passaic   \n",
       "1          3970          95          1256     291 Lafayette Ave.   Passaic   \n",
       "2          3970          97           680         168 Monroe St.   Passaic   \n",
       "3          3103          50           197  1072 Old Trenton Road  Hamilton   \n",
       "4          3103          50           197  1072 Old Trenton Road  Hamilton   \n",
       "\n",
       "   state   zip  latitude longitude ELEM  \n",
       "0     NJ  7055   40.8571  -74.1323    2  \n",
       "1     NJ  7055   40.8571  -74.1323    2  \n",
       "2     NJ  7055   40.8672  -74.1207    7  \n",
       "3     NJ  8690   40.2512  -74.6537    4  \n",
       "4     NJ  8690   40.2512  -74.6537    4  \n",
       "\n",
       "[5 rows x 25 columns]"
      ]
     },
     "execution_count": 56,
     "metadata": {},
     "output_type": "execute_result"
    }
   ],
   "source": [
    "salary.head()"
   ]
  },
  {
   "cell_type": "code",
   "execution_count": 60,
   "metadata": {
    "collapsed": true
   },
   "outputs": [],
   "source": [
    "salary[\"ELEM\"] = salary[\"ELEM\"].map(lambda x: x > 0)"
   ]
  },
  {
   "cell_type": "code",
   "execution_count": 61,
   "metadata": {
    "collapsed": false
   },
   "outputs": [
    {
     "data": {
      "text/html": [
       "<div>\n",
       "<table border=\"1\" class=\"dataframe\">\n",
       "  <thead>\n",
       "    <tr style=\"text-align: right;\">\n",
       "      <th></th>\n",
       "      <th>id_num</th>\n",
       "      <th>county</th>\n",
       "      <th>district</th>\n",
       "      <th>school</th>\n",
       "      <th>yrs_experience</th>\n",
       "      <th>salary</th>\n",
       "      <th>classes_taught</th>\n",
       "      <th>exp_district</th>\n",
       "      <th>exp_nj</th>\n",
       "      <th>fte</th>\n",
       "      <th>...</th>\n",
       "      <th>district_code</th>\n",
       "      <th>school_code</th>\n",
       "      <th>school_id_num</th>\n",
       "      <th>address1</th>\n",
       "      <th>city</th>\n",
       "      <th>state</th>\n",
       "      <th>zip</th>\n",
       "      <th>latitude</th>\n",
       "      <th>longitude</th>\n",
       "      <th>ELEM</th>\n",
       "    </tr>\n",
       "  </thead>\n",
       "  <tbody>\n",
       "    <tr>\n",
       "      <th>0</th>\n",
       "      <td>2158</td>\n",
       "      <td>PASSAIC</td>\n",
       "      <td>PASSAIC CITY</td>\n",
       "      <td>LINCOLN MIDDLE SCHOOL # 4</td>\n",
       "      <td>20</td>\n",
       "      <td>108097</td>\n",
       "      <td>0</td>\n",
       "      <td>18</td>\n",
       "      <td>20</td>\n",
       "      <td>1</td>\n",
       "      <td>...</td>\n",
       "      <td>3970</td>\n",
       "      <td>95</td>\n",
       "      <td>1256</td>\n",
       "      <td>291 Lafayette Ave.</td>\n",
       "      <td>Passaic</td>\n",
       "      <td>NJ</td>\n",
       "      <td>7055</td>\n",
       "      <td>40.8571</td>\n",
       "      <td>-74.1323</td>\n",
       "      <td>True</td>\n",
       "    </tr>\n",
       "    <tr>\n",
       "      <th>1</th>\n",
       "      <td>2159</td>\n",
       "      <td>PASSAIC</td>\n",
       "      <td>PASSAIC CITY</td>\n",
       "      <td>LINCOLN MIDDLE SCHOOL # 4</td>\n",
       "      <td>19</td>\n",
       "      <td>116747</td>\n",
       "      <td>0</td>\n",
       "      <td>19</td>\n",
       "      <td>19</td>\n",
       "      <td>1</td>\n",
       "      <td>...</td>\n",
       "      <td>3970</td>\n",
       "      <td>95</td>\n",
       "      <td>1256</td>\n",
       "      <td>291 Lafayette Ave.</td>\n",
       "      <td>Passaic</td>\n",
       "      <td>NJ</td>\n",
       "      <td>7055</td>\n",
       "      <td>40.8571</td>\n",
       "      <td>-74.1323</td>\n",
       "      <td>True</td>\n",
       "    </tr>\n",
       "    <tr>\n",
       "      <th>2</th>\n",
       "      <td>2160</td>\n",
       "      <td>PASSAIC</td>\n",
       "      <td>PASSAIC CITY</td>\n",
       "      <td>SCHOOL # 5</td>\n",
       "      <td>3</td>\n",
       "      <td>61043</td>\n",
       "      <td>0</td>\n",
       "      <td>3</td>\n",
       "      <td>3</td>\n",
       "      <td>1</td>\n",
       "      <td>...</td>\n",
       "      <td>3970</td>\n",
       "      <td>97</td>\n",
       "      <td>680</td>\n",
       "      <td>168 Monroe St.</td>\n",
       "      <td>Passaic</td>\n",
       "      <td>NJ</td>\n",
       "      <td>7055</td>\n",
       "      <td>40.8672</td>\n",
       "      <td>-74.1207</td>\n",
       "      <td>True</td>\n",
       "    </tr>\n",
       "    <tr>\n",
       "      <th>3</th>\n",
       "      <td>2059</td>\n",
       "      <td>MERCER</td>\n",
       "      <td>MERCER CO SPECIAL SERVICE</td>\n",
       "      <td>JOSEPH F. CAPPELLO SCHOOL</td>\n",
       "      <td>14</td>\n",
       "      <td>80240</td>\n",
       "      <td>1</td>\n",
       "      <td>14</td>\n",
       "      <td>14</td>\n",
       "      <td>1</td>\n",
       "      <td>...</td>\n",
       "      <td>3103</td>\n",
       "      <td>50</td>\n",
       "      <td>197</td>\n",
       "      <td>1072 Old Trenton Road</td>\n",
       "      <td>Hamilton</td>\n",
       "      <td>NJ</td>\n",
       "      <td>8690</td>\n",
       "      <td>40.2512</td>\n",
       "      <td>-74.6537</td>\n",
       "      <td>True</td>\n",
       "    </tr>\n",
       "    <tr>\n",
       "      <th>4</th>\n",
       "      <td>2060</td>\n",
       "      <td>MERCER</td>\n",
       "      <td>MERCER CO SPECIAL SERVICE</td>\n",
       "      <td>JOSEPH F. CAPPELLO SCHOOL</td>\n",
       "      <td>31</td>\n",
       "      <td>86845</td>\n",
       "      <td>1</td>\n",
       "      <td>29</td>\n",
       "      <td>29</td>\n",
       "      <td>1</td>\n",
       "      <td>...</td>\n",
       "      <td>3103</td>\n",
       "      <td>50</td>\n",
       "      <td>197</td>\n",
       "      <td>1072 Old Trenton Road</td>\n",
       "      <td>Hamilton</td>\n",
       "      <td>NJ</td>\n",
       "      <td>8690</td>\n",
       "      <td>40.2512</td>\n",
       "      <td>-74.6537</td>\n",
       "      <td>True</td>\n",
       "    </tr>\n",
       "  </tbody>\n",
       "</table>\n",
       "<p>5 rows × 25 columns</p>\n",
       "</div>"
      ],
      "text/plain": [
       "   id_num   county                   district                     school  \\\n",
       "0    2158  PASSAIC               PASSAIC CITY  LINCOLN MIDDLE SCHOOL # 4   \n",
       "1    2159  PASSAIC               PASSAIC CITY  LINCOLN MIDDLE SCHOOL # 4   \n",
       "2    2160  PASSAIC               PASSAIC CITY                 SCHOOL # 5   \n",
       "3    2059   MERCER  MERCER CO SPECIAL SERVICE  JOSEPH F. CAPPELLO SCHOOL   \n",
       "4    2060   MERCER  MERCER CO SPECIAL SERVICE  JOSEPH F. CAPPELLO SCHOOL   \n",
       "\n",
       "   yrs_experience  salary  classes_taught  exp_district  exp_nj  fte  ...   \\\n",
       "0              20  108097               0            18      20    1  ...    \n",
       "1              19  116747               0            19      19    1  ...    \n",
       "2               3   61043               0             3       3    1  ...    \n",
       "3              14   80240               1            14      14    1  ...    \n",
       "4              31   86845               1            29      29    1  ...    \n",
       "\n",
       "  district_code school_code school_id_num               address1      city  \\\n",
       "0          3970          95          1256     291 Lafayette Ave.   Passaic   \n",
       "1          3970          95          1256     291 Lafayette Ave.   Passaic   \n",
       "2          3970          97           680         168 Monroe St.   Passaic   \n",
       "3          3103          50           197  1072 Old Trenton Road  Hamilton   \n",
       "4          3103          50           197  1072 Old Trenton Road  Hamilton   \n",
       "\n",
       "   state   zip  latitude longitude  ELEM  \n",
       "0     NJ  7055   40.8571  -74.1323  True  \n",
       "1     NJ  7055   40.8571  -74.1323  True  \n",
       "2     NJ  7055   40.8672  -74.1207  True  \n",
       "3     NJ  8690   40.2512  -74.6537  True  \n",
       "4     NJ  8690   40.2512  -74.6537  True  \n",
       "\n",
       "[5 rows x 25 columns]"
      ]
     },
     "execution_count": 61,
     "metadata": {},
     "output_type": "execute_result"
    }
   ],
   "source": [
    "salary.head()"
   ]
  },
  {
   "cell_type": "code",
   "execution_count": 62,
   "metadata": {
    "collapsed": false
   },
   "outputs": [
    {
     "data": {
      "text/plain": [
       "array(['id_num', 'county', 'district', 'school', 'yrs_experience',\n",
       "       'salary', 'classes_taught', 'exp_district', 'exp_nj', 'fte',\n",
       "       'subcategory', 'certificate', 'highly_qual', 'route', 'county_code',\n",
       "       'district_code', 'school_code', 'school_id_num', 'address1', 'city',\n",
       "       'state', 'zip', 'latitude', 'longitude', 'ELEM'], dtype=object)"
      ]
     },
     "execution_count": 62,
     "metadata": {},
     "output_type": "execute_result"
    }
   ],
   "source": [
    "salary.columns.values"
   ]
  },
  {
   "cell_type": "code",
   "execution_count": 70,
   "metadata": {
    "collapsed": false
   },
   "outputs": [],
   "source": [
    "salary[\"fte\"] = salary[\"fte\"].map(lambda x: x == 1)"
   ]
  },
  {
   "cell_type": "code",
   "execution_count": 83,
   "metadata": {
    "collapsed": false
   },
   "outputs": [],
   "source": [
    "salary = salary[salary.fte == True]"
   ]
  },
  {
   "cell_type": "code",
   "execution_count": 84,
   "metadata": {
    "collapsed": true
   },
   "outputs": [],
   "source": [
    "salary = salary[salary.ELEM == True]"
   ]
  },
  {
   "cell_type": "code",
   "execution_count": 85,
   "metadata": {
    "collapsed": false
   },
   "outputs": [
    {
     "data": {
      "text/plain": [
       "(89159, 25)"
      ]
     },
     "execution_count": 85,
     "metadata": {},
     "output_type": "execute_result"
    }
   ],
   "source": [
    "salary.shape"
   ]
  },
  {
   "cell_type": "code",
   "execution_count": 87,
   "metadata": {
    "collapsed": false
   },
   "outputs": [
    {
     "data": {
      "text/plain": [
       "array(['General ed', 'Special ed', 'Admin or supervisor', 'Hearing',\n",
       "       'Bilingual', 'Visual', nan], dtype=object)"
      ]
     },
     "execution_count": 87,
     "metadata": {},
     "output_type": "execute_result"
    }
   ],
   "source": [
    "salary.subcategory.unique()"
   ]
  },
  {
   "cell_type": "code",
   "execution_count": 91,
   "metadata": {
    "collapsed": false
   },
   "outputs": [
    {
     "data": {
      "text/plain": [
       "(15287, 25)"
      ]
     },
     "execution_count": 91,
     "metadata": {},
     "output_type": "execute_result"
    }
   ],
   "source": [
    "salary[salary.subcategory == 'Special ed'].shape"
   ]
  },
  {
   "cell_type": "code",
   "execution_count": 96,
   "metadata": {
    "collapsed": false
   },
   "outputs": [],
   "source": [
    "salary['TEACH'] = salary['subcategory'].map(lambda x: x == 'General ed' or x == 'Special ed')"
   ]
  },
  {
   "cell_type": "code",
   "execution_count": 98,
   "metadata": {
    "collapsed": false
   },
   "outputs": [
    {
     "data": {
      "text/plain": [
       "(89159, 26)"
      ]
     },
     "execution_count": 98,
     "metadata": {},
     "output_type": "execute_result"
    }
   ],
   "source": [
    "salary.shape"
   ]
  },
  {
   "cell_type": "code",
   "execution_count": 103,
   "metadata": {
    "collapsed": false
   },
   "outputs": [],
   "source": [
    "salary = salary[salary.TEACH == True]"
   ]
  },
  {
   "cell_type": "code",
   "execution_count": null,
   "metadata": {
    "collapsed": true
   },
   "outputs": [],
   "source": []
  }
 ],
 "metadata": {
  "kernelspec": {
   "display_name": "Python 2",
   "language": "python",
   "name": "python2"
  },
  "language_info": {
   "codemirror_mode": {
    "name": "ipython",
    "version": 2
   },
   "file_extension": ".py",
   "mimetype": "text/x-python",
   "name": "python",
   "nbconvert_exporter": "python",
   "pygments_lexer": "ipython2",
   "version": "2.7.10"
  }
 },
 "nbformat": 4,
 "nbformat_minor": 0
}
