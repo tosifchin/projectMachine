{
 "cells": [
  {
   "cell_type": "code",
   "execution_count": 200,
   "metadata": {
    "collapsed": true
   },
   "outputs": [],
   "source": [
    "import pandas as pd\n",
    "import numpy as np\n",
    "from sklearn import linear_model\n",
    "from sklearn import ensemble  #for random forest\n",
    "from sklearn.cross_validation import train_test_split\n",
    "from sklearn.cross_validation import cross_val_score"
   ]
  },
  {
   "cell_type": "code",
   "execution_count": 201,
   "metadata": {
    "collapsed": false
   },
   "outputs": [
    {
     "name": "stdout",
     "output_type": "stream",
     "text": [
      "(144158, 20) (2461, 7) (2662, 49)\n"
     ]
    }
   ],
   "source": [
    "#import the three data tables - employees.csv, headers.csv, public_schools.csv\n",
    "#and merge them by county,district and school codes\n",
    "employees_df = pd.read_csv(\"employees.csv\")\n",
    "headers_df = pd.read_csv(\"headers.csv\")\n",
    "schools_df = pd.read_csv(\"public_schools.csv\")\n",
    "print employees_df.shape, headers_df.shape, schools_df.shape"
   ]
  },
  {
   "cell_type": "code",
   "execution_count": 202,
   "metadata": {
    "collapsed": false
   },
   "outputs": [
    {
     "name": "stdout",
     "output_type": "stream",
     "text": [
      "(2568, 53)\n",
      "0\n",
      "[]\n"
     ]
    }
   ],
   "source": [
    "#clean up some of the values so that they can be joined with the school headers data:\n",
    "#employee text values do not have commas or apostrophes so remove them from the school data values\n",
    "headers_df.school = headers_df.school.str.replace(\"'\",'')\n",
    "headers_df.district = headers_df.district.str.replace(\"'\",'')\n",
    "schools_df.school_name = schools_df.school_name.str.replace(\"'\",'')\n",
    "schools_df.district_name = schools_df.district_name.str.replace(\"'\",'')\n",
    "\n",
    "headers_df.school = headers_df.school.str.replace(\",\",'')\n",
    "headers_df.district = headers_df.district.str.replace(\",\",'')\n",
    "schools_df.school_name = schools_df.school_name.str.replace(\",\",'')\n",
    "schools_df.district_name = schools_df.district_name.str.replace(\",\",'')\n",
    "\n",
    "#correct the fact that 7s appeared as CE in the employee file\n",
    "employees_df.school = employees_df.school.str.replace('RAHWAY CETH','RAHWAY 7TH')\n",
    "employees_df.school = employees_df.school.str.replace('ROOSEVELT SCHOOL #CE','ROOSEVELT SCHOOL #7')\n",
    "employees_df.school = employees_df.school.str.replace('ANTONIA PANTOJA SCHOOL NO. 2CE','ANTONIA PANTOJA SCHOOL NO. 27')\n",
    "employees_df.school = employees_df.school.str.replace('#1CE','#17')\n",
    "employees_df.school = employees_df.school.str.replace('SCHOOL 2CE','SCHOOL 27')\n",
    "employees_df.school = employees_df.school.str.replace('ULYSSES S. GRANT SCHOOL # CE','ULYSSES S. GRANT SCHOOL # 7')\n",
    "employees_df.school = employees_df.school.str.replace('SCHOOL CE','SCHOOL 7')\n",
    "employees_df.school = employees_df.school.str.replace('TERENCE C. REILLY SCHOOL # CE','TERENCE C. REILLY SCHOOL # 7')\n",
    "employees_df.school = employees_df.school.str.replace('SCHOOL # 1CE','SCHOOL # 17')\n",
    "employees_df.school = employees_df.school.str.replace('BELLEVILLE PSCE','BELLEVILLE PS7')\n",
    "\n",
    "#correct various mismatches in the data:\n",
    "employees_df.district = employees_df.district.str.replace(' VC',' VOCATIONAL')\n",
    "\n",
    "headers_df.school.loc[(headers_df.school == 'LINCOLN ELEMENTARY SCHOOL') & (headers_df.district == 'KEARNY TOWN')] \\\n",
    "                      = 'LINCOLN MIDDLE SCHOOL'\n",
    "headers_df.school.loc[(headers_df.school == 'SCHOOL OF SCIENCE TECHNOLOGY ENGG & MATHEMATICS') & \\\n",
    "                     (headers_df['district'] == 'PATERSON CITY')] \\\n",
    "                    = 'SCHOOL OF SCIENCE TECHNOLOGY ENGINEERING AND MATHEMATICS'\n",
    "\n",
    "schools_df.district_code.loc[(schools_df['school_name'] == 'LAMBERTVILLE PUBLIC SCHOOL')] = 2530\n",
    "schools_df.school_code.loc[(schools_df['school_name'] == 'LAMBERTVILLE PUBLIC SCHOOL')]= 50\n",
    "schools_df.school_code.loc[(schools_df['school_name'] == 'HENRY L. BONSALL FAMILY SCHOOL')] = 100\n",
    "schools_df.school_code.loc[(schools_df['school_name'] == 'FRANCIS X. MCGRAW ELEMENTARY')] = 230\n",
    "schools_df.school_code.loc[(schools_df['school_name'] == 'RAFAEL CORDERO MOLINA ELEMENTARY SCHOOL')] = 250\n",
    "schools_df.school_code.loc[(schools_df['school_name'] == 'JOHN GREENLEAF WHITTIER FAMILY SCHOOL')] = 340\n",
    "schools_df.district_code.loc[(schools_df['school_name'] == 'SOUTH HUNTERDON HIGH SCHOOL')] = 4890\n",
    "schools_df.district_code.loc[(schools_df['school_name'] == 'STOCKTON BOROUGH SCHOOL')] = 5050\n",
    "schools_df.school_code.loc[(schools_df['school_name'] == 'STOCKTON BOROUGH SCHOOL')]  = 50\n",
    "\n",
    "    \n",
    "headers_df = pd.merge(headers_df, schools_df, how='left', on=['county_code','district_code', 'school_code'])\n",
    "\n",
    "\n",
    "remaining = pd.DataFrame([\n",
    "   ['GRETTA R. OSTROVSKY MIDDLE SCHOOL',    -74.08466,     40.84146],\n",
    "   ['JR/SR HIGH SCHOOL',    -74.81260,     40.04495],\n",
    "   ['EAST CAMDEN MIDDLE SCHOOL',    -75.12285,     39.95576],\n",
    "   ['PYNE POYNT MIDDLE SCHOOL',    -75.12696,    39.93595],\n",
    "   ['STOCKTON BOROUGH SCHOOL DISTRICT',    -74.49987,     40.16706],\n",
    "   ['WEST AMWELL TOWNSHIP',   -74.11532,     40.91506],\n",
    "   ['MONUMENT ELEMENTARY SCHOOL',   -74.71268,     40.26977],\n",
    "   ['AUDREY W. CLARK ELEMENTARY SCHOOL',    -73.98236,     40.30576],\n",
    "   ['BOUND BROOK ELEMENTARY SCHOOL',    -74.47620,     40.58596],\n",
    "   ['VISIONS ACADEMY CHARTER HIGH SCHOOL',    -74.49987,     40.16706],\n",
    "   ['CENTRAL JERSEY ARTS CHARTER SCHOOL',   -75.50865,     39.66265],\n",
    "   ['ARTHUR STANLICK ELEMENTARY SCHOOL', -74.559507, 41.002672],\n",
    "   ['BRAGG ELEMENTARY SCHOOL', -74.687645, 40.776312],\n",
    "   ['DICKERSON ELEMENTARY SCHOOL', -74.687645, 40.776312],     \n",
    "   ['GALLOWAY COMMUNITY CHARTER SCHOOL',    -74.49987,     40.16706]])\n",
    "remaining.columns = ['school','longitude','latitude']\n",
    "#print remaining\n",
    "for i in range(remaining.shape[0]):\n",
    "    headers_df.latitude.loc[headers_df['school'] == remaining.school.iloc[i]] = remaining.latitude.iloc[i]\n",
    "    headers_df.longitude.loc[headers_df['school'] == remaining.school.iloc[i]] = remaining.longitude.iloc[i]\n",
    "    \n",
    "print headers_df.shape\n",
    "probs = pd.isnull(headers_df.latitude).nonzero()[0]\n",
    "print len(probs)\n",
    "print probs\n",
    "headers_df.iloc[probs]\n",
    "\n",
    "headers_df.school.loc[headers_df.school == 'WEST MILFORD TOWNSHIP HIGH SCHOOL'] = 'WEST MILFORD HIGH SCHOOL'\n",
    "headers_df.school.loc[headers_df.school == 'HIGH POINT REGIONAL HS'] ='HIGH POINT REGIONAL HIGH SCHOOL'\n",
    "headers_df.school.loc[headers_df.school == 'SUMMIT SENIOR HIGH SCHOOL'] = 'SUMMIT HIGH SCHOOL'\n",
    "headers_df.school.loc[headers_df.school == 'HAMBURG BORO'] ='HAMBURG SCHOOL'\n",
    "headers_df.school.loc[headers_df.school == 'MAHWAH HIGH'] ='MAHWAH HIGH SCHOOL'\n",
    "headers_df.school.loc[headers_df.school == 'JOYCE KILMER'] = 'JOYCE KILMER SCHOOL'\n",
    "headers_df.school.loc[headers_df.school == 'BETSY ROSS'] = 'BETSY ROSS ELEMENTARY'\n",
    "headers_df.school.loc[headers_df.school == 'GEORGE WASHINGTON'] = 'GEORGE WASHINGTON SCHOOL'\n",
    "employees_df.school.loc[employees_df.school == 'BULINGTON CITY HIGH SCHOOL'] = 'BURLINGTON CITY HIGH SCHOOL'\n",
    "headers_df.school.loc[headers_df.school == 'CLEMENTON ELEMENTARY SCHOOL'] = 'CLEMENTON ELEMENTARY SCHOOL DISTRICT'\n",
    "headers_df.school.loc[headers_df.school == 'ALEXANDER DENBO SCHOOL'] = 'ALEXANDER DENBO/ALETTA CRICHTON SCHOOL'\n",
    "headers_df.school.loc[headers_df.school == 'SOMERDALE PARK SCHOOL'] = 'SOMERDALE SCHOOL DISTRICT'\n",
    "headers_df.school.loc[headers_df.school == 'MAURICE RIVER TOWNSHIP ELEMENTARY SCHOOL'] = 'MAURICE RIVER TOWNSHIP SCHOOL DISTRICT'\n",
    "headers_df.school.loc[headers_df.school == 'FREEDOM ACADEMY CHARTER SCHOOL'] = 'FREEDOM PREP CHARTER SCHOOL'\n",
    "headers_df.school.loc[headers_df.school == 'LINCOLN/ROOSEVELT SCHOOL'] = 'LINCOLN/ROOSEVELT SCHOOL DISTRICT'\n",
    "headers_df.school.loc[headers_df.school == 'NIXON ELEMENTARY SCHOOL'] = 'NIXON ELEMENTARY SCHOOL DISTRICT'\n",
    "headers_df.school.loc[headers_df.school == 'ROXBURY HIGH SCHOOL'] = 'ROXBURY HIGH SCHOOL DISTRICT'\n",
    "headers_df.school.loc[headers_df.school == 'KITTATINNY REGIONAL SCHOOL'] = 'KITTATINNY HIGH SCHOOL DISTRICT'\n",
    "\n",
    "#merge the salary data with the combined school datafiles\n",
    "salaries = pd.merge(employees_df, headers_df, how='left', on=['county','district', 'school'])\n",
    "\n"
   ]
  },
  {
   "cell_type": "code",
   "execution_count": 203,
   "metadata": {
    "collapsed": false
   },
   "outputs": [
    {
     "name": "stdout",
     "output_type": "stream",
     "text": [
      "(149196, 70)\n",
      "9026\n"
     ]
    },
    {
     "data": {
      "text/plain": [
       "array([    40,     41,     42, ..., 149097, 149103, 149126])"
      ]
     },
     "execution_count": 203,
     "metadata": {},
     "output_type": "execute_result"
    }
   ],
   "source": [
    "#check how many problem records (i.e. null latitudes) remain\n",
    "print salaries.shape\n",
    "probs = pd.isnull(salaries.latitude).nonzero()[0]\n",
    "print len(probs)\n",
    "salaries.iloc[probs]\n",
    "probs\n"
   ]
  },
  {
   "cell_type": "code",
   "execution_count": 204,
   "metadata": {
    "collapsed": false
   },
   "outputs": [
    {
     "name": "stdout",
     "output_type": "stream",
     "text": [
      "6474\n"
     ]
    }
   ],
   "source": [
    "#what to do with those DISTRICT OFFICE values in school?  \n",
    "#will impute the mean lat and long for the district and county.\n",
    "dist_office = salaries['school'].map(lambda x: x =='DISTRICT OFFICE')\n",
    "print sum(dist_office)"
   ]
  },
  {
   "cell_type": "code",
   "execution_count": 205,
   "metadata": {
    "collapsed": false
   },
   "outputs": [
    {
     "name": "stdout",
     "output_type": "stream",
     "text": [
      "6474\n",
      "[ 40  41  42  44  45  46  47  48  49  92  93  94  95 107 108 119 120 121\n",
      " 128 129]\n",
      "before set:  nan nan\n",
      "after set:  40.3288218554 -74.7970826145\n"
     ]
    }
   ],
   "source": [
    "avg_lat_per_county_dist = salaries[-dist_office].groupby(['county','district']).mean()\n",
    "\n",
    "salaries['county_district'] = zip(salaries.county, salaries.district)\n",
    "\n",
    "#get the indices of the district office records\n",
    "dist_office_idxs = dist_office.nonzero()[0]\n",
    "print len(dist_office_idxs)\n",
    "print dist_office_idxs[range(20)]\n",
    "print \"before set: \", salaries.latitude[41], salaries.longitude[41]\n",
    "#for each district office record, get the avg latitude for that county, district combination and put into a series\n",
    "#then do the same for longitude\n",
    "avg_lat_for_dist_office_recs = salaries.county_district.iloc[dist_office_idxs].map(lambda x: \\\n",
    "                                                               avg_lat_per_county_dist.latitude.loc[x])\n",
    "avg_long_for_dist_office_recs = salaries.county_district.iloc[dist_office_idxs].map(lambda x: \\\n",
    "                                                               avg_lat_per_county_dist.longitude.loc[x])\n",
    "\n",
    "salaries.latitude.iloc[dist_office_idxs] = avg_lat_for_dist_office_recs\n",
    "salaries.longitude.iloc[dist_office_idxs] = avg_long_for_dist_office_recs\n",
    "\n",
    "print \"after set: \", salaries.latitude[41], salaries.longitude[41]"
   ]
  },
  {
   "cell_type": "code",
   "execution_count": 206,
   "metadata": {
    "collapsed": false
   },
   "outputs": [
    {
     "name": "stdout",
     "output_type": "stream",
     "text": [
      "(149196, 71)\n",
      "2564\n"
     ]
    }
   ],
   "source": [
    "#check how many problem records (i.e. null latitudes) remain\n",
    "print salaries.shape\n",
    "probs_after = pd.isnull(salaries.latitude).nonzero()[0]\n",
    "print len(probs_after)\n",
    "#probs_after\n"
   ]
  },
  {
   "cell_type": "code",
   "execution_count": 207,
   "metadata": {
    "collapsed": false
   },
   "outputs": [
    {
     "name": "stdout",
     "output_type": "stream",
     "text": [
      "here:\n",
      "2564 [   169   2225   3780 ..., 149097 149103 149126]\n",
      "ex:  ('PASSAIC CO ED SERV COMM', 'HOPE ACADEMY')\n",
      "before setd:  nan nan\n",
      "before setd 2225:  nan nan\n",
      "2564\n",
      "2564\n",
      "after setd:  1122    40.869868\n",
      "Name: latitude, dtype: float64 1122   -74.125379\n",
      "Name: longitude, dtype: float64\n",
      "after setd 2225:  Series([], Name: latitude, dtype: float64) Series([], Name: longitude, dtype: float64)\n",
      "0 []\n"
     ]
    }
   ],
   "source": [
    "#this doesn't work so ignoring for now.  The point was to\n",
    "#see if any of the school names in employee can be found in public_schools.csv if they were not found in header.csv\n",
    "schools_df['district_school'] = zip(schools_df.district_name,schools_df.school_name)\n",
    "#print schools_df.loc[(schools_df.district_name == 'PASSAIC CITY SCHOOL DISTRICT') & (schools_df.school_name == 'MARIO DRAGO SCHOOL # 3')]\n",
    "print \"here:\"\n",
    "#print schools_df.loc[(schools_df.district_name == 'PASSAIC CO ED SERV COMM') & (schools_df.school_name == 'HOPE ACADEMY')]\n",
    "\n",
    "salaries['district_school'] = zip(salaries.district, salaries.school)\n",
    "\n",
    "#get the indices of the null latitude records\n",
    "null_lat_idxs = pd.isnull(salaries.latitude).nonzero()[0]\n",
    "print len(null_lat_idxs), null_lat_idxs\n",
    "print \"ex: \", salaries.district_school.iloc[169]\n",
    "print \"before setd: \", salaries.latitude.iloc[169], salaries.longitude.iloc[169]\n",
    "print \"before setd 2225: \", salaries.latitude.iloc[2225], salaries.longitude.iloc[2225]\n",
    "#for each null latitude record, get the latitude for that district and school combination in schools_df\n",
    "#and put into a series\n",
    "#then do the same for longitude\n",
    "new_lats_for_null_lat_recs = salaries.district_school.iloc[null_lat_idxs].map(lambda x: \\\n",
    "                                                    schools_df.latitude.loc[schools_df.school_name == x[1]])\n",
    "print len(new_lats_for_null_lat_recs)\n",
    "new_longs_for_null_long_recs = salaries.district_school.iloc[null_lat_idxs].map(lambda x: \\\n",
    "                                                    schools_df.longitude.loc[schools_df.school_name == x[1]])\n",
    "\n",
    "print len(new_longs_for_null_long_recs)\n",
    "salaries.latitude.iloc[null_lat_idxs] = new_lats_for_null_lat_recs\n",
    "salaries.longitude.iloc[null_lat_idxs] = new_longs_for_null_long_recs\n",
    "\n",
    "print \"after setd: \", salaries.latitude.iloc[169], salaries.longitude.iloc[169]\n",
    "print \"after setd 2225: \", salaries.latitude.iloc[2225], salaries.longitude.iloc[2225]\n",
    "null_lat_idxs = pd.isnull(salaries.latitude).nonzero()[0]\n",
    "print len(null_lat_idxs), null_lat_idxs"
   ]
  },
  {
   "cell_type": "code",
   "execution_count": 208,
   "metadata": {
    "collapsed": false
   },
   "outputs": [],
   "source": [
    "#clean up the X values in classes_taught\n",
    "#so that I can convert the column to int:\n",
    "salaries.classes_taught.loc[salaries.classes_taught > 'A'] = '99'\n"
   ]
  },
  {
   "cell_type": "code",
   "execution_count": 209,
   "metadata": {
    "collapsed": false
   },
   "outputs": [
    {
     "name": "stdout",
     "output_type": "stream",
     "text": [
      "[nan '1' '20' '31' '15' '12' '7' '5' '6' '2' '3' '11' '4' '8' '21' '10'\n",
      " '17' '9' '23' '14' '24' '16' '32' '25' '13' '18' '19' '27' '34' '28' '26'\n",
      " '22' '36' '29' '40' '30' '33' '35' '99' '39' '38' '37']\n",
      "42\n"
     ]
    }
   ],
   "source": [
    "print salaries.classes_taught.unique()\n",
    "print salaries.classes_taught.unique().size"
   ]
  },
  {
   "cell_type": "code",
   "execution_count": 210,
   "metadata": {
    "collapsed": false
   },
   "outputs": [],
   "source": [
    "#not sure what to do with nan classes_taught, can set them to 0 if we want:\n",
    "nan_idxs = pd.isnull(salaries.classes_taught).nonzero()[0]\n",
    "nan_idxs\n",
    "salaries.classes_taught.iloc[nan_idxs] = 0\n",
    "salaries.classes_taught = salaries.classes_taught.astype(int)"
   ]
  },
  {
   "cell_type": "code",
   "execution_count": 211,
   "metadata": {
    "collapsed": false
   },
   "outputs": [
    {
     "name": "stdout",
     "output_type": "stream",
     "text": [
      "[ 0  1 20 31 15 12  7  5  6  2  3 11  4  8 21 10 17  9 23 14 24 16 32 25 13\n",
      " 18 19 27 34 28 26 22 36 29 40 30 33 35 99 39 38 37]\n",
      "42\n"
     ]
    }
   ],
   "source": [
    "print salaries.classes_taught.unique()\n",
    "print salaries.classes_taught.unique().size"
   ]
  },
  {
   "cell_type": "code",
   "execution_count": 212,
   "metadata": {
    "collapsed": false
   },
   "outputs": [
    {
     "name": "stdout",
     "output_type": "stream",
     "text": [
      "425\n",
      "[23610 23687 23689 23690 23701 23705 23706 23708 23945 23946 23947 23948\n",
      " 23949 23950 23951 24027 24028 24029 24030 24074]\n",
      "before set:  99 0\n",
      "after set:  2 0\n"
     ]
    }
   ],
   "source": [
    "#will impute the X(now 99) values with mean classes_taught for the job name.\n",
    "criterion = salaries.classes_taught.map(lambda x: x == 99) \n",
    "print sum(criterion)\n",
    "avg_num_classes_per_job = salaries[-criterion].groupby(['job_name']).mean()\n",
    "#print type(avg_num_classes_per_job)\n",
    "#print avg_num_classes_per_job.head(5)\n",
    "#get the indices of the X records\n",
    "X_idxs = criterion.nonzero()[0]\n",
    "print X_idxs[range(20)]\n",
    "print \"before set: \", salaries.classes_taught[24028], salaries.classes_taught[1]\n",
    "#for each X record, get the avg classes for that job name and put into a series\n",
    "avg_num_classes_for_X_recs = salaries.job_name.iloc[X_idxs].map(lambda x: \\\n",
    "                                                                round(avg_num_classes_per_job.classes_taught.loc[x]))\n",
    "#print avg_num_classes_for_X_recs.shape\n",
    "salaries.classes_taught.iloc[X_idxs] = avg_num_classes_for_X_recs\n",
    "print \"after set: \", salaries.classes_taught[24028], salaries.classes_taught[1]"
   ]
  },
  {
   "cell_type": "code",
   "execution_count": 213,
   "metadata": {
    "collapsed": false
   },
   "outputs": [
    {
     "name": "stdout",
     "output_type": "stream",
     "text": [
      "[ 0  1 20 31 15 12  7  5  6  2  3 11  4  8 21 10 17  9 23 14 24 16 32 25 13\n",
      " 18 19 27 34 28 26 22 36 29 40 30 33 35 39 38 37]\n",
      "41\n"
     ]
    }
   ],
   "source": [
    "print salaries.classes_taught.unique()\n",
    "print salaries.classes_taught.unique().size"
   ]
  },
  {
   "cell_type": "code",
   "execution_count": 214,
   "metadata": {
    "collapsed": false
   },
   "outputs": [
    {
     "data": {
      "text/html": [
       "<div>\n",
       "<table border=\"1\" class=\"dataframe\">\n",
       "  <thead>\n",
       "    <tr style=\"text-align: right;\">\n",
       "      <th></th>\n",
       "      <th>id_num</th>\n",
       "      <th>county</th>\n",
       "      <th>district</th>\n",
       "      <th>school</th>\n",
       "      <th>yrs_experience</th>\n",
       "      <th>salary</th>\n",
       "      <th>job_name</th>\n",
       "      <th>classes_taught</th>\n",
       "      <th>exp_district</th>\n",
       "      <th>exp_nj</th>\n",
       "      <th>...</th>\n",
       "      <th>grade_9</th>\n",
       "      <th>grade_10</th>\n",
       "      <th>grade_11</th>\n",
       "      <th>grade_12</th>\n",
       "      <th>post_grad_</th>\n",
       "      <th>adult_ed_</th>\n",
       "      <th>latitude</th>\n",
       "      <th>longitude</th>\n",
       "      <th>county_district</th>\n",
       "      <th>district_school</th>\n",
       "    </tr>\n",
       "  </thead>\n",
       "  <tbody>\n",
       "    <tr>\n",
       "      <th>0</th>\n",
       "      <td>2158</td>\n",
       "      <td>PASSAIC</td>\n",
       "      <td>PASSAIC CITY</td>\n",
       "      <td>LINCOLN MIDDLE SCHOOL # 4</td>\n",
       "      <td>20</td>\n",
       "      <td>108097</td>\n",
       "      <td>School Social Worker</td>\n",
       "      <td>0</td>\n",
       "      <td>18</td>\n",
       "      <td>20</td>\n",
       "      <td>...</td>\n",
       "      <td>NA</td>\n",
       "      <td>NA</td>\n",
       "      <td>NA</td>\n",
       "      <td>NA</td>\n",
       "      <td>NA</td>\n",
       "      <td>NA</td>\n",
       "      <td>40.85711</td>\n",
       "      <td>-74.13232</td>\n",
       "      <td>(PASSAIC, PASSAIC CITY)</td>\n",
       "      <td>(PASSAIC CITY, LINCOLN MIDDLE SCHOOL # 4)</td>\n",
       "    </tr>\n",
       "    <tr>\n",
       "      <th>1</th>\n",
       "      <td>2159</td>\n",
       "      <td>PASSAIC</td>\n",
       "      <td>PASSAIC CITY</td>\n",
       "      <td>LINCOLN MIDDLE SCHOOL # 4</td>\n",
       "      <td>19</td>\n",
       "      <td>116747</td>\n",
       "      <td>School Social Worker</td>\n",
       "      <td>0</td>\n",
       "      <td>19</td>\n",
       "      <td>19</td>\n",
       "      <td>...</td>\n",
       "      <td>NA</td>\n",
       "      <td>NA</td>\n",
       "      <td>NA</td>\n",
       "      <td>NA</td>\n",
       "      <td>NA</td>\n",
       "      <td>NA</td>\n",
       "      <td>40.85711</td>\n",
       "      <td>-74.13232</td>\n",
       "      <td>(PASSAIC, PASSAIC CITY)</td>\n",
       "      <td>(PASSAIC CITY, LINCOLN MIDDLE SCHOOL # 4)</td>\n",
       "    </tr>\n",
       "    <tr>\n",
       "      <th>2</th>\n",
       "      <td>2160</td>\n",
       "      <td>PASSAIC</td>\n",
       "      <td>PASSAIC CITY</td>\n",
       "      <td>SCHOOL # 5</td>\n",
       "      <td>3</td>\n",
       "      <td>61043</td>\n",
       "      <td>School Social Worker</td>\n",
       "      <td>0</td>\n",
       "      <td>3</td>\n",
       "      <td>3</td>\n",
       "      <td>...</td>\n",
       "      <td>NA</td>\n",
       "      <td>NA</td>\n",
       "      <td>NA</td>\n",
       "      <td>NA</td>\n",
       "      <td>NA</td>\n",
       "      <td>NA</td>\n",
       "      <td>40.86724</td>\n",
       "      <td>-74.12072</td>\n",
       "      <td>(PASSAIC, PASSAIC CITY)</td>\n",
       "      <td>(PASSAIC CITY, SCHOOL # 5)</td>\n",
       "    </tr>\n",
       "    <tr>\n",
       "      <th>3</th>\n",
       "      <td>2059</td>\n",
       "      <td>MERCER</td>\n",
       "      <td>MERCER CO SPECIAL SERVICE</td>\n",
       "      <td>JOSEPH F. CAPPELLO SCHOOL</td>\n",
       "      <td>14</td>\n",
       "      <td>80240</td>\n",
       "      <td>Preschool</td>\n",
       "      <td>1</td>\n",
       "      <td>14</td>\n",
       "      <td>14</td>\n",
       "      <td>...</td>\n",
       "      <td>NA</td>\n",
       "      <td>NA</td>\n",
       "      <td>NA</td>\n",
       "      <td>NA</td>\n",
       "      <td>NA</td>\n",
       "      <td>NA</td>\n",
       "      <td>40.25116</td>\n",
       "      <td>-74.65371</td>\n",
       "      <td>(MERCER, MERCER CO SPECIAL SERVICE)</td>\n",
       "      <td>(MERCER CO SPECIAL SERVICE, JOSEPH F. CAPPELLO...</td>\n",
       "    </tr>\n",
       "    <tr>\n",
       "      <th>4</th>\n",
       "      <td>2060</td>\n",
       "      <td>MERCER</td>\n",
       "      <td>MERCER CO SPECIAL SERVICE</td>\n",
       "      <td>JOSEPH F. CAPPELLO SCHOOL</td>\n",
       "      <td>31</td>\n",
       "      <td>86845</td>\n",
       "      <td>Preschool</td>\n",
       "      <td>1</td>\n",
       "      <td>29</td>\n",
       "      <td>29</td>\n",
       "      <td>...</td>\n",
       "      <td>NA</td>\n",
       "      <td>NA</td>\n",
       "      <td>NA</td>\n",
       "      <td>NA</td>\n",
       "      <td>NA</td>\n",
       "      <td>NA</td>\n",
       "      <td>40.25116</td>\n",
       "      <td>-74.65371</td>\n",
       "      <td>(MERCER, MERCER CO SPECIAL SERVICE)</td>\n",
       "      <td>(MERCER CO SPECIAL SERVICE, JOSEPH F. CAPPELLO...</td>\n",
       "    </tr>\n",
       "  </tbody>\n",
       "</table>\n",
       "<p>5 rows × 72 columns</p>\n",
       "</div>"
      ],
      "text/plain": [
       "   id_num   county                   district                     school  \\\n",
       "0    2158  PASSAIC               PASSAIC CITY  LINCOLN MIDDLE SCHOOL # 4   \n",
       "1    2159  PASSAIC               PASSAIC CITY  LINCOLN MIDDLE SCHOOL # 4   \n",
       "2    2160  PASSAIC               PASSAIC CITY                 SCHOOL # 5   \n",
       "3    2059   MERCER  MERCER CO SPECIAL SERVICE  JOSEPH F. CAPPELLO SCHOOL   \n",
       "4    2060   MERCER  MERCER CO SPECIAL SERVICE  JOSEPH F. CAPPELLO SCHOOL   \n",
       "\n",
       "   yrs_experience  salary              job_name  classes_taught  exp_district  \\\n",
       "0              20  108097  School Social Worker               0            18   \n",
       "1              19  116747  School Social Worker               0            19   \n",
       "2               3   61043  School Social Worker               0             3   \n",
       "3              14   80240             Preschool               1            14   \n",
       "4              31   86845             Preschool               1            29   \n",
       "\n",
       "   exp_nj                        ...                          grade_9  \\\n",
       "0      20                        ...                            NA      \n",
       "1      19                        ...                            NA      \n",
       "2       3                        ...                            NA      \n",
       "3      14                        ...                            NA      \n",
       "4      29                        ...                            NA      \n",
       "\n",
       "   grade_10  grade_11 grade_12  post_grad_  adult_ed_  latitude longitude  \\\n",
       "0     NA        NA       NA          NA         NA     40.85711 -74.13232   \n",
       "1     NA        NA       NA          NA         NA     40.85711 -74.13232   \n",
       "2     NA        NA       NA          NA         NA     40.86724 -74.12072   \n",
       "3     NA        NA       NA          NA         NA     40.25116 -74.65371   \n",
       "4     NA        NA       NA          NA         NA     40.25116 -74.65371   \n",
       "\n",
       "                       county_district  \\\n",
       "0              (PASSAIC, PASSAIC CITY)   \n",
       "1              (PASSAIC, PASSAIC CITY)   \n",
       "2              (PASSAIC, PASSAIC CITY)   \n",
       "3  (MERCER, MERCER CO SPECIAL SERVICE)   \n",
       "4  (MERCER, MERCER CO SPECIAL SERVICE)   \n",
       "\n",
       "                                     district_school  \n",
       "0          (PASSAIC CITY, LINCOLN MIDDLE SCHOOL # 4)  \n",
       "1          (PASSAIC CITY, LINCOLN MIDDLE SCHOOL # 4)  \n",
       "2                         (PASSAIC CITY, SCHOOL # 5)  \n",
       "3  (MERCER CO SPECIAL SERVICE, JOSEPH F. CAPPELLO...  \n",
       "4  (MERCER CO SPECIAL SERVICE, JOSEPH F. CAPPELLO...  \n",
       "\n",
       "[5 rows x 72 columns]"
      ]
     },
     "execution_count": 214,
     "metadata": {},
     "output_type": "execute_result"
    }
   ],
   "source": [
    "salaries.head()"
   ]
  },
  {
   "cell_type": "code",
   "execution_count": 215,
   "metadata": {
    "collapsed": false
   },
   "outputs": [
    {
     "data": {
      "text/plain": [
       "array(['id_num', 'county', 'district', 'school', 'yrs_experience',\n",
       "       'salary', 'job_name', 'classes_taught', 'exp_district', 'exp_nj',\n",
       "       'exp_total', 'job_code', 'fte', 'subcategory', 'county2',\n",
       "       'district2', 'school2', 'certificate', 'highly_qual', 'route',\n",
       "       'county_code', 'district_code', 'school_code', 'gradespan',\n",
       "       'school_id_num', 'address1', 'city', 'state', 'zip', 'county_name',\n",
       "       'district_name', 'school_name', 'princ_title', 'princ_first_name',\n",
       "       'princ_last_name', 'princ_title_2', 'princ_email', 'address2',\n",
       "       'mailing_address1', 'mailing_address2', 'mailing_city',\n",
       "       'mailing_state', 'mailing_zip', 'hib_title1', 'hib_first_nname',\n",
       "       'hib_last_name', 'hib_title2', 'homeless_liaison_title1',\n",
       "       'homeless_liaison_first_name', 'homeless_liaison_last_name',\n",
       "       'homeless_liaison_title2', 'phone', 'pre_k', 'kindergarten',\n",
       "       'grade_1', 'grade_2', 'grade_3', 'grade_4', 'grade_5', 'grade_6',\n",
       "       'grade_7', 'grade_8', 'grade_9', 'grade_10', 'grade_11', 'grade_12',\n",
       "       'post_grad_', 'adult_ed_', 'latitude', 'longitude',\n",
       "       'county_district', 'district_school'], dtype=object)"
      ]
     },
     "execution_count": 215,
     "metadata": {},
     "output_type": "execute_result"
    }
   ],
   "source": [
    "salaries.columns.values"
   ]
  },
  {
   "cell_type": "code",
   "execution_count": 216,
   "metadata": {
    "collapsed": true
   },
   "outputs": [],
   "source": [
    "salaries.to_csv('salaries_new.csv')"
   ]
  },
  {
   "cell_type": "code",
   "execution_count": 217,
   "metadata": {
    "collapsed": false
   },
   "outputs": [
    {
     "data": {
      "text/plain": [
       "array([  1.00000000e+00,   5.00000000e-01,   7.80000000e-01,\n",
       "         6.00000000e-01,   2.50000000e-01,   8.00000000e-01,\n",
       "         4.00000000e-01,   4.90000000e-01,   1.00000000e-01,\n",
       "         3.40000000e-01,   7.50000000e-01,   9.00000000e-01,\n",
       "         2.00000000e-01,   3.30000000e-01,   7.00000000e-01,\n",
       "         5.10000000e-01,   7.10000000e-01,   3.00000000e-01,\n",
       "         4.70000000e-01,   2.20000000e-01,   4.60000000e-01,\n",
       "         6.70000000e-01,   2.00000000e-02,   9.99900000e+01,\n",
       "         1.60000000e-01,   6.30000000e-01,   3.60000000e-01,\n",
       "         5.90000000e-01,   2.90000000e-01,   8.50000000e-01,\n",
       "         1.70000000e-01,   6.40000000e-01,   8.30000000e-01,\n",
       "         3.00000000e-02,   8.00000000e-02,   7.00000000e-02,\n",
       "         5.00000000e-02,   6.60000000e-01,   4.00000000e-02,\n",
       "         6.00000000e-02,   6.50000000e-01,   7.40000000e-01,\n",
       "         2.60000000e-01,   3.50000000e-01,   2.80000000e-01,\n",
       "         2.40000000e-01,   4.30000000e-01,   5.70000000e-01,\n",
       "         1.40000000e-01,   3.20000000e-01,   7.90000000e-01,\n",
       "         5.40000000e-01,   8.10000000e-01,   7.30000000e-01,\n",
       "         8.80000000e-01,   6.80000000e-01,   1.50000000e-01,\n",
       "         1.80000000e-01,   7.60000000e-01,   2.30000000e-01,\n",
       "         9.80000000e-01,   5.60000000e-01,   4.80000000e-01,\n",
       "         5.50000000e-01,   7.20000000e-01,   5.80000000e-01,\n",
       "         2.70000000e-01,   4.40000000e-01,   5.30000000e-01,\n",
       "         2.10000000e-01,   1.10000000e-01,   3.90000000e-01,\n",
       "         4.20000000e-01,   4.50000000e-01,   1.20000000e-01,\n",
       "         3.80000000e-01,   8.40000000e-01,   6.20000000e-01,\n",
       "         4.10000000e-01,   9.50000000e-01,   3.10000000e-01,\n",
       "         9.00000000e-02,   8.70000000e-01,   9.40000000e-01,\n",
       "         8.20000000e-01,   8.90000000e-01,   7.70000000e-01,\n",
       "         3.70000000e-01,   1.30000000e-01,   6.90000000e-01,\n",
       "         9.20000000e-01,   5.20000000e-01,   9.60000000e-01,\n",
       "         6.10000000e-01,   9.90000000e-01,   9.30000000e-01,\n",
       "         8.60000000e-01,   1.90000000e-01])"
      ]
     },
     "execution_count": 217,
     "metadata": {},
     "output_type": "execute_result"
    }
   ],
   "source": [
    "salaries.fte.unique()"
   ]
  },
  {
   "cell_type": "code",
   "execution_count": 218,
   "metadata": {
    "collapsed": false
   },
   "outputs": [
    {
     "data": {
      "text/plain": [
       "array(['Standard', 'Provisional',\n",
       "       'Certificate of Eligibility with Advanced Standing', 'Emergency',\n",
       "       'Non-citizen', 'Certificate of Eligilility', nan], dtype=object)"
      ]
     },
     "execution_count": 218,
     "metadata": {},
     "output_type": "execute_result"
    }
   ],
   "source": [
    "salaries.certificate.unique()"
   ]
  },
  {
   "cell_type": "code",
   "execution_count": 219,
   "metadata": {
    "collapsed": false
   },
   "outputs": [
    {
     "data": {
      "text/plain": [
       "array(['8-Jul', '5-Mar', 'PK-03', '12-Sep', '8-Mar', 'KG-05', 'PK-06',\n",
       "       '8-Jun', 'PK-02', 'KG-03', '6-Apr', 'KG-06', '6-Jan', nan, 'PK-05',\n",
       "       'PK-KG', 'PK-07', 'PK-08', 'KG-02', 'KG-01', '6-May', '12-Aug',\n",
       "       '8-May', 'KG-04', 'PK-04', '8-Apr', '4-Mar', '2-Jan', 'KG-08', 'PK',\n",
       "       '5-Apr', '12-Jul', '7-Feb', '12-Jun', 'PK-12', '7-Jun', '5-Jan',\n",
       "       'PK-01', '3-Feb', '4-Feb', '3-Jan', '6-Mar', '6-Feb', '12-Feb',\n",
       "       'KG-11', '12-Mar', '9-Jun', '10-Sep', '11-Jun', 'KG-12', '11-Sep',\n",
       "       'KG-07', '12-Oct', '9-Aug', '5-Feb', '4-Jan', '12-Jan', 'PK-09',\n",
       "       '7-May', '6', '8-Feb', '2', '5', '8-Jan', '9', '12-Nov', '9-Jul',\n",
       "       'KG', '8', '10-Jun', '12-Apr', 'UG'], dtype=object)"
      ]
     },
     "execution_count": 219,
     "metadata": {},
     "output_type": "execute_result"
    }
   ],
   "source": [
    "salaries.gradespan.unique()"
   ]
  },
  {
   "cell_type": "code",
   "execution_count": 220,
   "metadata": {
    "collapsed": false
   },
   "outputs": [
    {
     "data": {
      "text/plain": [
       "array(['General ed', 'Special ed', 'Admin or supervisor', 'Bilingual',\n",
       "       'Hearing', 'Visual', nan, 'Non_certified staff'], dtype=object)"
      ]
     },
     "execution_count": 220,
     "metadata": {},
     "output_type": "execute_result"
    }
   ],
   "source": [
    "salaries.subcategory.unique()"
   ]
  },
  {
   "cell_type": "code",
   "execution_count": 221,
   "metadata": {
    "collapsed": true
   },
   "outputs": [],
   "source": [
    "salary = salaries.copy()"
   ]
  },
  {
   "cell_type": "code",
   "execution_count": 222,
   "metadata": {
    "collapsed": false
   },
   "outputs": [
    {
     "data": {
      "text/plain": [
       "array(['id_num', 'county', 'district', 'school', 'yrs_experience',\n",
       "       'salary', 'job_name', 'classes_taught', 'exp_district', 'exp_nj',\n",
       "       'exp_total', 'job_code', 'fte', 'subcategory', 'county2',\n",
       "       'district2', 'school2', 'certificate', 'highly_qual', 'route',\n",
       "       'county_code', 'district_code', 'school_code', 'gradespan',\n",
       "       'school_id_num', 'address1', 'city', 'state', 'zip', 'county_name',\n",
       "       'district_name', 'school_name', 'princ_title', 'princ_first_name',\n",
       "       'princ_last_name', 'princ_title_2', 'princ_email', 'address2',\n",
       "       'mailing_address1', 'mailing_address2', 'mailing_city',\n",
       "       'mailing_state', 'mailing_zip', 'hib_title1', 'hib_first_nname',\n",
       "       'hib_last_name', 'hib_title2', 'homeless_liaison_title1',\n",
       "       'homeless_liaison_first_name', 'homeless_liaison_last_name',\n",
       "       'homeless_liaison_title2', 'phone', 'pre_k', 'kindergarten',\n",
       "       'grade_1', 'grade_2', 'grade_3', 'grade_4', 'grade_5', 'grade_6',\n",
       "       'grade_7', 'grade_8', 'grade_9', 'grade_10', 'grade_11', 'grade_12',\n",
       "       'post_grad_', 'adult_ed_', 'latitude', 'longitude',\n",
       "       'county_district', 'district_school'], dtype=object)"
      ]
     },
     "execution_count": 222,
     "metadata": {},
     "output_type": "execute_result"
    }
   ],
   "source": [
    "salary.columns.values"
   ]
  },
  {
   "cell_type": "code",
   "execution_count": 223,
   "metadata": {
    "collapsed": false
   },
   "outputs": [
    {
     "data": {
      "text/plain": [
       "array(['id_num', 'county', 'district', 'school', 'yrs_experience',\n",
       "       'salary', 'classes_taught', 'exp_district', 'exp_nj', 'fte',\n",
       "       'subcategory', 'certificate', 'highly_qual', 'route', 'county_code',\n",
       "       'district_code', 'school_code', 'school_id_num', 'address1', 'city',\n",
       "       'state', 'zip', 'pre_k', 'kindergarten', 'grade_1', 'grade_2',\n",
       "       'grade_3', 'grade_4', 'grade_5', 'grade_6', 'grade_7', 'grade_8',\n",
       "       'grade_9', 'grade_10', 'grade_11', 'grade_12', 'latitude',\n",
       "       'longitude'], dtype=object)"
      ]
     },
     "execution_count": 223,
     "metadata": {},
     "output_type": "execute_result"
    }
   ],
   "source": [
    "salary.drop('job_name', axis=1, inplace=True)\n",
    "salary.drop('exp_total', axis=1, inplace=True)\n",
    "salary.drop('job_code', axis=1, inplace=True)\n",
    "salary.drop('county2', axis=1, inplace=True)\n",
    "salary.drop('district2', axis=1, inplace=True)\n",
    "salary.drop('school2', axis=1, inplace=True)\n",
    "salary.drop('gradespan', axis=1, inplace=True)\n",
    "salary.drop('county_name', axis=1, inplace=True)\n",
    "salary.drop('district_name', axis=1, inplace=True)\n",
    "salary.drop('school_name', axis=1, inplace=True)\n",
    "salary.drop('princ_title', axis=1, inplace=True)\n",
    "salary.drop('princ_first_name', axis=1, inplace=True)\n",
    "salary.drop('princ_last_name', axis=1, inplace=True)\n",
    "salary.drop('princ_title_2', axis=1, inplace=True)\n",
    "salary.drop('princ_email', axis=1, inplace=True)\n",
    "salary.drop('address2', axis=1, inplace=True)\n",
    "salary.drop('mailing_address1', axis=1, inplace=True)\n",
    "salary.drop('mailing_address2', axis=1, inplace=True)\n",
    "salary.drop('mailing_city', axis=1, inplace=True)\n",
    "salary.drop('mailing_state', axis=1, inplace=True)\n",
    "salary.drop('mailing_zip', axis=1, inplace=True)\n",
    "salary.drop('hib_title1', axis=1, inplace=True)\n",
    "salary.drop('hib_first_nname', axis=1, inplace=True)\n",
    "salary.drop('hib_last_name', axis=1, inplace=True)\n",
    "salary.drop('hib_title2', axis=1, inplace=True)\n",
    "salary.drop('homeless_liaison_title1', axis=1, inplace=True)\n",
    "salary.drop('homeless_liaison_first_name', axis=1, inplace=True)\n",
    "salary.drop('homeless_liaison_last_name', axis=1, inplace=True)\n",
    "salary.drop('homeless_liaison_title2', axis=1, inplace=True)\n",
    "salary.drop('phone', axis=1, inplace=True)\n",
    "salary.drop('county_district', axis=1, inplace=True)\n",
    "salary.drop('district_school', axis=1, inplace=True)\n",
    "salary.drop('post_grad_', axis=1, inplace=True)\n",
    "salary.drop('adult_ed_', axis=1, inplace=True)\n",
    "\n",
    "salary.columns.values"
   ]
  },
  {
   "cell_type": "code",
   "execution_count": 224,
   "metadata": {
    "collapsed": false
   },
   "outputs": [
    {
     "data": {
      "text/plain": [
       "array(['zip', 'pre_k', 'kindergarten', 'grade_1', 'grade_2', 'grade_3',\n",
       "       'grade_4', 'grade_5', 'grade_6', 'grade_7', 'grade_8', 'grade_9',\n",
       "       'grade_10', 'grade_11'], dtype=object)"
      ]
     },
     "execution_count": 224,
     "metadata": {},
     "output_type": "execute_result"
    }
   ],
   "source": [
    "salary.columns.values[21:35]"
   ]
  },
  {
   "cell_type": "code",
   "execution_count": 225,
   "metadata": {
    "collapsed": false
   },
   "outputs": [],
   "source": [
    "salary.loc[:, \"pre_k\":\"grade_12\"] = salary.loc[:, \"pre_k\":\"grade_12\"].convert_objects(convert_numeric=True)"
   ]
  },
  {
   "cell_type": "code",
   "execution_count": 226,
   "metadata": {
    "collapsed": false
   },
   "outputs": [],
   "source": [
    "salary[\"ELEM\"] = salary.loc[:,\"pre_k\":\"grade_8\"].sum(axis=1)"
   ]
  },
  {
   "cell_type": "code",
   "execution_count": 227,
   "metadata": {
    "collapsed": false
   },
   "outputs": [],
   "source": [
    "salary.drop('pre_k', axis=1, inplace=True)\n",
    "salary.drop('kindergarten', axis=1, inplace=True)\n",
    "salary.drop('grade_1', axis=1, inplace=True)\n",
    "salary.drop('grade_2', axis=1, inplace=True)\n",
    "salary.drop('grade_3', axis=1, inplace=True)\n",
    "salary.drop('grade_4', axis=1, inplace=True)\n",
    "salary.drop('grade_5', axis=1, inplace=True)\n",
    "salary.drop('grade_6', axis=1, inplace=True)\n",
    "salary.drop('grade_7', axis=1, inplace=True)\n",
    "salary.drop('grade_8', axis=1, inplace=True)\n",
    "salary.drop('grade_9', axis=1, inplace=True)\n",
    "salary.drop('grade_10', axis=1, inplace=True)\n",
    "salary.drop('grade_11', axis=1, inplace=True)\n",
    "salary.drop('grade_12', axis=1, inplace=True)"
   ]
  },
  {
   "cell_type": "code",
   "execution_count": 228,
   "metadata": {
    "collapsed": false
   },
   "outputs": [
    {
     "data": {
      "text/html": [
       "<div>\n",
       "<table border=\"1\" class=\"dataframe\">\n",
       "  <thead>\n",
       "    <tr style=\"text-align: right;\">\n",
       "      <th></th>\n",
       "      <th>id_num</th>\n",
       "      <th>county</th>\n",
       "      <th>district</th>\n",
       "      <th>school</th>\n",
       "      <th>yrs_experience</th>\n",
       "      <th>salary</th>\n",
       "      <th>classes_taught</th>\n",
       "      <th>exp_district</th>\n",
       "      <th>exp_nj</th>\n",
       "      <th>fte</th>\n",
       "      <th>...</th>\n",
       "      <th>district_code</th>\n",
       "      <th>school_code</th>\n",
       "      <th>school_id_num</th>\n",
       "      <th>address1</th>\n",
       "      <th>city</th>\n",
       "      <th>state</th>\n",
       "      <th>zip</th>\n",
       "      <th>latitude</th>\n",
       "      <th>longitude</th>\n",
       "      <th>ELEM</th>\n",
       "    </tr>\n",
       "  </thead>\n",
       "  <tbody>\n",
       "    <tr>\n",
       "      <th>0</th>\n",
       "      <td>2158</td>\n",
       "      <td>PASSAIC</td>\n",
       "      <td>PASSAIC CITY</td>\n",
       "      <td>LINCOLN MIDDLE SCHOOL # 4</td>\n",
       "      <td>20</td>\n",
       "      <td>108097</td>\n",
       "      <td>0</td>\n",
       "      <td>18</td>\n",
       "      <td>20</td>\n",
       "      <td>1</td>\n",
       "      <td>...</td>\n",
       "      <td>3970</td>\n",
       "      <td>95</td>\n",
       "      <td>1256</td>\n",
       "      <td>291 Lafayette Ave.</td>\n",
       "      <td>Passaic</td>\n",
       "      <td>NJ</td>\n",
       "      <td>7055</td>\n",
       "      <td>40.85711</td>\n",
       "      <td>-74.13232</td>\n",
       "      <td>2</td>\n",
       "    </tr>\n",
       "    <tr>\n",
       "      <th>1</th>\n",
       "      <td>2159</td>\n",
       "      <td>PASSAIC</td>\n",
       "      <td>PASSAIC CITY</td>\n",
       "      <td>LINCOLN MIDDLE SCHOOL # 4</td>\n",
       "      <td>19</td>\n",
       "      <td>116747</td>\n",
       "      <td>0</td>\n",
       "      <td>19</td>\n",
       "      <td>19</td>\n",
       "      <td>1</td>\n",
       "      <td>...</td>\n",
       "      <td>3970</td>\n",
       "      <td>95</td>\n",
       "      <td>1256</td>\n",
       "      <td>291 Lafayette Ave.</td>\n",
       "      <td>Passaic</td>\n",
       "      <td>NJ</td>\n",
       "      <td>7055</td>\n",
       "      <td>40.85711</td>\n",
       "      <td>-74.13232</td>\n",
       "      <td>2</td>\n",
       "    </tr>\n",
       "    <tr>\n",
       "      <th>2</th>\n",
       "      <td>2160</td>\n",
       "      <td>PASSAIC</td>\n",
       "      <td>PASSAIC CITY</td>\n",
       "      <td>SCHOOL # 5</td>\n",
       "      <td>3</td>\n",
       "      <td>61043</td>\n",
       "      <td>0</td>\n",
       "      <td>3</td>\n",
       "      <td>3</td>\n",
       "      <td>1</td>\n",
       "      <td>...</td>\n",
       "      <td>3970</td>\n",
       "      <td>97</td>\n",
       "      <td>680</td>\n",
       "      <td>168 Monroe St.</td>\n",
       "      <td>Passaic</td>\n",
       "      <td>NJ</td>\n",
       "      <td>7055</td>\n",
       "      <td>40.86724</td>\n",
       "      <td>-74.12072</td>\n",
       "      <td>7</td>\n",
       "    </tr>\n",
       "    <tr>\n",
       "      <th>3</th>\n",
       "      <td>2059</td>\n",
       "      <td>MERCER</td>\n",
       "      <td>MERCER CO SPECIAL SERVICE</td>\n",
       "      <td>JOSEPH F. CAPPELLO SCHOOL</td>\n",
       "      <td>14</td>\n",
       "      <td>80240</td>\n",
       "      <td>1</td>\n",
       "      <td>14</td>\n",
       "      <td>14</td>\n",
       "      <td>1</td>\n",
       "      <td>...</td>\n",
       "      <td>3103</td>\n",
       "      <td>50</td>\n",
       "      <td>197</td>\n",
       "      <td>1072 Old Trenton Road</td>\n",
       "      <td>Hamilton</td>\n",
       "      <td>NJ</td>\n",
       "      <td>8690</td>\n",
       "      <td>40.25116</td>\n",
       "      <td>-74.65371</td>\n",
       "      <td>4</td>\n",
       "    </tr>\n",
       "    <tr>\n",
       "      <th>4</th>\n",
       "      <td>2060</td>\n",
       "      <td>MERCER</td>\n",
       "      <td>MERCER CO SPECIAL SERVICE</td>\n",
       "      <td>JOSEPH F. CAPPELLO SCHOOL</td>\n",
       "      <td>31</td>\n",
       "      <td>86845</td>\n",
       "      <td>1</td>\n",
       "      <td>29</td>\n",
       "      <td>29</td>\n",
       "      <td>1</td>\n",
       "      <td>...</td>\n",
       "      <td>3103</td>\n",
       "      <td>50</td>\n",
       "      <td>197</td>\n",
       "      <td>1072 Old Trenton Road</td>\n",
       "      <td>Hamilton</td>\n",
       "      <td>NJ</td>\n",
       "      <td>8690</td>\n",
       "      <td>40.25116</td>\n",
       "      <td>-74.65371</td>\n",
       "      <td>4</td>\n",
       "    </tr>\n",
       "  </tbody>\n",
       "</table>\n",
       "<p>5 rows × 25 columns</p>\n",
       "</div>"
      ],
      "text/plain": [
       "   id_num   county                   district                     school  \\\n",
       "0    2158  PASSAIC               PASSAIC CITY  LINCOLN MIDDLE SCHOOL # 4   \n",
       "1    2159  PASSAIC               PASSAIC CITY  LINCOLN MIDDLE SCHOOL # 4   \n",
       "2    2160  PASSAIC               PASSAIC CITY                 SCHOOL # 5   \n",
       "3    2059   MERCER  MERCER CO SPECIAL SERVICE  JOSEPH F. CAPPELLO SCHOOL   \n",
       "4    2060   MERCER  MERCER CO SPECIAL SERVICE  JOSEPH F. CAPPELLO SCHOOL   \n",
       "\n",
       "   yrs_experience  salary  classes_taught  exp_district  exp_nj  fte ...   \\\n",
       "0              20  108097               0            18      20    1 ...    \n",
       "1              19  116747               0            19      19    1 ...    \n",
       "2               3   61043               0             3       3    1 ...    \n",
       "3              14   80240               1            14      14    1 ...    \n",
       "4              31   86845               1            29      29    1 ...    \n",
       "\n",
       "  district_code school_code school_id_num               address1      city  \\\n",
       "0          3970          95          1256     291 Lafayette Ave.   Passaic   \n",
       "1          3970          95          1256     291 Lafayette Ave.   Passaic   \n",
       "2          3970          97           680         168 Monroe St.   Passaic   \n",
       "3          3103          50           197  1072 Old Trenton Road  Hamilton   \n",
       "4          3103          50           197  1072 Old Trenton Road  Hamilton   \n",
       "\n",
       "   state   zip  latitude longitude ELEM  \n",
       "0     NJ  7055  40.85711 -74.13232    2  \n",
       "1     NJ  7055  40.85711 -74.13232    2  \n",
       "2     NJ  7055  40.86724 -74.12072    7  \n",
       "3     NJ  8690  40.25116 -74.65371    4  \n",
       "4     NJ  8690  40.25116 -74.65371    4  \n",
       "\n",
       "[5 rows x 25 columns]"
      ]
     },
     "execution_count": 228,
     "metadata": {},
     "output_type": "execute_result"
    }
   ],
   "source": [
    "salary.head()"
   ]
  },
  {
   "cell_type": "code",
   "execution_count": 229,
   "metadata": {
    "collapsed": true
   },
   "outputs": [],
   "source": [
    "salary[\"ELEM\"] = salary[\"ELEM\"].map(lambda x: x > 0)"
   ]
  },
  {
   "cell_type": "code",
   "execution_count": 230,
   "metadata": {
    "collapsed": false
   },
   "outputs": [
    {
     "data": {
      "text/html": [
       "<div>\n",
       "<table border=\"1\" class=\"dataframe\">\n",
       "  <thead>\n",
       "    <tr style=\"text-align: right;\">\n",
       "      <th></th>\n",
       "      <th>id_num</th>\n",
       "      <th>county</th>\n",
       "      <th>district</th>\n",
       "      <th>school</th>\n",
       "      <th>yrs_experience</th>\n",
       "      <th>salary</th>\n",
       "      <th>classes_taught</th>\n",
       "      <th>exp_district</th>\n",
       "      <th>exp_nj</th>\n",
       "      <th>fte</th>\n",
       "      <th>...</th>\n",
       "      <th>district_code</th>\n",
       "      <th>school_code</th>\n",
       "      <th>school_id_num</th>\n",
       "      <th>address1</th>\n",
       "      <th>city</th>\n",
       "      <th>state</th>\n",
       "      <th>zip</th>\n",
       "      <th>latitude</th>\n",
       "      <th>longitude</th>\n",
       "      <th>ELEM</th>\n",
       "    </tr>\n",
       "  </thead>\n",
       "  <tbody>\n",
       "    <tr>\n",
       "      <th>0</th>\n",
       "      <td>2158</td>\n",
       "      <td>PASSAIC</td>\n",
       "      <td>PASSAIC CITY</td>\n",
       "      <td>LINCOLN MIDDLE SCHOOL # 4</td>\n",
       "      <td>20</td>\n",
       "      <td>108097</td>\n",
       "      <td>0</td>\n",
       "      <td>18</td>\n",
       "      <td>20</td>\n",
       "      <td>1</td>\n",
       "      <td>...</td>\n",
       "      <td>3970</td>\n",
       "      <td>95</td>\n",
       "      <td>1256</td>\n",
       "      <td>291 Lafayette Ave.</td>\n",
       "      <td>Passaic</td>\n",
       "      <td>NJ</td>\n",
       "      <td>7055</td>\n",
       "      <td>40.85711</td>\n",
       "      <td>-74.13232</td>\n",
       "      <td>True</td>\n",
       "    </tr>\n",
       "    <tr>\n",
       "      <th>1</th>\n",
       "      <td>2159</td>\n",
       "      <td>PASSAIC</td>\n",
       "      <td>PASSAIC CITY</td>\n",
       "      <td>LINCOLN MIDDLE SCHOOL # 4</td>\n",
       "      <td>19</td>\n",
       "      <td>116747</td>\n",
       "      <td>0</td>\n",
       "      <td>19</td>\n",
       "      <td>19</td>\n",
       "      <td>1</td>\n",
       "      <td>...</td>\n",
       "      <td>3970</td>\n",
       "      <td>95</td>\n",
       "      <td>1256</td>\n",
       "      <td>291 Lafayette Ave.</td>\n",
       "      <td>Passaic</td>\n",
       "      <td>NJ</td>\n",
       "      <td>7055</td>\n",
       "      <td>40.85711</td>\n",
       "      <td>-74.13232</td>\n",
       "      <td>True</td>\n",
       "    </tr>\n",
       "    <tr>\n",
       "      <th>2</th>\n",
       "      <td>2160</td>\n",
       "      <td>PASSAIC</td>\n",
       "      <td>PASSAIC CITY</td>\n",
       "      <td>SCHOOL # 5</td>\n",
       "      <td>3</td>\n",
       "      <td>61043</td>\n",
       "      <td>0</td>\n",
       "      <td>3</td>\n",
       "      <td>3</td>\n",
       "      <td>1</td>\n",
       "      <td>...</td>\n",
       "      <td>3970</td>\n",
       "      <td>97</td>\n",
       "      <td>680</td>\n",
       "      <td>168 Monroe St.</td>\n",
       "      <td>Passaic</td>\n",
       "      <td>NJ</td>\n",
       "      <td>7055</td>\n",
       "      <td>40.86724</td>\n",
       "      <td>-74.12072</td>\n",
       "      <td>True</td>\n",
       "    </tr>\n",
       "    <tr>\n",
       "      <th>3</th>\n",
       "      <td>2059</td>\n",
       "      <td>MERCER</td>\n",
       "      <td>MERCER CO SPECIAL SERVICE</td>\n",
       "      <td>JOSEPH F. CAPPELLO SCHOOL</td>\n",
       "      <td>14</td>\n",
       "      <td>80240</td>\n",
       "      <td>1</td>\n",
       "      <td>14</td>\n",
       "      <td>14</td>\n",
       "      <td>1</td>\n",
       "      <td>...</td>\n",
       "      <td>3103</td>\n",
       "      <td>50</td>\n",
       "      <td>197</td>\n",
       "      <td>1072 Old Trenton Road</td>\n",
       "      <td>Hamilton</td>\n",
       "      <td>NJ</td>\n",
       "      <td>8690</td>\n",
       "      <td>40.25116</td>\n",
       "      <td>-74.65371</td>\n",
       "      <td>True</td>\n",
       "    </tr>\n",
       "    <tr>\n",
       "      <th>4</th>\n",
       "      <td>2060</td>\n",
       "      <td>MERCER</td>\n",
       "      <td>MERCER CO SPECIAL SERVICE</td>\n",
       "      <td>JOSEPH F. CAPPELLO SCHOOL</td>\n",
       "      <td>31</td>\n",
       "      <td>86845</td>\n",
       "      <td>1</td>\n",
       "      <td>29</td>\n",
       "      <td>29</td>\n",
       "      <td>1</td>\n",
       "      <td>...</td>\n",
       "      <td>3103</td>\n",
       "      <td>50</td>\n",
       "      <td>197</td>\n",
       "      <td>1072 Old Trenton Road</td>\n",
       "      <td>Hamilton</td>\n",
       "      <td>NJ</td>\n",
       "      <td>8690</td>\n",
       "      <td>40.25116</td>\n",
       "      <td>-74.65371</td>\n",
       "      <td>True</td>\n",
       "    </tr>\n",
       "  </tbody>\n",
       "</table>\n",
       "<p>5 rows × 25 columns</p>\n",
       "</div>"
      ],
      "text/plain": [
       "   id_num   county                   district                     school  \\\n",
       "0    2158  PASSAIC               PASSAIC CITY  LINCOLN MIDDLE SCHOOL # 4   \n",
       "1    2159  PASSAIC               PASSAIC CITY  LINCOLN MIDDLE SCHOOL # 4   \n",
       "2    2160  PASSAIC               PASSAIC CITY                 SCHOOL # 5   \n",
       "3    2059   MERCER  MERCER CO SPECIAL SERVICE  JOSEPH F. CAPPELLO SCHOOL   \n",
       "4    2060   MERCER  MERCER CO SPECIAL SERVICE  JOSEPH F. CAPPELLO SCHOOL   \n",
       "\n",
       "   yrs_experience  salary  classes_taught  exp_district  exp_nj  fte  ...   \\\n",
       "0              20  108097               0            18      20    1  ...    \n",
       "1              19  116747               0            19      19    1  ...    \n",
       "2               3   61043               0             3       3    1  ...    \n",
       "3              14   80240               1            14      14    1  ...    \n",
       "4              31   86845               1            29      29    1  ...    \n",
       "\n",
       "  district_code school_code school_id_num               address1      city  \\\n",
       "0          3970          95          1256     291 Lafayette Ave.   Passaic   \n",
       "1          3970          95          1256     291 Lafayette Ave.   Passaic   \n",
       "2          3970          97           680         168 Monroe St.   Passaic   \n",
       "3          3103          50           197  1072 Old Trenton Road  Hamilton   \n",
       "4          3103          50           197  1072 Old Trenton Road  Hamilton   \n",
       "\n",
       "   state   zip  latitude longitude  ELEM  \n",
       "0     NJ  7055  40.85711 -74.13232  True  \n",
       "1     NJ  7055  40.85711 -74.13232  True  \n",
       "2     NJ  7055  40.86724 -74.12072  True  \n",
       "3     NJ  8690  40.25116 -74.65371  True  \n",
       "4     NJ  8690  40.25116 -74.65371  True  \n",
       "\n",
       "[5 rows x 25 columns]"
      ]
     },
     "execution_count": 230,
     "metadata": {},
     "output_type": "execute_result"
    }
   ],
   "source": [
    "salary.head()"
   ]
  },
  {
   "cell_type": "code",
   "execution_count": 231,
   "metadata": {
    "collapsed": false
   },
   "outputs": [
    {
     "data": {
      "text/plain": [
       "array(['id_num', 'county', 'district', 'school', 'yrs_experience',\n",
       "       'salary', 'classes_taught', 'exp_district', 'exp_nj', 'fte',\n",
       "       'subcategory', 'certificate', 'highly_qual', 'route', 'county_code',\n",
       "       'district_code', 'school_code', 'school_id_num', 'address1', 'city',\n",
       "       'state', 'zip', 'latitude', 'longitude', 'ELEM'], dtype=object)"
      ]
     },
     "execution_count": 231,
     "metadata": {},
     "output_type": "execute_result"
    }
   ],
   "source": [
    "salary.columns.values"
   ]
  },
  {
   "cell_type": "code",
   "execution_count": 232,
   "metadata": {
    "collapsed": false
   },
   "outputs": [],
   "source": [
    "salary[\"fte\"] = salary[\"fte\"].map(lambda x: x == 1)"
   ]
  },
  {
   "cell_type": "code",
   "execution_count": 233,
   "metadata": {
    "collapsed": false
   },
   "outputs": [],
   "source": [
    "# Pull only full time employees\n",
    "salary = salary[salary.fte == True]"
   ]
  },
  {
   "cell_type": "code",
   "execution_count": 234,
   "metadata": {
    "collapsed": true
   },
   "outputs": [],
   "source": [
    "# Pull only employees at elementary sckools (preK - 8)\n",
    "salary = salary[salary.ELEM == True]"
   ]
  },
  {
   "cell_type": "code",
   "execution_count": 235,
   "metadata": {
    "collapsed": false
   },
   "outputs": [
    {
     "data": {
      "text/plain": [
       "(89159, 25)"
      ]
     },
     "execution_count": 235,
     "metadata": {},
     "output_type": "execute_result"
    }
   ],
   "source": [
    "salary.shape"
   ]
  },
  {
   "cell_type": "code",
   "execution_count": 236,
   "metadata": {
    "collapsed": false
   },
   "outputs": [
    {
     "data": {
      "text/plain": [
       "array(['General ed', 'Special ed', 'Admin or supervisor', 'Hearing',\n",
       "       'Bilingual', 'Visual', nan], dtype=object)"
      ]
     },
     "execution_count": 236,
     "metadata": {},
     "output_type": "execute_result"
    }
   ],
   "source": [
    "salary.subcategory.unique()"
   ]
  },
  {
   "cell_type": "code",
   "execution_count": 237,
   "metadata": {
    "collapsed": false
   },
   "outputs": [
    {
     "data": {
      "text/plain": [
       "(15287, 25)"
      ]
     },
     "execution_count": 237,
     "metadata": {},
     "output_type": "execute_result"
    }
   ],
   "source": [
    "salary[salary.subcategory == 'Special ed'].shape"
   ]
  },
  {
   "cell_type": "code",
   "execution_count": 238,
   "metadata": {
    "collapsed": false
   },
   "outputs": [],
   "source": [
    "salary['TEACH'] = salary['subcategory'].map(lambda x: x == 'General ed' or x == 'Special ed')"
   ]
  },
  {
   "cell_type": "code",
   "execution_count": 239,
   "metadata": {
    "collapsed": false
   },
   "outputs": [
    {
     "data": {
      "text/plain": [
       "(89159, 26)"
      ]
     },
     "execution_count": 239,
     "metadata": {},
     "output_type": "execute_result"
    }
   ],
   "source": [
    "salary.shape"
   ]
  },
  {
   "cell_type": "code",
   "execution_count": 240,
   "metadata": {
    "collapsed": false
   },
   "outputs": [],
   "source": [
    "# Pull out only teachers (Subcategory == General ed or Special ed)\n",
    "salary = salary[salary.TEACH == True]"
   ]
  },
  {
   "cell_type": "code",
   "execution_count": 241,
   "metadata": {
    "collapsed": false
   },
   "outputs": [
    {
     "data": {
      "text/plain": [
       "(83551, 26)"
      ]
     },
     "execution_count": 241,
     "metadata": {},
     "output_type": "execute_result"
    }
   ],
   "source": [
    "salary.shape"
   ]
  },
  {
   "cell_type": "code",
   "execution_count": 242,
   "metadata": {
    "collapsed": false
   },
   "outputs": [
    {
     "data": {
      "text/plain": [
       "(83551, 9)"
      ]
     },
     "execution_count": 242,
     "metadata": {},
     "output_type": "execute_result"
    }
   ],
   "source": [
    "salary.drop('id_num', axis=1, inplace=True)\n",
    "salary.drop('county', axis=1, inplace=True)\n",
    "salary.drop('district', axis=1, inplace=True)\n",
    "salary.drop('school', axis=1, inplace=True)\n",
    "salary.drop('exp_district', axis=1, inplace=True)\n",
    "salary.drop('exp_nj', axis=1, inplace=True)\n",
    "salary.drop('fte', axis=1, inplace=True)\n",
    "salary.drop('subcategory', axis=1, inplace=True)\n",
    "salary.drop('certificate', axis=1, inplace=True)\n",
    "salary.drop('highly_qual', axis=1, inplace=True)\n",
    "salary.drop('route', axis=1, inplace=True)\n",
    "salary.drop('address1', axis=1, inplace=True)\n",
    "salary.drop('city', axis=1, inplace=True)\n",
    "salary.drop('state', axis=1, inplace=True)\n",
    "salary.drop('zip', axis=1, inplace=True)\n",
    "salary.drop('ELEM', axis=1, inplace=True)\n",
    "salary.drop('TEACH', axis=1, inplace=True)\n",
    "salary.shape"
   ]
  },
  {
   "cell_type": "code",
   "execution_count": 243,
   "metadata": {
    "collapsed": false
   },
   "outputs": [
    {
     "name": "stdout",
     "output_type": "stream",
     "text": [
      "(82944, 3)\n",
      "(82944,)\n",
      "   yrs_experience  latitude longitude\n",
      "0              20  40.85711 -74.13232\n",
      "1              19  40.85711 -74.13232\n",
      "2               3  40.86724 -74.12072\n",
      "3              14  40.25116 -74.65371\n",
      "4              31  40.25116 -74.65371\n",
      "0    (100000, 110000]\n",
      "1    (110000, 120000]\n",
      "2      (60000, 70000]\n",
      "3      (80000, 90000]\n",
      "4      (80000, 90000]\n",
      "Name: salary, dtype: category\n",
      "Categories (13, object): [(0, 10000] < (10000, 20000] < (20000, 30000] < (30000, 40000] ... (90000, 100000] < (100000, 110000] < (110000, 120000] < (120000, 300000]]\n"
     ]
    }
   ],
   "source": [
    "# For Categorical\n",
    "\n",
    "modata = salary.copy()\n",
    "modata = modata.dropna()\n",
    "salRng = range(0,130000,10000)\n",
    "salRng.append(300000)\n",
    "modata.salary = pd.cut(modata.salary, salRng)\n",
    "\n",
    "X = modata.copy()\n",
    "X = X.drop('salary', axis=1)\n",
    "\n",
    "X.drop('county_code', axis=1, inplace=True)\n",
    "X.drop('district_code', axis=1, inplace=True)\n",
    "X.drop('school_code', axis=1, inplace=True)\n",
    "X.drop('school_id_num', axis=1, inplace=True)\n",
    "\n",
    "X.classes_taught = X.classes_taught.map(lambda x: min(x, 8))\n",
    "\n",
    "X.drop('classes_taught', axis=1, inplace=True)\n",
    "\n",
    "y = modata.salary\n",
    "print X.shape\n",
    "print y.shape\n",
    "\n",
    "print X.head()\n",
    "print y.head()"
   ]
  },
  {
   "cell_type": "code",
   "execution_count": 244,
   "metadata": {
    "collapsed": false
   },
   "outputs": [
    {
     "name": "stderr",
     "output_type": "stream",
     "text": [
      "//anaconda/lib/python2.7/site-packages/numpy/lib/arraysetops.py:200: FutureWarning: numpy not_equal will not check object identity in the future. The comparison did not return the same result as suggested by the identity (`is`)) and will change.\n",
      "  flag = np.concatenate(([True], aux[1:] != aux[:-1]))\n",
      "//anaconda/lib/python2.7/site-packages/sklearn/cross_validation.py:417: Warning: The least populated class in y has only 4 members, which is too few. The minimum number of labels for any class cannot be less than n_folds=10.\n",
      "  % (min_labels, self.n_folds)), Warning)\n"
     ]
    },
    {
     "data": {
      "text/plain": [
       "0.33750562984006799"
      ]
     },
     "execution_count": 244,
     "metadata": {},
     "output_type": "execute_result"
    }
   ],
   "source": [
    "from sklearn.ensemble import RandomForestClassifier\n",
    "rfc = RandomForestClassifier(n_estimators=50)\n",
    "scores = cross_val_score(rfc, X, y, cv=10, scoring='accuracy')\n",
    "scores.mean()"
   ]
  },
  {
   "cell_type": "code",
   "execution_count": 245,
   "metadata": {
    "collapsed": false
   },
   "outputs": [
    {
     "data": {
      "text/plain": [
       "0.29269593309111019"
      ]
     },
     "execution_count": 245,
     "metadata": {},
     "output_type": "execute_result"
    }
   ],
   "source": [
    "from sklearn.tree import DecisionTreeClassifier\n",
    "dtc = DecisionTreeClassifier()\n",
    "scores2 = cross_val_score(dtc, X, y, cv=10, scoring='accuracy')\n",
    "scores2.mean()"
   ]
  },
  {
   "cell_type": "code",
   "execution_count": 246,
   "metadata": {
    "collapsed": false
   },
   "outputs": [
    {
     "data": {
      "text/plain": [
       "0.45924695408914928"
      ]
     },
     "execution_count": 246,
     "metadata": {},
     "output_type": "execute_result"
    }
   ],
   "source": [
    "from sklearn.svm import SVC\n",
    "svm = SVC()\n",
    "scores5 = cross_val_score(svm, X, y, cv=10, scoring='accuracy')\n",
    "scores5.mean()"
   ]
  },
  {
   "cell_type": "code",
   "execution_count": 247,
   "metadata": {
    "collapsed": false
   },
   "outputs": [
    {
     "data": {
      "text/plain": [
       "0.39740521743971874"
      ]
     },
     "execution_count": 247,
     "metadata": {},
     "output_type": "execute_result"
    }
   ],
   "source": [
    "from sklearn.ensemble import GradientBoostingClassifier\n",
    "gbc = GradientBoostingClassifier()\n",
    "scores3 = cross_val_score(gbc, X, y, cv=10, scoring='accuracy')\n",
    "scores3.mean()"
   ]
  },
  {
   "cell_type": "code",
   "execution_count": 423,
   "metadata": {
    "collapsed": false
   },
   "outputs": [
    {
     "name": "stdout",
     "output_type": "stream",
     "text": [
      "(82940, 3)\n",
      "(82940,)\n",
      "   yrs_experience  latitude  longitude\n",
      "0              20  0.430736   0.314189\n",
      "1              19  0.430736   0.314189\n",
      "2               3  0.440867   0.325788\n",
      "3              14 -0.175213  -0.207195\n",
      "4              31 -0.175213  -0.207195\n",
      "[[ 0.92388619  0.90252438  0.88350033]\n",
      " [ 0.81095312  0.90252438  0.88350033]\n",
      " [-0.995976    0.92375195  0.9161167 ]\n",
      " ..., \n",
      " [ 0.58508698  0.88128005  0.89112366]\n",
      " [-1.22184214  0.90252438  0.88350033]\n",
      " [ 1.14975233  0.90252438  0.88350033]]\n"
     ]
    }
   ],
   "source": [
    "# For regression\n",
    "modata = salary.copy()\n",
    "modata = modata.dropna()\n",
    "modata = modata[modata.salary > 0]\n",
    "\n",
    "modata.drop('county_code', axis=1, inplace=True)\n",
    "modata.drop('district_code', axis=1, inplace=True)\n",
    "modata.drop('school_code', axis=1, inplace=True)\n",
    "modata.drop('school_id_num', axis=1, inplace=True)\n",
    "\n",
    "modata.classes_taught = modata.classes_taught.map(lambda x: min(x, 8))\n",
    "\n",
    "modata.drop('classes_taught', axis=1, inplace=True)\n",
    "\n",
    "modata.to_csv('modatanew.csv')\n",
    "\n",
    "X = modata.copy()\n",
    "\n",
    "X = X.drop('salary', axis=1)\n",
    "\n",
    "# FOR CERTS\n",
    "# X = pd.get_dummies(X, columns=['highly_qual','route'])\n",
    "\n",
    "y = modata.salary\n",
    "\n",
    "# Boxcox\n",
    "# from scipy.stats import boxcox\n",
    "# y = boxcox(y)\n",
    "# lam = y[1]\n",
    "# print \"LAMBDA:\", lam\n",
    "# print y\n",
    "# y = y[0]\n",
    "\n",
    "# Log Transform\n",
    "# y = np.log(y)\n",
    "\n",
    "# latmean = X.latitude.mean()\n",
    "# lonmean = X.longitude.mean()\n",
    "\n",
    "# print latmean\n",
    "# print lonmean\n",
    "\n",
    "X.latitude = X.latitude.map(lambda x: x - latmean)\n",
    "X.longitude = X.longitude.map(lambda x: x - lonmean)\n",
    "\n",
    "print X.shape\n",
    "print y.shape\n",
    "\n",
    "print X.head()\n",
    "\n",
    "X = scale(X)\n",
    "\n",
    "print X\n",
    "\n",
    "# print y.head()\n",
    "# print y"
   ]
  },
  {
   "cell_type": "code",
   "execution_count": 424,
   "metadata": {
    "collapsed": false
   },
   "outputs": [
    {
     "name": "stdout",
     "output_type": "stream",
     "text": [
      "R2 0.554486052658\n",
      "RMSE 11020.293819\n",
      "Intercept: 68472.5106945\n",
      "Coefficients:\n",
      "[ 12536.93129068   1772.6629019    1034.95276593]\n"
     ]
    },
    {
     "ename": "AttributeError",
     "evalue": "'numpy.ndarray' object has no attribute 'head'",
     "output_type": "error",
     "traceback": [
      "\u001b[0;31m---------------------------------------------------------------------------\u001b[0m",
      "\u001b[0;31mAttributeError\u001b[0m                            Traceback (most recent call last)",
      "\u001b[0;32m<ipython-input-424-c33126c577fc>\u001b[0m in \u001b[0;36m<module>\u001b[0;34m()\u001b[0m\n\u001b[1;32m     10\u001b[0m \u001b[0;31m# print zip(X.columns.values, linreg.coef_)\u001b[0m\u001b[0;34m\u001b[0m\u001b[0;34m\u001b[0m\u001b[0m\n\u001b[1;32m     11\u001b[0m \u001b[0;32mprint\u001b[0m \u001b[0mlinreg\u001b[0m\u001b[0;34m.\u001b[0m\u001b[0mcoef_\u001b[0m\u001b[0;34m\u001b[0m\u001b[0m\n\u001b[0;32m---> 12\u001b[0;31m \u001b[0;32mprint\u001b[0m \u001b[0mX\u001b[0m\u001b[0;34m.\u001b[0m\u001b[0mhead\u001b[0m\u001b[0;34m(\u001b[0m\u001b[0;34m)\u001b[0m\u001b[0;34m\u001b[0m\u001b[0m\n\u001b[0m",
      "\u001b[0;31mAttributeError\u001b[0m: 'numpy.ndarray' object has no attribute 'head'"
     ]
    }
   ],
   "source": [
    "from sklearn.linear_model import LinearRegression\n",
    "linreg = LinearRegression()\n",
    "scoresr2 = cross_val_score(linreg, X, y, cv=10, scoring='r2')\n",
    "print \"R2\", scoresr2.mean()\n",
    "scoresrmse = cross_val_score(linreg, X, y, cv=10, scoring='mean_squared_error')\n",
    "print \"RMSE\", np.sqrt(-scoresrmse.mean())\n",
    "linreg.fit(X, y)\n",
    "print \"Intercept:\", linreg.intercept_\n",
    "print \"Coefficients:\"\n",
    "# print zip(X.columns.values, linreg.coef_)\n",
    "print linreg.coef_\n",
    "print X.head()"
   ]
  },
  {
   "cell_type": "code",
   "execution_count": 335,
   "metadata": {
    "collapsed": false,
    "scrolled": true
   },
   "outputs": [
    {
     "name": "stdout",
     "output_type": "stream",
     "text": [
      "R2 0.562829111102\n",
      "RMSE 11030.5186026\n"
     ]
    }
   ],
   "source": [
    "from sklearn.ensemble import RandomForestRegressor as RFR\n",
    "rfr = RFR(n_estimators = 320)\n",
    "scoresr2 = cross_val_score(rfr, X, y, cv=10, scoring='r2')\n",
    "print \"R2\", scoresr2.mean()\n",
    "scoresrmse = cross_val_score(rfr, X, y, cv=10, scoring='mean_squared_error')\n",
    "print \"RMSE\", np.sqrt(-scoresrmse.mean())"
   ]
  },
  {
   "cell_type": "code",
   "execution_count": 336,
   "metadata": {
    "collapsed": false
   },
   "outputs": [
    {
     "name": "stdout",
     "output_type": "stream",
     "text": [
      "R2 0.552599504176\n",
      "RMSE 11060.6998004\n"
     ]
    }
   ],
   "source": [
    "from sklearn.linear_model import ElasticNet\n",
    "enr = ElasticNet()\n",
    "scoresr2 = cross_val_score(enr, X, y, cv=10, scoring='r2')\n",
    "print \"R2\", scoresr2.mean()\n",
    "scoresrmse = cross_val_score(enr, X, y, cv=10, scoring='mean_squared_error')\n",
    "print \"RMSE\", np.sqrt(-scoresrmse.mean())"
   ]
  },
  {
   "cell_type": "code",
   "execution_count": 337,
   "metadata": {
    "collapsed": false
   },
   "outputs": [
    {
     "name": "stdout",
     "output_type": "stream",
     "text": [
      "R2 -7.9596340107e+15\n",
      "RMSE 1.48902301952e+12\n"
     ]
    }
   ],
   "source": [
    "from sklearn.linear_model import SGDRegressor\n",
    "sgd = SGDRegressor()\n",
    "scoresr2 = cross_val_score(sgd, X, y, cv=10, scoring='r2')\n",
    "print \"R2\", scoresr2.mean()\n",
    "scoresrmse = cross_val_score(sgd, X, y, cv=10, scoring='mean_squared_error')\n",
    "print \"RMSE\", np.sqrt(-scoresrmse.mean())"
   ]
  },
  {
   "cell_type": "code",
   "execution_count": 338,
   "metadata": {
    "collapsed": false
   },
   "outputs": [
    {
     "data": {
      "text/plain": [
       "count     82940.000000\n",
       "mean      68472.510694\n",
       "std       16720.917563\n",
       "min       18500.000000\n",
       "25%       55100.000000\n",
       "50%       64030.000000\n",
       "75%       81051.500000\n",
       "max      241237.000000\n",
       "Name: salary, dtype: float64"
      ]
     },
     "execution_count": 338,
     "metadata": {},
     "output_type": "execute_result"
    }
   ],
   "source": [
    "y.describe()"
   ]
  },
  {
   "cell_type": "code",
   "execution_count": 339,
   "metadata": {
    "collapsed": false
   },
   "outputs": [
    {
     "data": {
      "text/plain": [
       "count    82940.000000\n",
       "mean        11.819170\n",
       "std          8.854856\n",
       "min          0.000000\n",
       "25%          5.000000\n",
       "50%         11.000000\n",
       "75%         16.000000\n",
       "max         56.000000\n",
       "Name: yrs_experience, dtype: float64"
      ]
     },
     "execution_count": 339,
     "metadata": {},
     "output_type": "execute_result"
    }
   ],
   "source": [
    "X.yrs_experience.describe()"
   ]
  },
  {
   "cell_type": "code",
   "execution_count": 347,
   "metadata": {
    "collapsed": false
   },
   "outputs": [
    {
     "data": {
      "text/plain": [
       "<seaborn.axisgrid.PairGrid at 0x179a7c590>"
      ]
     },
     "execution_count": 347,
     "metadata": {},
     "output_type": "execute_result"
    },
    {
     "data": {
      "image/png": "[encoded data removed]",
      "text/plain": [
       "<matplotlib.figure.Figure at 0x179a7c610>"
      ]
     },
     "metadata": {},
     "output_type": "display_data"
    }
   ],
   "source": [
    "import seaborn as sns\n",
    "%matplotlib inline\n",
    "sns.pairplot(modata,x_vars=['yrs_experience'],y_vars='salary',size=7, aspect=1)"
   ]
  },
  {
   "cell_type": "code",
   "execution_count": 348,
   "metadata": {
    "collapsed": false
   },
   "outputs": [
    {
     "ename": "KeyboardInterrupt",
     "evalue": "",
     "output_type": "error",
     "traceback": [
      "\u001b[0;31m---------------------------------------------------------------------------\u001b[0m",
      "\u001b[0;31mKeyboardInterrupt\u001b[0m                         Traceback (most recent call last)",
      "\u001b[0;32m<ipython-input-349-2082e7d9b1af>\u001b[0m in \u001b[0;36m<module>\u001b[0;34m()\u001b[0m\n\u001b[0;32m----> 1\u001b[0;31m \u001b[0msns\u001b[0m\u001b[0;34m.\u001b[0m\u001b[0mdistplot\u001b[0m\u001b[0;34m(\u001b[0m\u001b[0my\u001b[0m\u001b[0;34m,\u001b[0m \u001b[0mrug\u001b[0m\u001b[0;34m=\u001b[0m\u001b[0mTrue\u001b[0m\u001b[0;34m)\u001b[0m\u001b[0;34m\u001b[0m\u001b[0m\n\u001b[0m",
      "\u001b[0;32m//anaconda/lib/python2.7/site-packages/seaborn/distributions.pyc\u001b[0m in \u001b[0;36mdistplot\u001b[0;34m(a, bins, hist, kde, rug, fit, hist_kws, kde_kws, rug_kws, fit_kws, color, vertical, norm_hist, axlabel, label, ax)\u001b[0m\n\u001b[1;32m    223\u001b[0m         \u001b[0mrug_color\u001b[0m \u001b[0;34m=\u001b[0m \u001b[0mrug_kws\u001b[0m\u001b[0;34m.\u001b[0m\u001b[0mpop\u001b[0m\u001b[0;34m(\u001b[0m\u001b[0;34m\"color\"\u001b[0m\u001b[0;34m,\u001b[0m \u001b[0mcolor\u001b[0m\u001b[0;34m)\u001b[0m\u001b[0;34m\u001b[0m\u001b[0m\n\u001b[1;32m    224\u001b[0m         \u001b[0maxis\u001b[0m \u001b[0;34m=\u001b[0m \u001b[0;34m\"y\"\u001b[0m \u001b[0;32mif\u001b[0m \u001b[0mvertical\u001b[0m \u001b[0;32melse\u001b[0m \u001b[0;34m\"x\"\u001b[0m\u001b[0;34m\u001b[0m\u001b[0m\n\u001b[0;32m--> 225\u001b[0;31m         \u001b[0mrugplot\u001b[0m\u001b[0;34m(\u001b[0m\u001b[0ma\u001b[0m\u001b[0;34m,\u001b[0m \u001b[0maxis\u001b[0m\u001b[0;34m=\u001b[0m\u001b[0maxis\u001b[0m\u001b[0;34m,\u001b[0m \u001b[0max\u001b[0m\u001b[0;34m=\u001b[0m\u001b[0max\u001b[0m\u001b[0;34m,\u001b[0m \u001b[0mcolor\u001b[0m\u001b[0;34m=\u001b[0m\u001b[0mrug_color\u001b[0m\u001b[0;34m,\u001b[0m \u001b[0;34m**\u001b[0m\u001b[0mrug_kws\u001b[0m\u001b[0;34m)\u001b[0m\u001b[0;34m\u001b[0m\u001b[0m\n\u001b[0m\u001b[1;32m    226\u001b[0m         \u001b[0;32mif\u001b[0m \u001b[0mrug_color\u001b[0m \u001b[0;34m!=\u001b[0m \u001b[0mcolor\u001b[0m\u001b[0;34m:\u001b[0m\u001b[0;34m\u001b[0m\u001b[0m\n\u001b[1;32m    227\u001b[0m             \u001b[0mrug_kws\u001b[0m\u001b[0;34m[\u001b[0m\u001b[0;34m\"color\"\u001b[0m\u001b[0;34m]\u001b[0m \u001b[0;34m=\u001b[0m \u001b[0mrug_color\u001b[0m\u001b[0;34m\u001b[0m\u001b[0m\n",
      "\u001b[0;32m//anaconda/lib/python2.7/site-packages/seaborn/distributions.pyc\u001b[0m in \u001b[0;36mrugplot\u001b[0;34m(a, height, axis, ax, **kwargs)\u001b[0m\n\u001b[1;32m    633\u001b[0m     \u001b[0mkwargs\u001b[0m\u001b[0;34m.\u001b[0m\u001b[0msetdefault\u001b[0m\u001b[0;34m(\u001b[0m\u001b[0;34m\"linewidth\"\u001b[0m\u001b[0;34m,\u001b[0m \u001b[0;36m1\u001b[0m\u001b[0;34m)\u001b[0m\u001b[0;34m\u001b[0m\u001b[0m\n\u001b[1;32m    634\u001b[0m     \u001b[0;32mfor\u001b[0m \u001b[0mpt\u001b[0m \u001b[0;32min\u001b[0m \u001b[0ma\u001b[0m\u001b[0;34m:\u001b[0m\u001b[0;34m\u001b[0m\u001b[0m\n\u001b[0;32m--> 635\u001b[0;31m         \u001b[0mfunc\u001b[0m\u001b[0;34m(\u001b[0m\u001b[0mpt\u001b[0m\u001b[0;34m,\u001b[0m \u001b[0;36m0\u001b[0m\u001b[0;34m,\u001b[0m \u001b[0mheight\u001b[0m\u001b[0;34m,\u001b[0m \u001b[0;34m**\u001b[0m\u001b[0mkwargs\u001b[0m\u001b[0;34m)\u001b[0m\u001b[0;34m\u001b[0m\u001b[0m\n\u001b[0m\u001b[1;32m    636\u001b[0m \u001b[0;34m\u001b[0m\u001b[0m\n\u001b[1;32m    637\u001b[0m     \u001b[0;32mreturn\u001b[0m \u001b[0max\u001b[0m\u001b[0;34m\u001b[0m\u001b[0m\n",
      "\u001b[0;32m//anaconda/lib/python2.7/site-packages/matplotlib/axes/_axes.pyc\u001b[0m in \u001b[0;36maxvline\u001b[0;34m(self, x, ymin, ymax, **kwargs)\u001b[0m\n\u001b[1;32m    792\u001b[0m         \u001b[0mtrans\u001b[0m \u001b[0;34m=\u001b[0m \u001b[0mself\u001b[0m\u001b[0;34m.\u001b[0m\u001b[0mget_xaxis_transform\u001b[0m\u001b[0;34m(\u001b[0m\u001b[0mwhich\u001b[0m\u001b[0;34m=\u001b[0m\u001b[0;34m'grid'\u001b[0m\u001b[0;34m)\u001b[0m\u001b[0;34m\u001b[0m\u001b[0m\n\u001b[1;32m    793\u001b[0m         \u001b[0ml\u001b[0m \u001b[0;34m=\u001b[0m \u001b[0mmlines\u001b[0m\u001b[0;34m.\u001b[0m\u001b[0mLine2D\u001b[0m\u001b[0;34m(\u001b[0m\u001b[0;34m[\u001b[0m\u001b[0mx\u001b[0m\u001b[0;34m,\u001b[0m \u001b[0mx\u001b[0m\u001b[0;34m]\u001b[0m\u001b[0;34m,\u001b[0m \u001b[0;34m[\u001b[0m\u001b[0mymin\u001b[0m\u001b[0;34m,\u001b[0m \u001b[0mymax\u001b[0m\u001b[0;34m]\u001b[0m\u001b[0;34m,\u001b[0m \u001b[0mtransform\u001b[0m\u001b[0;34m=\u001b[0m\u001b[0mtrans\u001b[0m\u001b[0;34m,\u001b[0m \u001b[0;34m**\u001b[0m\u001b[0mkwargs\u001b[0m\u001b[0;34m)\u001b[0m\u001b[0;34m\u001b[0m\u001b[0m\n\u001b[0;32m--> 794\u001b[0;31m         \u001b[0mself\u001b[0m\u001b[0;34m.\u001b[0m\u001b[0madd_line\u001b[0m\u001b[0;34m(\u001b[0m\u001b[0ml\u001b[0m\u001b[0;34m)\u001b[0m\u001b[0;34m\u001b[0m\u001b[0m\n\u001b[0m\u001b[1;32m    795\u001b[0m         \u001b[0mself\u001b[0m\u001b[0;34m.\u001b[0m\u001b[0mautoscale_view\u001b[0m\u001b[0;34m(\u001b[0m\u001b[0mscalex\u001b[0m\u001b[0;34m=\u001b[0m\u001b[0mscalex\u001b[0m\u001b[0;34m,\u001b[0m \u001b[0mscaley\u001b[0m\u001b[0;34m=\u001b[0m\u001b[0mFalse\u001b[0m\u001b[0;34m)\u001b[0m\u001b[0;34m\u001b[0m\u001b[0m\n\u001b[1;32m    796\u001b[0m         \u001b[0;32mreturn\u001b[0m \u001b[0ml\u001b[0m\u001b[0;34m\u001b[0m\u001b[0m\n",
      "\u001b[0;32m//anaconda/lib/python2.7/site-packages/matplotlib/axes/_base.pyc\u001b[0m in \u001b[0;36madd_line\u001b[0;34m(self, line)\u001b[0m\n\u001b[1;32m   1502\u001b[0m             \u001b[0mline\u001b[0m\u001b[0;34m.\u001b[0m\u001b[0mset_clip_path\u001b[0m\u001b[0;34m(\u001b[0m\u001b[0mself\u001b[0m\u001b[0;34m.\u001b[0m\u001b[0mpatch\u001b[0m\u001b[0;34m)\u001b[0m\u001b[0;34m\u001b[0m\u001b[0m\n\u001b[1;32m   1503\u001b[0m \u001b[0;34m\u001b[0m\u001b[0m\n\u001b[0;32m-> 1504\u001b[0;31m         \u001b[0mself\u001b[0m\u001b[0;34m.\u001b[0m\u001b[0m_update_line_limits\u001b[0m\u001b[0;34m(\u001b[0m\u001b[0mline\u001b[0m\u001b[0;34m)\u001b[0m\u001b[0;34m\u001b[0m\u001b[0m\n\u001b[0m\u001b[1;32m   1505\u001b[0m         \u001b[0;32mif\u001b[0m \u001b[0;32mnot\u001b[0m \u001b[0mline\u001b[0m\u001b[0;34m.\u001b[0m\u001b[0mget_label\u001b[0m\u001b[0;34m(\u001b[0m\u001b[0;34m)\u001b[0m\u001b[0;34m:\u001b[0m\u001b[0;34m\u001b[0m\u001b[0m\n\u001b[1;32m   1506\u001b[0m             \u001b[0mline\u001b[0m\u001b[0;34m.\u001b[0m\u001b[0mset_label\u001b[0m\u001b[0;34m(\u001b[0m\u001b[0;34m'_line%d'\u001b[0m \u001b[0;34m%\u001b[0m \u001b[0mlen\u001b[0m\u001b[0;34m(\u001b[0m\u001b[0mself\u001b[0m\u001b[0;34m.\u001b[0m\u001b[0mlines\u001b[0m\u001b[0;34m)\u001b[0m\u001b[0;34m)\u001b[0m\u001b[0;34m\u001b[0m\u001b[0m\n",
      "\u001b[0;32m//anaconda/lib/python2.7/site-packages/matplotlib/axes/_base.pyc\u001b[0m in \u001b[0;36m_update_line_limits\u001b[0;34m(self, line)\u001b[0m\n\u001b[1;32m   1525\u001b[0m             \u001b[0;31m# identify the transform to go from line's coordinates\u001b[0m\u001b[0;34m\u001b[0m\u001b[0;34m\u001b[0m\u001b[0m\n\u001b[1;32m   1526\u001b[0m             \u001b[0;31m# to data coordinates\u001b[0m\u001b[0;34m\u001b[0m\u001b[0;34m\u001b[0m\u001b[0m\n\u001b[0;32m-> 1527\u001b[0;31m             \u001b[0mtrans_to_data\u001b[0m \u001b[0;34m=\u001b[0m \u001b[0mline_trans\u001b[0m \u001b[0;34m-\u001b[0m \u001b[0mself\u001b[0m\u001b[0;34m.\u001b[0m\u001b[0mtransData\u001b[0m\u001b[0;34m\u001b[0m\u001b[0m\n\u001b[0m\u001b[1;32m   1528\u001b[0m \u001b[0;34m\u001b[0m\u001b[0m\n\u001b[1;32m   1529\u001b[0m             \u001b[0;31m# if transData is affine we can use the cached non-affine component\u001b[0m\u001b[0;34m\u001b[0m\u001b[0;34m\u001b[0m\u001b[0m\n",
      "\u001b[0;32m//anaconda/lib/python2.7/site-packages/matplotlib/transforms.pyc\u001b[0m in \u001b[0;36m__sub__\u001b[0;34m(self, other)\u001b[0m\n\u001b[1;32m   1251\u001b[0m                 \u001b[0;32mreturn\u001b[0m \u001b[0mremainder\u001b[0m\u001b[0;34m\u001b[0m\u001b[0m\n\u001b[1;32m   1252\u001b[0m \u001b[0;34m\u001b[0m\u001b[0m\n\u001b[0;32m-> 1253\u001b[0;31m         \u001b[0;32mfor\u001b[0m \u001b[0mremainder\u001b[0m\u001b[0;34m,\u001b[0m \u001b[0msub_tree\u001b[0m \u001b[0;32min\u001b[0m \u001b[0mother\u001b[0m\u001b[0;34m.\u001b[0m\u001b[0m_iter_break_from_left_to_right\u001b[0m\u001b[0;34m(\u001b[0m\u001b[0;34m)\u001b[0m\u001b[0;34m:\u001b[0m\u001b[0;34m\u001b[0m\u001b[0m\n\u001b[0m\u001b[1;32m   1254\u001b[0m             \u001b[0;32mif\u001b[0m \u001b[0msub_tree\u001b[0m \u001b[0;34m==\u001b[0m \u001b[0mself\u001b[0m\u001b[0;34m:\u001b[0m\u001b[0;34m\u001b[0m\u001b[0m\n\u001b[1;32m   1255\u001b[0m                 \u001b[0;32mif\u001b[0m \u001b[0;32mnot\u001b[0m \u001b[0mremainder\u001b[0m\u001b[0;34m.\u001b[0m\u001b[0mhas_inverse\u001b[0m\u001b[0;34m:\u001b[0m\u001b[0;34m\u001b[0m\u001b[0m\n",
      "\u001b[0;32m//anaconda/lib/python2.7/site-packages/matplotlib/transforms.pyc\u001b[0m in \u001b[0;36m_iter_break_from_left_to_right\u001b[0;34m(self)\u001b[0m\n\u001b[1;32m   2265\u001b[0m     \u001b[0;32mdef\u001b[0m \u001b[0m_iter_break_from_left_to_right\u001b[0m\u001b[0;34m(\u001b[0m\u001b[0mself\u001b[0m\u001b[0;34m)\u001b[0m\u001b[0;34m:\u001b[0m\u001b[0;34m\u001b[0m\u001b[0m\n\u001b[1;32m   2266\u001b[0m         \u001b[0;32mfor\u001b[0m \u001b[0mlh_compliment\u001b[0m\u001b[0;34m,\u001b[0m \u001b[0mrh_compliment\u001b[0m \u001b[0;32min\u001b[0m \u001b[0mself\u001b[0m\u001b[0;34m.\u001b[0m\u001b[0m_a\u001b[0m\u001b[0;34m.\u001b[0m\u001b[0m_iter_break_from_left_to_right\u001b[0m\u001b[0;34m(\u001b[0m\u001b[0;34m)\u001b[0m\u001b[0;34m:\u001b[0m\u001b[0;34m\u001b[0m\u001b[0m\n\u001b[0;32m-> 2267\u001b[0;31m             \u001b[0;32myield\u001b[0m \u001b[0mlh_compliment\u001b[0m\u001b[0;34m,\u001b[0m \u001b[0mrh_compliment\u001b[0m \u001b[0;34m+\u001b[0m \u001b[0mself\u001b[0m\u001b[0;34m.\u001b[0m\u001b[0m_b\u001b[0m\u001b[0;34m\u001b[0m\u001b[0m\n\u001b[0m\u001b[1;32m   2268\u001b[0m         \u001b[0;32mfor\u001b[0m \u001b[0mlh_compliment\u001b[0m\u001b[0;34m,\u001b[0m \u001b[0mrh_compliment\u001b[0m \u001b[0;32min\u001b[0m \u001b[0mself\u001b[0m\u001b[0;34m.\u001b[0m\u001b[0m_b\u001b[0m\u001b[0;34m.\u001b[0m\u001b[0m_iter_break_from_left_to_right\u001b[0m\u001b[0;34m(\u001b[0m\u001b[0;34m)\u001b[0m\u001b[0;34m:\u001b[0m\u001b[0;34m\u001b[0m\u001b[0m\n\u001b[1;32m   2269\u001b[0m             \u001b[0;32myield\u001b[0m \u001b[0mself\u001b[0m\u001b[0;34m.\u001b[0m\u001b[0m_a\u001b[0m \u001b[0;34m+\u001b[0m \u001b[0mlh_compliment\u001b[0m\u001b[0;34m,\u001b[0m \u001b[0mrh_compliment\u001b[0m\u001b[0;34m\u001b[0m\u001b[0m\n",
      "\u001b[0;32m//anaconda/lib/python2.7/site-packages/matplotlib/transforms.pyc\u001b[0m in \u001b[0;36m__add__\u001b[0;34m(self, other)\u001b[0m\n\u001b[1;32m   1136\u001b[0m         \"\"\"\n\u001b[1;32m   1137\u001b[0m         \u001b[0;32mif\u001b[0m \u001b[0misinstance\u001b[0m\u001b[0;34m(\u001b[0m\u001b[0mother\u001b[0m\u001b[0;34m,\u001b[0m \u001b[0mTransform\u001b[0m\u001b[0;34m)\u001b[0m\u001b[0;34m:\u001b[0m\u001b[0;34m\u001b[0m\u001b[0m\n\u001b[0;32m-> 1138\u001b[0;31m             \u001b[0;32mreturn\u001b[0m \u001b[0mcomposite_transform_factory\u001b[0m\u001b[0;34m(\u001b[0m\u001b[0mself\u001b[0m\u001b[0;34m,\u001b[0m \u001b[0mother\u001b[0m\u001b[0;34m)\u001b[0m\u001b[0;34m\u001b[0m\u001b[0m\n\u001b[0m\u001b[1;32m   1139\u001b[0m         raise TypeError(\n\u001b[1;32m   1140\u001b[0m             \"Can not add Transform to object of type '%s'\" % type(other))\n",
      "\u001b[0;32m//anaconda/lib/python2.7/site-packages/matplotlib/transforms.pyc\u001b[0m in \u001b[0;36mcomposite_transform_factory\u001b[0;34m(a, b)\u001b[0m\n\u001b[1;32m   2412\u001b[0m     \u001b[0;32melif\u001b[0m \u001b[0misinstance\u001b[0m\u001b[0;34m(\u001b[0m\u001b[0ma\u001b[0m\u001b[0;34m,\u001b[0m \u001b[0mAffine2D\u001b[0m\u001b[0;34m)\u001b[0m \u001b[0;32mand\u001b[0m \u001b[0misinstance\u001b[0m\u001b[0;34m(\u001b[0m\u001b[0mb\u001b[0m\u001b[0;34m,\u001b[0m \u001b[0mAffine2D\u001b[0m\u001b[0;34m)\u001b[0m\u001b[0;34m:\u001b[0m\u001b[0;34m\u001b[0m\u001b[0m\n\u001b[1;32m   2413\u001b[0m         \u001b[0;32mreturn\u001b[0m \u001b[0mCompositeAffine2D\u001b[0m\u001b[0;34m(\u001b[0m\u001b[0ma\u001b[0m\u001b[0;34m,\u001b[0m \u001b[0mb\u001b[0m\u001b[0;34m)\u001b[0m\u001b[0;34m\u001b[0m\u001b[0m\n\u001b[0;32m-> 2414\u001b[0;31m     \u001b[0;32mreturn\u001b[0m \u001b[0mCompositeGenericTransform\u001b[0m\u001b[0;34m(\u001b[0m\u001b[0ma\u001b[0m\u001b[0;34m,\u001b[0m \u001b[0mb\u001b[0m\u001b[0;34m)\u001b[0m\u001b[0;34m\u001b[0m\u001b[0m\n\u001b[0m\u001b[1;32m   2415\u001b[0m \u001b[0;34m\u001b[0m\u001b[0m\n\u001b[1;32m   2416\u001b[0m \u001b[0;34m\u001b[0m\u001b[0m\n",
      "\u001b[0;32m//anaconda/lib/python2.7/site-packages/matplotlib/transforms.pyc\u001b[0m in \u001b[0;36m__init__\u001b[0;34m(self, a, b, **kwargs)\u001b[0m\n\u001b[1;32m   2230\u001b[0m         \u001b[0mself\u001b[0m\u001b[0;34m.\u001b[0m\u001b[0m_a\u001b[0m \u001b[0;34m=\u001b[0m \u001b[0ma\u001b[0m\u001b[0;34m\u001b[0m\u001b[0m\n\u001b[1;32m   2231\u001b[0m         \u001b[0mself\u001b[0m\u001b[0;34m.\u001b[0m\u001b[0m_b\u001b[0m \u001b[0;34m=\u001b[0m \u001b[0mb\u001b[0m\u001b[0;34m\u001b[0m\u001b[0m\n\u001b[0;32m-> 2232\u001b[0;31m         \u001b[0mself\u001b[0m\u001b[0;34m.\u001b[0m\u001b[0mset_children\u001b[0m\u001b[0;34m(\u001b[0m\u001b[0ma\u001b[0m\u001b[0;34m,\u001b[0m \u001b[0mb\u001b[0m\u001b[0;34m)\u001b[0m\u001b[0;34m\u001b[0m\u001b[0m\n\u001b[0m\u001b[1;32m   2233\u001b[0m \u001b[0;34m\u001b[0m\u001b[0m\n\u001b[1;32m   2234\u001b[0m     \u001b[0mis_affine\u001b[0m \u001b[0;34m=\u001b[0m \u001b[0mproperty\u001b[0m\u001b[0;34m(\u001b[0m\u001b[0;32mlambda\u001b[0m \u001b[0mself\u001b[0m\u001b[0;34m:\u001b[0m \u001b[0mself\u001b[0m\u001b[0;34m.\u001b[0m\u001b[0m_a\u001b[0m\u001b[0;34m.\u001b[0m\u001b[0mis_affine\u001b[0m \u001b[0;32mand\u001b[0m \u001b[0mself\u001b[0m\u001b[0;34m.\u001b[0m\u001b[0m_b\u001b[0m\u001b[0;34m.\u001b[0m\u001b[0mis_affine\u001b[0m\u001b[0;34m)\u001b[0m\u001b[0;34m\u001b[0m\u001b[0m\n",
      "\u001b[0;32m//anaconda/lib/python2.7/site-packages/matplotlib/transforms.pyc\u001b[0m in \u001b[0;36mset_children\u001b[0;34m(self, *children)\u001b[0m\n\u001b[1;32m    159\u001b[0m                                             invalidating_node=self)\n\u001b[1;32m    160\u001b[0m \u001b[0;34m\u001b[0m\u001b[0m\n\u001b[0;32m--> 161\u001b[0;31m     \u001b[0;32mdef\u001b[0m \u001b[0mset_children\u001b[0m\u001b[0;34m(\u001b[0m\u001b[0mself\u001b[0m\u001b[0;34m,\u001b[0m \u001b[0;34m*\u001b[0m\u001b[0mchildren\u001b[0m\u001b[0;34m)\u001b[0m\u001b[0;34m:\u001b[0m\u001b[0;34m\u001b[0m\u001b[0m\n\u001b[0m\u001b[1;32m    162\u001b[0m         \"\"\"\n\u001b[1;32m    163\u001b[0m         \u001b[0mSet\u001b[0m \u001b[0mthe\u001b[0m \u001b[0mchildren\u001b[0m \u001b[0mof\u001b[0m \u001b[0mthe\u001b[0m \u001b[0mtransform\u001b[0m\u001b[0;34m,\u001b[0m \u001b[0mto\u001b[0m \u001b[0mlet\u001b[0m \u001b[0mthe\u001b[0m \u001b[0minvalidation\u001b[0m\u001b[0;34m\u001b[0m\u001b[0m\n",
      "\u001b[0;31mKeyboardInterrupt\u001b[0m: "
     ]
    },
    {
     "ename": "KeyboardInterrupt",
     "evalue": "",
     "output_type": "error",
     "traceback": [
      "Traceback (most recent call last):\n",
      "  File \"//anaconda/lib/python2.7/site-packages/ipykernel/ipkernel.py\", line 175, in do_execute\n    shell.run_cell(code, store_history=store_history, silent=silent)\n",
      "  File \"//anaconda/lib/python2.7/site-packages/IPython/core/interactiveshell.py\", line 2908, in run_cell\n    self.events.trigger('post_execute')\n",
      "  File \"//anaconda/lib/python2.7/site-packages/IPython/core/events.py\", line 74, in trigger\n    func(*args, **kwargs)\n",
      "  File \"//anaconda/lib/python2.7/site-packages/ipykernel/pylab/backend_inline.py\", line 113, in flush_figures\n    return show(True)\n",
      "  File \"//anaconda/lib/python2.7/site-packages/ipykernel/pylab/backend_inline.py\", line 36, in show\n    display(figure_manager.canvas.figure)\n",
      "  File \"//anaconda/lib/python2.7/site-packages/IPython/core/display.py\", line 159, in display\n    format_dict, md_dict = format(obj, include=include, exclude=exclude)\n",
      "  File \"//anaconda/lib/python2.7/site-packages/IPython/core/formatters.py\", line 175, in format\n    data = formatter(obj)\n",
      "  File \"<decorator-gen-9>\", line 2, in __call__\n",
      "  File \"//anaconda/lib/python2.7/site-packages/IPython/core/formatters.py\", line 220, in catch_format_error\n    r = method(self, *args, **kwargs)\n",
      "  File \"//anaconda/lib/python2.7/site-packages/IPython/core/formatters.py\", line 337, in __call__\n    return printer(obj)\n",
      "  File \"//anaconda/lib/python2.7/site-packages/IPython/core/pylabtools.py\", line 207, in <lambda>\n    png_formatter.for_type(Figure, lambda fig: print_figure(fig, 'png', **kwargs))\n",
      "  File \"//anaconda/lib/python2.7/site-packages/IPython/core/pylabtools.py\", line 117, in print_figure\n    fig.canvas.print_figure(bytes_io, **kw)\n",
      "  File \"//anaconda/lib/python2.7/site-packages/matplotlib/backend_bases.py\", line 2158, in print_figure\n    **kwargs)\n",
      "  File \"//anaconda/lib/python2.7/site-packages/matplotlib/backends/backend_agg.py\", line 521, in print_png\n    FigureCanvasAgg.draw(self)\n",
      "  File \"//anaconda/lib/python2.7/site-packages/matplotlib/backends/backend_agg.py\", line 469, in draw\n    self.figure.draw(self.renderer)\n",
      "  File \"//anaconda/lib/python2.7/site-packages/matplotlib/artist.py\", line 59, in draw_wrapper\n    draw(artist, renderer, *args, **kwargs)\n",
      "  File \"//anaconda/lib/python2.7/site-packages/matplotlib/figure.py\", line 1085, in draw\n    func(*args)\n",
      "  File \"//anaconda/lib/python2.7/site-packages/matplotlib/artist.py\", line 59, in draw_wrapper\n    draw(artist, renderer, *args, **kwargs)\n",
      "  File \"//anaconda/lib/python2.7/site-packages/matplotlib/axes/_base.py\", line 2110, in draw\n    a.draw(renderer)\n",
      "  File \"//anaconda/lib/python2.7/site-packages/matplotlib/artist.py\", line 59, in draw_wrapper\n    draw(artist, renderer, *args, **kwargs)\n",
      "  File \"//anaconda/lib/python2.7/site-packages/matplotlib/lines.py\", line 712, in draw\n    self._lineFunc = getattr(self, funcname)\n",
      "KeyboardInterrupt\n"
     ]
    }
   ],
   "source": [
    "sns.distplot(y, rug=True)"
   ]
  },
  {
   "cell_type": "code",
   "execution_count": 379,
   "metadata": {
    "collapsed": false
   },
   "outputs": [
    {
     "name": "stdout",
     "output_type": "stream",
     "text": [
      "82940\n",
      "82937\n"
     ]
    }
   ],
   "source": [
    "print len(y)\n",
    "print len(y[y < 200000])\n",
    "ynew = y  #[y < 150000]"
   ]
  },
  {
   "cell_type": "code",
   "execution_count": 380,
   "metadata": {
    "collapsed": false
   },
   "outputs": [
    {
     "name": "stdout",
     "output_type": "stream",
     "text": [
      "<class 'pandas.core.series.Series'>\n"
     ]
    },
    {
     "data": {
      "image/png": "[encoded data removed]",
      "text/plain": [
       "<matplotlib.figure.Figure at 0x1eb531610>"
      ]
     },
     "metadata": {},
     "output_type": "display_data"
    }
   ],
   "source": [
    "sns.distplot(ynew)\n",
    "print type(y)"
   ]
  },
  {
   "cell_type": "code",
   "execution_count": 407,
   "metadata": {
    "collapsed": false
   },
   "outputs": [
    {
     "name": "stdout",
     "output_type": "stream",
     "text": [
      "ERROR! Session/line number was not unique in database. History logging moved to new session 109\n"
     ]
    }
   ],
   "source": [
    "sd = pd.read_csv('sdfile2.txt')"
   ]
  },
  {
   "cell_type": "code",
   "execution_count": 408,
   "metadata": {
    "collapsed": false
   },
   "outputs": [
    {
     "data": {
      "text/html": [
       "<div>\n",
       "<table border=\"1\" class=\"dataframe\">\n",
       "  <thead>\n",
       "    <tr style=\"text-align: right;\">\n",
       "      <th></th>\n",
       "      <th>Unnamed: 0</th>\n",
       "      <th>yrs_experience</th>\n",
       "      <th>salary</th>\n",
       "      <th>latitude</th>\n",
       "      <th>longitude</th>\n",
       "      <th>m</th>\n",
       "      <th>st</th>\n",
       "      <th>sal.diff</th>\n",
       "      <th>sds</th>\n",
       "    </tr>\n",
       "  </thead>\n",
       "  <tbody>\n",
       "    <tr>\n",
       "      <th>0</th>\n",
       "      <td>1</td>\n",
       "      <td>20</td>\n",
       "      <td>108097</td>\n",
       "      <td>40.857112</td>\n",
       "      <td>-74.132324</td>\n",
       "      <td>85515.818831</td>\n",
       "      <td>12685.065821</td>\n",
       "      <td>22581.181169</td>\n",
       "      <td>1.780139</td>\n",
       "    </tr>\n",
       "    <tr>\n",
       "      <th>1</th>\n",
       "      <td>2</td>\n",
       "      <td>19</td>\n",
       "      <td>116747</td>\n",
       "      <td>40.857112</td>\n",
       "      <td>-74.132324</td>\n",
       "      <td>83702.720126</td>\n",
       "      <td>12333.485292</td>\n",
       "      <td>33044.279874</td>\n",
       "      <td>2.679233</td>\n",
       "    </tr>\n",
       "    <tr>\n",
       "      <th>2</th>\n",
       "      <td>3</td>\n",
       "      <td>3</td>\n",
       "      <td>61043</td>\n",
       "      <td>40.867243</td>\n",
       "      <td>-74.120725</td>\n",
       "      <td>55149.436823</td>\n",
       "      <td>8004.254857</td>\n",
       "      <td>5893.563177</td>\n",
       "      <td>0.736304</td>\n",
       "    </tr>\n",
       "    <tr>\n",
       "      <th>3</th>\n",
       "      <td>4</td>\n",
       "      <td>14</td>\n",
       "      <td>80240</td>\n",
       "      <td>40.251163</td>\n",
       "      <td>-74.653708</td>\n",
       "      <td>73320.533049</td>\n",
       "      <td>12659.516331</td>\n",
       "      <td>6919.466951</td>\n",
       "      <td>0.546582</td>\n",
       "    </tr>\n",
       "    <tr>\n",
       "      <th>4</th>\n",
       "      <td>5</td>\n",
       "      <td>31</td>\n",
       "      <td>86845</td>\n",
       "      <td>40.251163</td>\n",
       "      <td>-74.653708</td>\n",
       "      <td>90755.062500</td>\n",
       "      <td>12839.631268</td>\n",
       "      <td>-3910.062500</td>\n",
       "      <td>-0.304531</td>\n",
       "    </tr>\n",
       "  </tbody>\n",
       "</table>\n",
       "</div>"
      ],
      "text/plain": [
       "   Unnamed: 0  yrs_experience  salary   latitude  longitude             m  \\\n",
       "0           1              20  108097  40.857112 -74.132324  85515.818831   \n",
       "1           2              19  116747  40.857112 -74.132324  83702.720126   \n",
       "2           3               3   61043  40.867243 -74.120725  55149.436823   \n",
       "3           4              14   80240  40.251163 -74.653708  73320.533049   \n",
       "4           5              31   86845  40.251163 -74.653708  90755.062500   \n",
       "\n",
       "             st      sal.diff       sds  \n",
       "0  12685.065821  22581.181169  1.780139  \n",
       "1  12333.485292  33044.279874  2.679233  \n",
       "2   8004.254857   5893.563177  0.736304  \n",
       "3  12659.516331   6919.466951  0.546582  \n",
       "4  12839.631268  -3910.062500 -0.304531  "
      ]
     },
     "execution_count": 408,
     "metadata": {},
     "output_type": "execute_result"
    }
   ],
   "source": [
    "sd.head()"
   ]
  },
  {
   "cell_type": "code",
   "execution_count": 409,
   "metadata": {
    "collapsed": false
   },
   "outputs": [],
   "source": [
    "sd['sdRnd'] = np.floor(sd['sds'])"
   ]
  },
  {
   "cell_type": "code",
   "execution_count": 410,
   "metadata": {
    "collapsed": false
   },
   "outputs": [
    {
     "data": {
      "text/html": [
       "<div>\n",
       "<table border=\"1\" class=\"dataframe\">\n",
       "  <thead>\n",
       "    <tr style=\"text-align: right;\">\n",
       "      <th></th>\n",
       "      <th>Unnamed: 0</th>\n",
       "      <th>yrs_experience</th>\n",
       "      <th>salary</th>\n",
       "      <th>latitude</th>\n",
       "      <th>longitude</th>\n",
       "      <th>m</th>\n",
       "      <th>st</th>\n",
       "      <th>sal.diff</th>\n",
       "      <th>sds</th>\n",
       "      <th>sdRnd</th>\n",
       "    </tr>\n",
       "  </thead>\n",
       "  <tbody>\n",
       "    <tr>\n",
       "      <th>0</th>\n",
       "      <td>1</td>\n",
       "      <td>20</td>\n",
       "      <td>108097</td>\n",
       "      <td>40.857112</td>\n",
       "      <td>-74.132324</td>\n",
       "      <td>85515.818831</td>\n",
       "      <td>12685.065821</td>\n",
       "      <td>22581.181169</td>\n",
       "      <td>1.780139</td>\n",
       "      <td>1</td>\n",
       "    </tr>\n",
       "    <tr>\n",
       "      <th>1</th>\n",
       "      <td>2</td>\n",
       "      <td>19</td>\n",
       "      <td>116747</td>\n",
       "      <td>40.857112</td>\n",
       "      <td>-74.132324</td>\n",
       "      <td>83702.720126</td>\n",
       "      <td>12333.485292</td>\n",
       "      <td>33044.279874</td>\n",
       "      <td>2.679233</td>\n",
       "      <td>2</td>\n",
       "    </tr>\n",
       "    <tr>\n",
       "      <th>2</th>\n",
       "      <td>3</td>\n",
       "      <td>3</td>\n",
       "      <td>61043</td>\n",
       "      <td>40.867243</td>\n",
       "      <td>-74.120725</td>\n",
       "      <td>55149.436823</td>\n",
       "      <td>8004.254857</td>\n",
       "      <td>5893.563177</td>\n",
       "      <td>0.736304</td>\n",
       "      <td>0</td>\n",
       "    </tr>\n",
       "    <tr>\n",
       "      <th>3</th>\n",
       "      <td>4</td>\n",
       "      <td>14</td>\n",
       "      <td>80240</td>\n",
       "      <td>40.251163</td>\n",
       "      <td>-74.653708</td>\n",
       "      <td>73320.533049</td>\n",
       "      <td>12659.516331</td>\n",
       "      <td>6919.466951</td>\n",
       "      <td>0.546582</td>\n",
       "      <td>0</td>\n",
       "    </tr>\n",
       "    <tr>\n",
       "      <th>4</th>\n",
       "      <td>5</td>\n",
       "      <td>31</td>\n",
       "      <td>86845</td>\n",
       "      <td>40.251163</td>\n",
       "      <td>-74.653708</td>\n",
       "      <td>90755.062500</td>\n",
       "      <td>12839.631268</td>\n",
       "      <td>-3910.062500</td>\n",
       "      <td>-0.304531</td>\n",
       "      <td>-1</td>\n",
       "    </tr>\n",
       "  </tbody>\n",
       "</table>\n",
       "</div>"
      ],
      "text/plain": [
       "   Unnamed: 0  yrs_experience  salary   latitude  longitude             m  \\\n",
       "0           1              20  108097  40.857112 -74.132324  85515.818831   \n",
       "1           2              19  116747  40.857112 -74.132324  83702.720126   \n",
       "2           3               3   61043  40.867243 -74.120725  55149.436823   \n",
       "3           4              14   80240  40.251163 -74.653708  73320.533049   \n",
       "4           5              31   86845  40.251163 -74.653708  90755.062500   \n",
       "\n",
       "             st      sal.diff       sds  sdRnd  \n",
       "0  12685.065821  22581.181169  1.780139      1  \n",
       "1  12333.485292  33044.279874  2.679233      2  \n",
       "2   8004.254857   5893.563177  0.736304      0  \n",
       "3  12659.516331   6919.466951  0.546582      0  \n",
       "4  12839.631268  -3910.062500 -0.304531     -1  "
      ]
     },
     "execution_count": 410,
     "metadata": {},
     "output_type": "execute_result"
    }
   ],
   "source": [
    "sd.head()"
   ]
  },
  {
   "cell_type": "code",
   "execution_count": 411,
   "metadata": {
    "collapsed": true
   },
   "outputs": [],
   "source": [
    "sdrnd = sd.sdRnd"
   ]
  },
  {
   "cell_type": "code",
   "execution_count": 413,
   "metadata": {
    "collapsed": false
   },
   "outputs": [],
   "source": [
    "sdrndplt = np.unique(sdrnd, return_counts=True)"
   ]
  },
  {
   "cell_type": "code",
   "execution_count": 414,
   "metadata": {
    "collapsed": false
   },
   "outputs": [
    {
     "data": {
      "text/plain": [
       "<matplotlib.axes._subplots.AxesSubplot at 0x212b833d0>"
      ]
     },
     "execution_count": 414,
     "metadata": {},
     "output_type": "execute_result"
    },
    {
     "data": {
      "image/png": "[encoded data removed]",
      "text/plain": [
       "<matplotlib.figure.Figure at 0x21288ea10>"
      ]
     },
     "metadata": {},
     "output_type": "display_data"
    }
   ],
   "source": [
    "sns.barplot(sdrndplt[0], sdrndplt[1])"
   ]
  },
  {
   "cell_type": "code",
   "execution_count": 430,
   "metadata": {
    "collapsed": false
   },
   "outputs": [
    {
     "name": "stdout",
     "output_type": "stream",
     "text": [
      "[(-7.0, 2), (-6.0, 6), (-5.0, 79), (-4.0, 296), (-3.0, 639), (-2.0, 7935), (-1.0, 37912), (0.0, 24518), (1.0, 8643), (2.0, 2104), (3.0, 511), (4.0, 169), (5.0, 99), (6.0, 13), (7.0, 2), (8.0, 5), (9.0, 3), (10.0, 1), (12.0, 1), (nan, 1), (nan, 1)]\n",
      "806\n"
     ]
    }
   ],
   "source": [
    "print zip(sdrndplt[0], sdrndplt[1])\n",
    "print (511+169+99+13+14)\n"
   ]
  },
  {
   "cell_type": "code",
   "execution_count": 401,
   "metadata": {
    "collapsed": false
   },
   "outputs": [],
   "source": [
    "sd.sdRnd = sd.sdRnd.astype('category')"
   ]
  },
  {
   "cell_type": "code",
   "execution_count": 402,
   "metadata": {
    "collapsed": false
   },
   "outputs": [
    {
     "data": {
      "text/plain": [
       "<matplotlib.axes._subplots.AxesSubplot at 0x189b5f950>"
      ]
     },
     "execution_count": 402,
     "metadata": {},
     "output_type": "execute_result"
    },
    {
     "data": {
      "image/png": "[encoded data removed]",
      "text/plain": [
       "<matplotlib.figure.Figure at 0x189bc9f90>"
      ]
     },
     "metadata": {},
     "output_type": "display_data"
    }
   ],
   "source": [
    "sns.barplot(sd.sdRnd)"
   ]
  },
  {
   "cell_type": "code",
   "execution_count": null,
   "metadata": {
    "collapsed": true
   },
   "outputs": [],
   "source": []
  }
 ],
 "metadata": {
  "kernelspec": {
   "display_name": "Python 2",
   "language": "python",
   "name": "python2"
  },
  "language_info": {
   "codemirror_mode": {
    "name": "ipython",
    "version": 2
   },
   "file_extension": ".py",
   "mimetype": "text/x-python",
   "name": "python",
   "nbconvert_exporter": "python",
   "pygments_lexer": "ipython2",
   "version": "2.7.10"
  }
 },
 "nbformat": 4,
 "nbformat_minor": 0
}
