{
 "cells": [
  {
   "cell_type": "code",
   "execution_count": 51,
   "metadata": {
    "collapsed": true
   },
   "outputs": [],
   "source": [
    "import pandas as pd\n",
    "import numpy as np\n",
    "from sklearn import linear_model\n",
    "from sklearn import ensemble  #for random forest\n",
    "from sklearn.cross_validation import train_test_split"
   ]
  },
  {
   "cell_type": "code",
   "execution_count": 830,
   "metadata": {
    "collapsed": false
   },
   "outputs": [
    {
     "name": "stdout",
     "output_type": "stream",
     "text": [
      "(144158, 20) (2461, 7) (2662, 49)\n"
     ]
    }
   ],
   "source": [
    "#import the three data tables - employees.csv, headers.csv, public_schools.csv\n",
    "#and merge them by county,district and school codes\n",
    "employees_df = pd.read_csv(\"employees.csv\")\n",
    "headers_df = pd.read_csv(\"headers.csv\")\n",
    "schools_df = pd.read_csv(\"public_schools.csv\")\n",
    "print employees_df.shape, headers_df.shape, schools_df.shape"
   ]
  },
  {
   "cell_type": "code",
   "execution_count": 831,
   "metadata": {
    "collapsed": false
   },
   "outputs": [
    {
     "name": "stdout",
     "output_type": "stream",
     "text": [
      "(2568, 53)\n",
      "0\n",
      "[]\n"
     ]
    }
   ],
   "source": [
    "#clean up some of the values so that they can be joined with the school headers data:\n",
    "#employee text values do not have commas or apostrophes so remove them from the school data values\n",
    "headers_df.school = headers_df.school.str.replace(\"'\",'')\n",
    "headers_df.district = headers_df.district.str.replace(\"'\",'')\n",
    "schools_df.school_name = schools_df.school_name.str.replace(\"'\",'')\n",
    "schools_df.district_name = schools_df.district_name.str.replace(\"'\",'')\n",
    "\n",
    "#correct the fact that 7s appeared as CE in the employee file\n",
    "employees_df.school = employees_df.school.str.replace('RAHWAY CETH','RAHWAY 7TH')\n",
    "employees_df.school = employees_df.school.str.replace('ROOSEVELT SCHOOL #CE','ROOSEVELT SCHOOL #7')\n",
    "employees_df.school = employees_df.school.str.replace('ANTONIA PANTOJA SCHOOL NO. 2CE','ANTONIA PANTOJA SCHOOL NO. 27')\n",
    "employees_df.school = employees_df.school.str.replace('#1CE','#17')\n",
    "employees_df.school = employees_df.school.str.replace('SCHOOL 2CE','SCHOOL 27')\n",
    "employees_df.school = employees_df.school.str.replace('ULYSSES S. GRANT SCHOOL # CE','ULYSSES S. GRANT SCHOOL # 7')\n",
    "employees_df.school = employees_df.school.str.replace('SCHOOL CE','SCHOOL 7')\n",
    "employees_df.school = employees_df.school.str.replace('TERENCE C. REILLY SCHOOL # CE','TERENCE C. REILLY SCHOOL # 7')\n",
    "employees_df.school = employees_df.school.str.replace('SCHOOL # 1CE','SCHOOL # 17')\n",
    "employees_df.school = employees_df.school.str.replace('BELLEVILLE PSCE','BELLEVILLE PS7')\n",
    "\n",
    "#correct various mismatches in the data:\n",
    "employees_df.district = employees_df.district.str.replace(' VC',' VOCATIONAL')\n",
    "\n",
    "headers_df.school.loc[(headers_df.school == 'LINCOLN ELEMENTARY SCHOOL') & (headers_df.district == 'KEARNY TOWN')] \\\n",
    "                      = 'LINCOLN MIDDLE SCHOOL'\n",
    "headers_df.school.loc[(headers_df.school == 'SCHOOL OF SCIENCE TECHNOLOGY ENGG & MATHEMATICS') & \\\n",
    "                     (headers_df['district'] == 'PATERSON CITY')] \\\n",
    "                    = 'SCHOOL OF SCIENCE TECHNOLOGY ENGINEERING AND MATHEMATICS'\n",
    "\n",
    "schools_df.district_code.loc[(schools_df['school_name'] == 'LAMBERTVILLE PUBLIC SCHOOL')] = 2530\n",
    "schools_df.school_code.loc[(schools_df['school_name'] == 'LAMBERTVILLE PUBLIC SCHOOL')]= 50\n",
    "schools_df.school_code.loc[(schools_df['school_name'] == 'HENRY L. BONSALL FAMILY SCHOOL')] = 100\n",
    "schools_df.school_code.loc[(schools_df['school_name'] == 'FRANCIS X. MCGRAW ELEMENTARY')] = 230\n",
    "schools_df.school_code.loc[(schools_df['school_name'] == 'RAFAEL CORDERO MOLINA ELEMENTARY SCHOOL')] = 250\n",
    "schools_df.school_code.loc[(schools_df['school_name'] == 'JOHN GREENLEAF WHITTIER FAMILY SCHOOL')] = 340\n",
    "schools_df.district_code.loc[(schools_df['school_name'] == 'SOUTH HUNTERDON HIGH SCHOOL')] = 4890\n",
    "schools_df.district_code.loc[(schools_df['school_name'] == 'STOCKTON BOROUGH SCHOOL')] = 5050\n",
    "schools_df.school_code.loc[(schools_df['school_name'] == 'STOCKTON BOROUGH SCHOOL')]  = 50\n",
    "\n",
    "    \n",
    "headers_df = pd.merge(headers_df, schools_df, how='left', on=['county_code','district_code', 'school_code'])\n",
    "\n",
    "remaining = pd.DataFrame([\n",
    "    ['GRETTA R. OSTROVSKY MIDDLE SCHOOL',    -74.08466,     40.84146],\n",
    "    ['JR/SR HIGH SCHOOL',    -74.81260,     40.04495],\n",
    "    ['EAST CAMDEN MIDDLE SCHOOL',    -75.12285,     39.95576],\n",
    "    ['PYNE POYNT MIDDLE SCHOOL',    -75.12696,    39.93595],\n",
    "    ['STOCKTON BOROUGH SCHOOL DISTRICT',    -74.49987,     40.16706],\n",
    "    ['WEST AMWELL TOWNSHIP',   -74.11532,     40.91506],\n",
    "    ['MONUMENT ELEMENTARY SCHOOL',   -74.71268,     40.26977],\n",
    "    ['AUDREY W. CLARK ELEMENTARY SCHOOL',    -73.98236,     40.30576],\n",
    "    ['BOUND BROOK ELEMENTARY SCHOOL',    -74.47620,     40.58596],\n",
    "    ['VISIONS ACADEMY CHARTER HIGH SCHOOL',    -74.49987,     40.16706],\n",
    "    ['CENTRAL JERSEY ARTS CHARTER SCHOOL',   -75.50865,     39.66265],\n",
    "    ['GALLOWAY COMMUNITY CHARTER SCHOOL',    -74.49987,     40.16706]])\n",
    "remaining.columns = ['school','latitude','longitude']\n",
    "#print remaining\n",
    "for i in range(remaining.shape[0]):\n",
    "    headers_df.latitude.loc[headers_df['school'] == remaining.school.iloc[i]] = remaining.latitude.iloc[i]\n",
    "    headers_df.longitude.loc[headers_df['school'] == remaining.school.iloc[i]] = remaining.longitude.iloc[i]\n",
    "    \n",
    "print headers_df.shape\n",
    "probs = pd.isnull(headers_df.latitude).nonzero()[0]\n",
    "print len(probs)\n",
    "print probs\n",
    "headers_df.iloc[probs]\n",
    "\n",
    "headers_df.school.loc[headers_df.school == 'WEST MILFORD TOWNSHIP HIGH SCHOOL'] = 'WEST MILFORD HIGH SCHOOL'\n",
    "headers_df.school.loc[headers_df.school == 'HIGH POINT REGIONAL HS'] ='HIGH POINT REGIONAL HIGH SCHOOL'\n",
    "headers_df.school.loc[headers_df.school == 'SUMMIT SENIOR HIGH SCHOOL'] = 'SUMMIT HIGH SCHOOL'\n",
    "headers_df.school.loc[headers_df.school == 'HAMBURG BORO'] ='HAMBURG SCHOOL'\n",
    "headers_df.school.loc[headers_df.school == 'MAHWAH HIGH'] ='MAHWAH HIGH SCHOOL'\n",
    "headers_df.school.loc[headers_df.school == 'JOYCE KILMER'] = 'JOYCE KILMER SCHOOL'\n",
    "headers_df.school.loc[headers_df.school == 'BETSY ROSS'] = 'BETSY ROSS ELEMENTARY'\n",
    "headers_df.school.loc[headers_df.school == 'GEORGE WASHINGTON'] = 'GEORGE WASHINGTON SCHOOL'\n",
    "employees_df.school.loc[employees_df.school == 'BULINGTON CITY HIGH SCHOOL'] = 'BURLINGTON CITY HIGH SCHOOL'\n",
    "headers_df.school.loc[headers_df.school == 'CLEMENTON ELEMENTARY SCHOOL'] = 'CLEMENTON ELEMENTARY SCHOOL DISTRICT'\n",
    "headers_df.school.loc[headers_df.school == 'ALEXANDER DENBO SCHOOL'] = 'ALEXANDER DENBO/ALETTA CRICHTON SCHOOL'\n",
    "headers_df.school.loc[headers_df.school == 'SOMERDALE PARK SCHOOL'] = 'SOMERDALE SCHOOL DISTRICT'\n",
    "headers_df.school.loc[headers_df.school == 'MAURICE RIVER TOWNSHIP ELEMENTARY SCHOOL'] = 'MAURICE RIVER TOWNSHIP SCHOOL DISTRICT'\n",
    "headers_df.school.loc[headers_df.school == 'FREEDOM ACADEMY CHARTER SCHOOL'] = 'FREEDOM PREP CHARTER SCHOOL'\n",
    "headers_df.school.loc[headers_df.school == 'LINCOLN/ROOSEVELT SCHOOL'] = 'LINCOLN/ROOSEVELT SCHOOL DISTRICT'\n",
    "headers_df.school.loc[headers_df.school == 'NIXON ELEMENTARY SCHOOL'] = 'NIXON ELEMENTARY SCHOOL DISTRICT'\n",
    "headers_df.school.loc[headers_df.school == 'ROXBURY HIGH SCHOOL'] = 'ROXBURY HIGH SCHOOL DISTRICT'\n",
    "headers_df.school.loc[headers_df.school == 'KITTATINNY REGIONAL SCHOOL'] = 'KITTATINNY HIGH SCHOOL DISTRICT'\n",
    "\n",
    "#merge the salary data with the combined school datafiles\n",
    "salaries = pd.merge(employees_df, headers_df, how='left', on=['county','district', 'school'])\n",
    "\n"
   ]
  },
  {
   "cell_type": "code",
   "execution_count": 832,
   "metadata": {
    "collapsed": false
   },
   "outputs": [
    {
     "name": "stdout",
     "output_type": "stream",
     "text": [
      "(149196, 70)\n",
      "9026\n"
     ]
    },
    {
     "data": {
      "text/plain": [
       "array([    40,     41,     42, ..., 149097, 149103, 149126])"
      ]
     },
     "execution_count": 832,
     "metadata": {},
     "output_type": "execute_result"
    }
   ],
   "source": [
    "#check how many problem records (i.e. null latitudes) remain\n",
    "print salaries.shape\n",
    "probs = pd.isnull(salaries.latitude).nonzero()[0]\n",
    "print len(probs)\n",
    "salaries.iloc[probs]\n",
    "probs\n"
   ]
  },
  {
   "cell_type": "code",
   "execution_count": 833,
   "metadata": {
    "collapsed": false
   },
   "outputs": [
    {
     "name": "stdout",
     "output_type": "stream",
     "text": [
      "6474\n"
     ]
    }
   ],
   "source": [
    "#what to do with those DISTRICT OFFICE values in school?  \n",
    "#will impute the mean lat and long for the district and county.\n",
    "dist_office = salaries['school'].map(lambda x: x =='DISTRICT OFFICE')\n",
    "print sum(dist_office)"
   ]
  },
  {
   "cell_type": "code",
   "execution_count": 834,
   "metadata": {
    "collapsed": false
   },
   "outputs": [
    {
     "name": "stdout",
     "output_type": "stream",
     "text": [
      "6474\n",
      "[ 40  41  42  44  45  46  47  48  49  92  93  94  95 107 108 119 120 121\n",
      " 128 129]\n",
      "before set:  nan nan\n",
      "after set:  40.3288218554 -74.7970826145\n"
     ]
    }
   ],
   "source": [
    "avg_lat_per_county_dist = salaries[-dist_office].groupby(['county','district']).mean()\n",
    "\n",
    "salaries['county_district'] = zip(salaries.county, salaries.district)\n",
    "\n",
    "#get the indices of the district office records\n",
    "dist_office_idxs = dist_office.nonzero()[0]\n",
    "print len(dist_office_idxs)\n",
    "print dist_office_idxs[range(20)]\n",
    "print \"before set: \", salaries.latitude[41], salaries.longitude[41]\n",
    "#for each district office record, get the avg latitude for that county, district combination and put into a series\n",
    "#then do the same for longitude\n",
    "avg_lat_for_dist_office_recs = salaries.county_district.iloc[dist_office_idxs].map(lambda x: \\\n",
    "                                                               avg_lat_per_county_dist.latitude.loc[x])\n",
    "avg_long_for_dist_office_recs = salaries.county_district.iloc[dist_office_idxs].map(lambda x: \\\n",
    "                                                               avg_lat_per_county_dist.longitude.loc[x])\n",
    "\n",
    "salaries.latitude.iloc[dist_office_idxs] = avg_lat_for_dist_office_recs\n",
    "salaries.longitude.iloc[dist_office_idxs] = avg_long_for_dist_office_recs\n",
    "\n",
    "print \"after set: \", salaries.latitude[41], salaries.longitude[41]"
   ]
  },
  {
   "cell_type": "code",
   "execution_count": 835,
   "metadata": {
    "collapsed": false
   },
   "outputs": [
    {
     "name": "stdout",
     "output_type": "stream",
     "text": [
      "(149196, 71)\n",
      "2564\n"
     ]
    }
   ],
   "source": [
    "#check how many problem records (i.e. null latitudes) remain\n",
    "print salaries.shape\n",
    "probs_after = pd.isnull(salaries.latitude).nonzero()[0]\n",
    "print len(probs_after)\n",
    "#probs_after\n"
   ]
  },
  {
   "cell_type": "code",
   "execution_count": 829,
   "metadata": {
    "collapsed": false
   },
   "outputs": [
    {
     "name": "stdout",
     "output_type": "stream",
     "text": [
      "here:\n",
      "2564 [   169   2225   3780 ..., 149097 149103 149126]\n",
      "ex:  ('PASSAIC CO ED SERV COMM', 'HOPE ACADEMY')\n",
      "before setd:  nan nan\n",
      "before setd 2225:  nan nan\n",
      "2564\n",
      "2564\n",
      "after setd:  1122    40.869868\n",
      "Name: latitude, dtype: float64 1122   -74.125379\n",
      "Name: longitude, dtype: float64\n",
      "after setd 2225:  Series([], Name: latitude, dtype: float64) Series([], Name: longitude, dtype: float64)\n",
      "0 []\n"
     ]
    }
   ],
   "source": [
    "#this doesn't work so ignoring for now.  The point was to\n",
    "#see if any of the school names in employee can be found in public_schools.csv if they were not found in header.csv\n",
    "schools_df['district_school'] = zip(schools_df.district_name,schools_df.school_name)\n",
    "#print schools_df.loc[(schools_df.district_name == 'PASSAIC CITY SCHOOL DISTRICT') & (schools_df.school_name == 'MARIO DRAGO SCHOOL # 3')]\n",
    "print \"here:\"\n",
    "#print schools_df.loc[(schools_df.district_name == 'PASSAIC CO ED SERV COMM') & (schools_df.school_name == 'HOPE ACADEMY')]\n",
    "\n",
    "salaries['district_school'] = zip(salaries.district, salaries.school)\n",
    "\n",
    "#get the indices of the null latitude records\n",
    "null_lat_idxs = pd.isnull(salaries.latitude).nonzero()[0]\n",
    "print len(null_lat_idxs), null_lat_idxs\n",
    "print \"ex: \", salaries.district_school.iloc[169]\n",
    "print \"before setd: \", salaries.latitude.iloc[169], salaries.longitude.iloc[169]\n",
    "print \"before setd 2225: \", salaries.latitude.iloc[2225], salaries.longitude.iloc[2225]\n",
    "#for each null latitude record, get the latitude for that district and school combination in schools_df\n",
    "#and put into a series\n",
    "#then do the same for longitude\n",
    "new_lats_for_null_lat_recs = salaries.district_school.iloc[null_lat_idxs].map(lambda x: \\\n",
    "                                                    schools_df.latitude.loc[schools_df.school_name == x[1]])\n",
    "print len(new_lats_for_null_lat_recs)\n",
    "new_longs_for_null_long_recs = salaries.district_school.iloc[null_lat_idxs].map(lambda x: \\\n",
    "                                                    schools_df.longitude.loc[schools_df.school_name == x[1]])\n",
    "\n",
    "print len(new_longs_for_null_long_recs)\n",
    "salaries.latitude.iloc[null_lat_idxs] = new_lats_for_null_lat_recs\n",
    "salaries.longitude.iloc[null_lat_idxs] = new_longs_for_null_long_recs\n",
    "\n",
    "print \"after setd: \", salaries.latitude.iloc[169], salaries.longitude.iloc[169]\n",
    "print \"after setd 2225: \", salaries.latitude.iloc[2225], salaries.longitude.iloc[2225]\n",
    "null_lat_idxs = pd.isnull(salaries.latitude).nonzero()[0]\n",
    "print len(null_lat_idxs), null_lat_idxs"
   ]
  },
  {
   "cell_type": "code",
   "execution_count": 205,
   "metadata": {
    "collapsed": false
   },
   "outputs": [],
   "source": [
    "#salaries.max()"
   ]
  },
  {
   "cell_type": "code",
   "execution_count": 206,
   "metadata": {
    "collapsed": false
   },
   "outputs": [],
   "source": [
    "#salaries.min()"
   ]
  },
  {
   "cell_type": "code",
   "execution_count": 711,
   "metadata": {
    "collapsed": false
   },
   "outputs": [],
   "source": [
    "#print salaries.job_name.unique()"
   ]
  },
  {
   "cell_type": "code",
   "execution_count": 836,
   "metadata": {
    "collapsed": false
   },
   "outputs": [],
   "source": [
    "#clean up the X values in classes_taught\n",
    "#so that I can convert the column to int:\n",
    "salaries.classes_taught.loc[salaries.classes_taught > 'A'] = '99'\n"
   ]
  },
  {
   "cell_type": "code",
   "execution_count": 208,
   "metadata": {
    "collapsed": false
   },
   "outputs": [
    {
     "name": "stdout",
     "output_type": "stream",
     "text": [
      "['5' nan '1' '6' '7' '3' '2' '4' '99' '13' '12' '15' '24' '21' '14' '8'\n",
      " '18' '26' '11' '20' '22' '10' '9' '35' '31' '25' '29' '30' '17' '19' '27'\n",
      " '28' '38' '23' '16' '32' '40' '39' '36' '37' '33' '34']\n",
      "42\n"
     ]
    }
   ],
   "source": [
    "print salaries.Classes_Taught.unique()\n",
    "print salaries.Classes_Taught.unique().size"
   ]
  },
  {
   "cell_type": "code",
   "execution_count": 837,
   "metadata": {
    "collapsed": false
   },
   "outputs": [],
   "source": [
    "#not sure what to do with nan classes_taught, can set them to 0 if we want:\n",
    "nan_idxs = pd.isnull(salaries.classes_taught).nonzero()[0]\n",
    "nan_idxs\n",
    "salaries.classes_taught.iloc[nan_idxs] = 0\n",
    "salaries.classes_taught = salaries.classes_taught.astype(int)"
   ]
  },
  {
   "cell_type": "code",
   "execution_count": 695,
   "metadata": {
    "collapsed": false
   },
   "outputs": [
    {
     "name": "stdout",
     "output_type": "stream",
     "text": [
      "[ 0  1 20 31 15 12  7  5  6  2  3 11  4  8 21 10 17  9 23 14 24 16 32 25 13\n",
      " 18 19 27 34 28 26 22 36 29 40 30 33 35 99 39 38 37]\n",
      "42\n"
     ]
    }
   ],
   "source": [
    "print salaries.classes_taught.unique()\n",
    "print salaries.classes_taught.unique().size"
   ]
  },
  {
   "cell_type": "code",
   "execution_count": 838,
   "metadata": {
    "collapsed": false
   },
   "outputs": [
    {
     "name": "stdout",
     "output_type": "stream",
     "text": [
      "425\n",
      "[23610 23687 23689 23690 23701 23705 23706 23708 23945 23946 23947 23948\n",
      " 23949 23950 23951 24027 24028 24029 24030 24074]\n",
      "before set:  99 0\n",
      "after set:  2 0\n"
     ]
    }
   ],
   "source": [
    "#will impute the X(now 99) values with mean classes_taught for the job name.\n",
    "criterion = salaries.classes_taught.map(lambda x: x == 99) \n",
    "print sum(criterion)\n",
    "avg_num_classes_per_job = salaries[-criterion].groupby(['job_name']).mean()\n",
    "#print type(avg_num_classes_per_job)\n",
    "#print avg_num_classes_per_job.head(5)\n",
    "#get the indices of the X records\n",
    "X_idxs = criterion.nonzero()[0]\n",
    "print X_idxs[range(20)]\n",
    "print \"before set: \", salaries.classes_taught[24028], salaries.classes_taught[1]\n",
    "#for each X record, get the avg classes for that job name and put into a series\n",
    "avg_num_classes_for_X_recs = salaries.job_name.iloc[X_idxs].map(lambda x: \\\n",
    "                                                                round(avg_num_classes_per_job.classes_taught.loc[x]))\n",
    "#print avg_num_classes_for_X_recs.shape\n",
    "salaries.classes_taught.iloc[X_idxs] = avg_num_classes_for_X_recs\n",
    "print \"after set: \", salaries.classes_taught[24028], salaries.classes_taught[1]"
   ]
  },
  {
   "cell_type": "code",
   "execution_count": 841,
   "metadata": {
    "collapsed": false
   },
   "outputs": [
    {
     "name": "stdout",
     "output_type": "stream",
     "text": [
      "[ 0  1 20 31 15 12  7  5  6  2  3 11  4  8 21 10 17  9 23 14 24 16 32 25 13\n",
      " 18 19 27 34 28 26 22 36 29 40 30 33 35 39 38 37]\n",
      "41\n"
     ]
    }
   ],
   "source": [
    "print salaries.classes_taught.unique()\n",
    "print salaries.classes_taught.unique().size"
   ]
  },
  {
   "cell_type": "code",
   "execution_count": 701,
   "metadata": {
    "collapsed": false
   },
   "outputs": [],
   "source": [
    "#print salaries.fte.unique()\n",
    "#print salaries.fte.unique().size"
   ]
  },
  {
   "cell_type": "code",
   "execution_count": 49,
   "metadata": {
    "collapsed": false
   },
   "outputs": [
    {
     "data": {
      "text/plain": [
       "0"
      ]
     },
     "execution_count": 49,
     "metadata": {},
     "output_type": "execute_result"
    }
   ],
   "source": [
    "#salaries.duplicated().sum()"
   ]
  },
  {
   "cell_type": "code",
   "execution_count": 842,
   "metadata": {
    "collapsed": false
   },
   "outputs": [
    {
     "name": "stdout",
     "output_type": "stream",
     "text": [
      "(119356, 71)\n",
      "(29840, 71)\n"
     ]
    }
   ],
   "source": [
    "#divide salary data into train and test:\n",
    "sals_train, sals_test = train_test_split(salaries, test_size=0.20, random_state=21)\n",
    "print sals_train.shape\n",
    "print sals_test.shape"
   ]
  },
  {
   "cell_type": "code",
   "execution_count": null,
   "metadata": {
    "collapsed": true
   },
   "outputs": [],
   "source": []
  },
  {
   "cell_type": "code",
   "execution_count": null,
   "metadata": {
    "collapsed": true
   },
   "outputs": [],
   "source": []
  }
 ],
 "metadata": {
  "kernelspec": {
   "display_name": "Python 2",
   "language": "python",
   "name": "python2"
  },
  "language_info": {
   "codemirror_mode": {
    "name": "ipython",
    "version": 2
   },
   "file_extension": ".py",
   "mimetype": "text/x-python",
   "name": "python",
   "nbconvert_exporter": "python",
   "pygments_lexer": "ipython2",
   "version": "2.7.10"
  }
 },
 "nbformat": 4,
 "nbformat_minor": 0
}
